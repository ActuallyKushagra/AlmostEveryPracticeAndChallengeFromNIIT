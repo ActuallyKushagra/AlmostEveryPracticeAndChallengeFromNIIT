{
 "cells": [
  {
   "cell_type": "code",
   "execution_count": 23,
   "id": "1ec09f6c",
   "metadata": {},
   "outputs": [],
   "source": [
    "import mysql.connector as sql\n",
    "import pandas as pd\n",
    "import numpy as np\n",
    "import matplotlib.pyplot as plt\n",
    "from sqlalchemy import create_engine\n",
    "import warnings\n",
    "warnings.filterwarnings('ignore')"
   ]
  },
  {
   "cell_type": "code",
   "execution_count": 11,
   "id": "2b019478",
   "metadata": {},
   "outputs": [],
   "source": [
    "db = sql.connect(host = 'localhost', user = 'root', password = 'Bastards', database = 'hr')"
   ]
  },
  {
   "cell_type": "code",
   "execution_count": 12,
   "id": "6a396f02",
   "metadata": {},
   "outputs": [],
   "source": [
    "mycursor = db.cursor()"
   ]
  },
  {
   "cell_type": "code",
   "execution_count": null,
   "id": "63a7d920",
   "metadata": {},
   "outputs": [],
   "source": []
  },
  {
   "cell_type": "code",
   "execution_count": 13,
   "id": "5e2d77c8",
   "metadata": {},
   "outputs": [
    {
     "data": {
      "text/plain": [
       "[('Belgium', 'Europe'),\n",
       " ('Switzerland', 'Europe'),\n",
       " ('Germany', 'Europe'),\n",
       " ('Denmark', 'Europe'),\n",
       " ('France', 'Europe'),\n",
       " ('Italy', 'Europe'),\n",
       " ('Netherlands', 'Europe'),\n",
       " ('United Kingdom', 'Europe'),\n",
       " ('Argentina', 'Americas'),\n",
       " ('Brazil', 'Americas'),\n",
       " ('Canada', 'Americas'),\n",
       " ('Mexico', 'Americas'),\n",
       " ('United States of America', 'Americas'),\n",
       " ('Australia', 'Asia'),\n",
       " ('China', 'Asia'),\n",
       " ('HongKong', 'Asia'),\n",
       " ('India', 'Asia'),\n",
       " ('Japan', 'Asia'),\n",
       " ('Singapore', 'Asia'),\n",
       " ('Egypt', 'Middle East and Africa'),\n",
       " ('Israel', 'Middle East and Africa'),\n",
       " ('Kuwait', 'Middle East and Africa'),\n",
       " ('Nigeria', 'Middle East and Africa'),\n",
       " ('Zambia', 'Middle East and Africa'),\n",
       " ('Zimbabwe', 'Middle East and Africa')]"
      ]
     },
     "execution_count": 13,
     "metadata": {},
     "output_type": "execute_result"
    }
   ],
   "source": [
    "# task 1 python + SQL query to fetch the names and regions of countries\n",
    "\n",
    "mycursor.execute(\"select country_name, region_name from countries join regions on countries.region_id = regions.region_id\")\n",
    "mycursor.fetchall()"
   ]
  },
  {
   "cell_type": "code",
   "execution_count": 14,
   "id": "8fa1a276",
   "metadata": {},
   "outputs": [],
   "source": [
    "# task 2 part 1 Visualize city and countrywise count  of emplyees without using joins and push the generated dataframe to MySQL\n",
    "\n",
    "DF1 = pd.read_sql_query(\"select employee_id, department_id from employees\", db)\n",
    "DF2 = pd.read_sql_query(\"select department_id, location_id from departments\", db)\n",
    "DF3 = pd.read_sql_query(\"select location_id, country_id from locations\", db)\n",
    "DF4 = pd.read_sql_query(\"select country_id, country_name from countries\", db)"
   ]
  },
  {
   "cell_type": "code",
   "execution_count": 15,
   "id": "0970fdef",
   "metadata": {},
   "outputs": [
    {
     "data": {
      "text/html": [
       "<div>\n",
       "<style scoped>\n",
       "    .dataframe tbody tr th:only-of-type {\n",
       "        vertical-align: middle;\n",
       "    }\n",
       "\n",
       "    .dataframe tbody tr th {\n",
       "        vertical-align: top;\n",
       "    }\n",
       "\n",
       "    .dataframe thead th {\n",
       "        text-align: right;\n",
       "    }\n",
       "</style>\n",
       "<table border=\"1\" class=\"dataframe\">\n",
       "  <thead>\n",
       "    <tr style=\"text-align: right;\">\n",
       "      <th></th>\n",
       "      <th>employee_id</th>\n",
       "      <th>department_id</th>\n",
       "      <th>location_id</th>\n",
       "    </tr>\n",
       "  </thead>\n",
       "  <tbody>\n",
       "    <tr>\n",
       "      <th>0</th>\n",
       "      <td>200</td>\n",
       "      <td>10.0</td>\n",
       "      <td>1700</td>\n",
       "    </tr>\n",
       "    <tr>\n",
       "      <th>1</th>\n",
       "      <td>201</td>\n",
       "      <td>20.0</td>\n",
       "      <td>1800</td>\n",
       "    </tr>\n",
       "    <tr>\n",
       "      <th>2</th>\n",
       "      <td>202</td>\n",
       "      <td>20.0</td>\n",
       "      <td>1800</td>\n",
       "    </tr>\n",
       "    <tr>\n",
       "      <th>3</th>\n",
       "      <td>114</td>\n",
       "      <td>30.0</td>\n",
       "      <td>1700</td>\n",
       "    </tr>\n",
       "    <tr>\n",
       "      <th>4</th>\n",
       "      <td>115</td>\n",
       "      <td>30.0</td>\n",
       "      <td>1700</td>\n",
       "    </tr>\n",
       "    <tr>\n",
       "      <th>...</th>\n",
       "      <td>...</td>\n",
       "      <td>...</td>\n",
       "      <td>...</td>\n",
       "    </tr>\n",
       "    <tr>\n",
       "      <th>101</th>\n",
       "      <td>111</td>\n",
       "      <td>100.0</td>\n",
       "      <td>1700</td>\n",
       "    </tr>\n",
       "    <tr>\n",
       "      <th>102</th>\n",
       "      <td>112</td>\n",
       "      <td>100.0</td>\n",
       "      <td>1700</td>\n",
       "    </tr>\n",
       "    <tr>\n",
       "      <th>103</th>\n",
       "      <td>113</td>\n",
       "      <td>100.0</td>\n",
       "      <td>1700</td>\n",
       "    </tr>\n",
       "    <tr>\n",
       "      <th>104</th>\n",
       "      <td>205</td>\n",
       "      <td>110.0</td>\n",
       "      <td>1700</td>\n",
       "    </tr>\n",
       "    <tr>\n",
       "      <th>105</th>\n",
       "      <td>206</td>\n",
       "      <td>110.0</td>\n",
       "      <td>1700</td>\n",
       "    </tr>\n",
       "  </tbody>\n",
       "</table>\n",
       "<p>106 rows × 3 columns</p>\n",
       "</div>"
      ],
      "text/plain": [
       "     employee_id  department_id  location_id\n",
       "0            200           10.0         1700\n",
       "1            201           20.0         1800\n",
       "2            202           20.0         1800\n",
       "3            114           30.0         1700\n",
       "4            115           30.0         1700\n",
       "..           ...            ...          ...\n",
       "101          111          100.0         1700\n",
       "102          112          100.0         1700\n",
       "103          113          100.0         1700\n",
       "104          205          110.0         1700\n",
       "105          206          110.0         1700\n",
       "\n",
       "[106 rows x 3 columns]"
      ]
     },
     "execution_count": 15,
     "metadata": {},
     "output_type": "execute_result"
    }
   ],
   "source": [
    "# task 2 part 2\n",
    "\n",
    "DFA = pd.merge(DF1, DF2)\n",
    "DFA"
   ]
  },
  {
   "cell_type": "code",
   "execution_count": 16,
   "id": "01ae7221",
   "metadata": {},
   "outputs": [
    {
     "data": {
      "text/html": [
       "<div>\n",
       "<style scoped>\n",
       "    .dataframe tbody tr th:only-of-type {\n",
       "        vertical-align: middle;\n",
       "    }\n",
       "\n",
       "    .dataframe tbody tr th {\n",
       "        vertical-align: top;\n",
       "    }\n",
       "\n",
       "    .dataframe thead th {\n",
       "        text-align: right;\n",
       "    }\n",
       "</style>\n",
       "<table border=\"1\" class=\"dataframe\">\n",
       "  <thead>\n",
       "    <tr style=\"text-align: right;\">\n",
       "      <th></th>\n",
       "      <th>employee_id</th>\n",
       "      <th>department_id</th>\n",
       "      <th>location_id</th>\n",
       "      <th>country_id</th>\n",
       "    </tr>\n",
       "  </thead>\n",
       "  <tbody>\n",
       "    <tr>\n",
       "      <th>0</th>\n",
       "      <td>200</td>\n",
       "      <td>10.0</td>\n",
       "      <td>1700</td>\n",
       "      <td>US</td>\n",
       "    </tr>\n",
       "    <tr>\n",
       "      <th>1</th>\n",
       "      <td>114</td>\n",
       "      <td>30.0</td>\n",
       "      <td>1700</td>\n",
       "      <td>US</td>\n",
       "    </tr>\n",
       "    <tr>\n",
       "      <th>2</th>\n",
       "      <td>115</td>\n",
       "      <td>30.0</td>\n",
       "      <td>1700</td>\n",
       "      <td>US</td>\n",
       "    </tr>\n",
       "    <tr>\n",
       "      <th>3</th>\n",
       "      <td>116</td>\n",
       "      <td>30.0</td>\n",
       "      <td>1700</td>\n",
       "      <td>US</td>\n",
       "    </tr>\n",
       "    <tr>\n",
       "      <th>4</th>\n",
       "      <td>117</td>\n",
       "      <td>30.0</td>\n",
       "      <td>1700</td>\n",
       "      <td>US</td>\n",
       "    </tr>\n",
       "    <tr>\n",
       "      <th>...</th>\n",
       "      <td>...</td>\n",
       "      <td>...</td>\n",
       "      <td>...</td>\n",
       "      <td>...</td>\n",
       "    </tr>\n",
       "    <tr>\n",
       "      <th>101</th>\n",
       "      <td>174</td>\n",
       "      <td>80.0</td>\n",
       "      <td>2500</td>\n",
       "      <td>UK</td>\n",
       "    </tr>\n",
       "    <tr>\n",
       "      <th>102</th>\n",
       "      <td>175</td>\n",
       "      <td>80.0</td>\n",
       "      <td>2500</td>\n",
       "      <td>UK</td>\n",
       "    </tr>\n",
       "    <tr>\n",
       "      <th>103</th>\n",
       "      <td>176</td>\n",
       "      <td>80.0</td>\n",
       "      <td>2500</td>\n",
       "      <td>UK</td>\n",
       "    </tr>\n",
       "    <tr>\n",
       "      <th>104</th>\n",
       "      <td>177</td>\n",
       "      <td>80.0</td>\n",
       "      <td>2500</td>\n",
       "      <td>UK</td>\n",
       "    </tr>\n",
       "    <tr>\n",
       "      <th>105</th>\n",
       "      <td>179</td>\n",
       "      <td>80.0</td>\n",
       "      <td>2500</td>\n",
       "      <td>UK</td>\n",
       "    </tr>\n",
       "  </tbody>\n",
       "</table>\n",
       "<p>106 rows × 4 columns</p>\n",
       "</div>"
      ],
      "text/plain": [
       "     employee_id  department_id  location_id country_id\n",
       "0            200           10.0         1700         US\n",
       "1            114           30.0         1700         US\n",
       "2            115           30.0         1700         US\n",
       "3            116           30.0         1700         US\n",
       "4            117           30.0         1700         US\n",
       "..           ...            ...          ...        ...\n",
       "101          174           80.0         2500         UK\n",
       "102          175           80.0         2500         UK\n",
       "103          176           80.0         2500         UK\n",
       "104          177           80.0         2500         UK\n",
       "105          179           80.0         2500         UK\n",
       "\n",
       "[106 rows x 4 columns]"
      ]
     },
     "execution_count": 16,
     "metadata": {},
     "output_type": "execute_result"
    }
   ],
   "source": [
    "# task 2 part 3\n",
    "\n",
    "DFAB = pd.merge(DFA, DF3)\n",
    "DFAB"
   ]
  },
  {
   "cell_type": "code",
   "execution_count": 17,
   "id": "97eccdd3",
   "metadata": {},
   "outputs": [
    {
     "data": {
      "text/html": [
       "<div>\n",
       "<style scoped>\n",
       "    .dataframe tbody tr th:only-of-type {\n",
       "        vertical-align: middle;\n",
       "    }\n",
       "\n",
       "    .dataframe tbody tr th {\n",
       "        vertical-align: top;\n",
       "    }\n",
       "\n",
       "    .dataframe thead th {\n",
       "        text-align: right;\n",
       "    }\n",
       "</style>\n",
       "<table border=\"1\" class=\"dataframe\">\n",
       "  <thead>\n",
       "    <tr style=\"text-align: right;\">\n",
       "      <th></th>\n",
       "      <th>employee_id</th>\n",
       "    </tr>\n",
       "    <tr>\n",
       "      <th>country_name</th>\n",
       "      <th></th>\n",
       "    </tr>\n",
       "  </thead>\n",
       "  <tbody>\n",
       "    <tr>\n",
       "      <th>Canada</th>\n",
       "      <td>2</td>\n",
       "    </tr>\n",
       "    <tr>\n",
       "      <th>Germany</th>\n",
       "      <td>1</td>\n",
       "    </tr>\n",
       "    <tr>\n",
       "      <th>United Kingdom</th>\n",
       "      <td>35</td>\n",
       "    </tr>\n",
       "    <tr>\n",
       "      <th>United States of America</th>\n",
       "      <td>68</td>\n",
       "    </tr>\n",
       "  </tbody>\n",
       "</table>\n",
       "</div>"
      ],
      "text/plain": [
       "                          employee_id\n",
       "country_name                         \n",
       "Canada                              2\n",
       "Germany                             1\n",
       "United Kingdom                     35\n",
       "United States of America           68"
      ]
     },
     "execution_count": 17,
     "metadata": {},
     "output_type": "execute_result"
    }
   ],
   "source": [
    "# task 2 part 4\n",
    "\n",
    "DFALL = pd.merge(DFAB, DF4)\n",
    "\n",
    "DFF = DFALL.groupby(by = 'country_name')[['employee_id']].count()\n",
    "DFF"
   ]
  },
  {
   "cell_type": "code",
   "execution_count": 18,
   "id": "7c5281f2",
   "metadata": {},
   "outputs": [
    {
     "data": {
      "text/plain": [
       "4"
      ]
     },
     "execution_count": 18,
     "metadata": {},
     "output_type": "execute_result"
    }
   ],
   "source": [
    "# task 2 part 5\n",
    "\n",
    "hostname = \"localhost\"\n",
    "dbname = \"hr\"\n",
    "username = 'root'\n",
    "password = 'Bastards'\n",
    "\n",
    "engine=create_engine(f\"mysql+pymysql://{username}:{password}@{hostname}/{dbname}\")\n",
    "\n",
    "DFF.to_sql(\"CountryWiseEmpCount\" , engine, index = False)\n"
   ]
  },
  {
   "cell_type": "code",
   "execution_count": 36,
   "id": "d999658f",
   "metadata": {},
   "outputs": [
    {
     "data": {
      "image/png": "[encoded data removed]",
      "text/plain": [
       "<Figure size 720x360 with 1 Axes>"
      ]
     },
     "metadata": {
      "needs_background": "light"
     },
     "output_type": "display_data"
    }
   ],
   "source": [
    "# task 3 Visual representation of employee count according to city and country\n",
    "\n",
    "t3 = pd.read_sql_query(\"select city,location_id from locations\", db)\n",
    "t3a = pd.merge(DFALL, t3)\n",
    "t3b = t3a.groupby(by='city')[['employee_id']].count().sort_values(by='employee_id',ascending=False)\n",
    "t3b.plot(kind = 'bar', figsize = (10, 5), ylabel = 'Employee Count', title = 'Employee count by city')\n",
    "plt.xticks(rotation=45, ha='right');"
   ]
  },
  {
   "cell_type": "code",
   "execution_count": 35,
   "id": "a473b23e",
   "metadata": {},
   "outputs": [
    {
     "data": {
      "image/png": "[encoded data removed]",
      "text/plain": [
       "<Figure size 720x360 with 1 Axes>"
      ]
     },
     "metadata": {
      "needs_background": "light"
     },
     "output_type": "display_data"
    }
   ],
   "source": [
    "t3c = t3a.groupby(by='country_name')[['employee_id']].count().sort_values(by='employee_id',ascending=False)\n",
    "t3c.plot(kind = 'bar', figsize = (10, 5), ylabel = 'Employee count', title = 'Employee count by country')\n",
    "plt.xticks(rotation=45, ha='right');"
   ]
  },
  {
   "cell_type": "code",
   "execution_count": null,
   "id": "f630c2dd",
   "metadata": {},
   "outputs": [],
   "source": []
  },
  {
   "cell_type": "code",
   "execution_count": null,
   "id": "99f11cf3",
   "metadata": {},
   "outputs": [],
   "source": []
  }
 ],
 "metadata": {
  "kernelspec": {
   "display_name": "Python 3 (ipykernel)",
   "language": "python",
   "name": "python3"
  },
  "language_info": {
   "codemirror_mode": {
    "name": "ipython",
    "version": 3
   },
   "file_extension": ".py",
   "mimetype": "text/x-python",
   "name": "python",
   "nbconvert_exporter": "python",
   "pygments_lexer": "ipython3",
   "version": "3.9.12"
  }
 },
 "nbformat": 4,
 "nbformat_minor": 5
}
