{
 "cells": [
  {
   "cell_type": "code",
   "execution_count": 1,
   "id": "d9c8fd0f",
   "metadata": {},
   "outputs": [],
   "source": [
    "import numpy as np\n",
    "import pandas as pd\n",
    "import warnings\n",
    "warnings.filterwarnings('ignore')"
   ]
  },
  {
   "cell_type": "code",
   "execution_count": null,
   "id": "61ad2a83",
   "metadata": {},
   "outputs": [],
   "source": []
  },
  {
   "cell_type": "code",
   "execution_count": 2,
   "id": "78a1012d",
   "metadata": {},
   "outputs": [
    {
     "name": "stdout",
     "output_type": "stream",
     "text": [
      "101    31872\n",
      "102    39035\n",
      "103    34968\n",
      "104    31837\n",
      "105    48789\n",
      "106    32199\n",
      "107    42564\n",
      "108    42368\n",
      "109    44948\n",
      "110    31526\n",
      "111    48509\n",
      "112    41470\n",
      "113    34416\n",
      "114    44456\n",
      "115    49205\n",
      "116    33637\n",
      "117    44306\n",
      "118    41145\n",
      "119    31675\n",
      "120    33163\n",
      "dtype: int32\n"
     ]
    }
   ],
   "source": [
    "# task 1 Generate random prices of 20 cars with index values ranging from 101 to 120\n",
    "\n",
    "carprice = pd.Series(np.random.randint(30000, 50000, 20), index = np.arange(101, 121))\n",
    "print(carprice)"
   ]
  },
  {
   "cell_type": "code",
   "execution_count": 3,
   "id": "f2d6b7c7",
   "metadata": {},
   "outputs": [
    {
     "name": "stdout",
     "output_type": "stream",
     "text": [
      "10\n"
     ]
    }
   ],
   "source": [
    "# task 2 count of cars with price greater than 40000\n",
    "\n",
    "smithcar40k = carprice[carprice > 40000]\n",
    "print(np.size(smithcar40k))"
   ]
  },
  {
   "cell_type": "code",
   "execution_count": 12,
   "id": "e614316f",
   "metadata": {},
   "outputs": [
    {
     "name": "stdout",
     "output_type": "stream",
     "text": [
      "111    48509\n",
      "112    41470\n",
      "113    34416\n",
      "114    44456\n",
      "115    49205\n",
      "116    33637\n",
      "dtype: int64 \n",
      " 49205 is the highest price\n"
     ]
    }
   ],
   "source": [
    "# task 3 car prices for model numbers between 111 and 116\n",
    "\n",
    "smithcarmod = carprice[10:16]\n",
    "print(smithcarmod,'\\n', max(smithcarmod), \"is the highest price\")"
   ]
  },
  {
   "cell_type": "code",
   "execution_count": 5,
   "id": "dc53930d",
   "metadata": {},
   "outputs": [
    {
     "name": "stdout",
     "output_type": "stream",
     "text": [
      "\n",
      "There are 20 cars priced between 30000 and 40000, \n",
      "they are \n",
      "101    31872\n",
      "102    39035\n",
      "103    34968\n",
      "104    31837\n",
      "106    32199\n",
      "110    31526\n",
      "113    34416\n",
      "116    33637\n",
      "119    31675\n",
      "120    33163\n",
      "dtype: int32\n"
     ]
    }
   ],
   "source": [
    "# task 4 count of cars and their records of cars with price between 30000 and 40000\n",
    "\n",
    "carbwt = carprice.between(30000, 40000)\n",
    "print(f\"\"\"\n",
    "There are {carbwt.size} cars priced between 30000 and 40000, \n",
    "they are \n",
    "{carprice[carbwt]}\"\"\")"
   ]
  },
  {
   "cell_type": "code",
   "execution_count": 6,
   "id": "6ec1ed42",
   "metadata": {},
   "outputs": [
    {
     "name": "stdout",
     "output_type": "stream",
     "text": [
      "\n",
      "There are a total of 10 cars with price higher than average that is 39104.4\n",
      "They are,\n",
      "105    48789\n",
      "107    42564\n",
      "108    42368\n",
      "109    44948\n",
      "111    48509\n",
      "112    41470\n",
      "114    44456\n",
      "115    49205\n",
      "117    44306\n",
      "118    41145\n",
      "dtype: int32\n"
     ]
    }
   ],
   "source": [
    "# task 5 cars with price greater than the average car price\n",
    "\n",
    "cargrtavg = carprice[carprice > carprice.mean()]\n",
    "print(f\"\"\"\n",
    "There are a total of {cargrtavg.size} cars with price higher than average that is {carprice.mean()}\n",
    "They are,\n",
    "{cargrtavg}\"\"\")"
   ]
  },
  {
   "cell_type": "code",
   "execution_count": 7,
   "id": "86a66a6a",
   "metadata": {},
   "outputs": [
    {
     "name": "stdout",
     "output_type": "stream",
     "text": [
      "Updated car price list \n",
      " 101    31872\n",
      "102    39035\n",
      "103    34968\n",
      "104    31837\n",
      "105    48789\n",
      "106    32199\n",
      "107    42564\n",
      "108    42368\n",
      "109    44948\n",
      "110    31526\n",
      "111    48509\n",
      "112    41470\n",
      "113    34416\n",
      "114    44456\n",
      "115    49205\n",
      "116    33637\n",
      "117    44306\n",
      "118    41145\n",
      "119    31675\n",
      "120    33163\n",
      "201    34000\n",
      "202    45000\n",
      "203    54000\n",
      "dtype: int64\n"
     ]
    }
   ],
   "source": [
    "# task 6 add 3 new cars to the list with specified model numbers and prices\n",
    "\n",
    "new = pd.Series([34000, 45000, 54000], index = [201, 202, 203])\n",
    "carprice = pd.concat([carprice, new])\n",
    "print('Updated car price list \\n', carprice)"
   ]
  },
  {
   "cell_type": "code",
   "execution_count": 8,
   "id": "cd19dbc5",
   "metadata": {},
   "outputs": [
    {
     "data": {
      "text/html": [
       "<div>\n",
       "<style scoped>\n",
       "    .dataframe tbody tr th:only-of-type {\n",
       "        vertical-align: middle;\n",
       "    }\n",
       "\n",
       "    .dataframe tbody tr th {\n",
       "        vertical-align: top;\n",
       "    }\n",
       "\n",
       "    .dataframe thead th {\n",
       "        text-align: right;\n",
       "    }\n",
       "</style>\n",
       "<table border=\"1\" class=\"dataframe\">\n",
       "  <thead>\n",
       "    <tr style=\"text-align: right;\">\n",
       "      <th></th>\n",
       "      <th>Original</th>\n",
       "      <th>Discounted</th>\n",
       "    </tr>\n",
       "  </thead>\n",
       "  <tbody>\n",
       "    <tr>\n",
       "      <th>101</th>\n",
       "      <td>31872</td>\n",
       "      <td>28684.8</td>\n",
       "    </tr>\n",
       "    <tr>\n",
       "      <th>102</th>\n",
       "      <td>39035</td>\n",
       "      <td>35131.5</td>\n",
       "    </tr>\n",
       "    <tr>\n",
       "      <th>103</th>\n",
       "      <td>34968</td>\n",
       "      <td>31471.2</td>\n",
       "    </tr>\n",
       "    <tr>\n",
       "      <th>104</th>\n",
       "      <td>31837</td>\n",
       "      <td>28653.3</td>\n",
       "    </tr>\n",
       "    <tr>\n",
       "      <th>105</th>\n",
       "      <td>48789</td>\n",
       "      <td>43910.1</td>\n",
       "    </tr>\n",
       "    <tr>\n",
       "      <th>106</th>\n",
       "      <td>32199</td>\n",
       "      <td>28979.1</td>\n",
       "    </tr>\n",
       "    <tr>\n",
       "      <th>107</th>\n",
       "      <td>42564</td>\n",
       "      <td>38307.6</td>\n",
       "    </tr>\n",
       "    <tr>\n",
       "      <th>108</th>\n",
       "      <td>42368</td>\n",
       "      <td>38131.2</td>\n",
       "    </tr>\n",
       "    <tr>\n",
       "      <th>109</th>\n",
       "      <td>44948</td>\n",
       "      <td>40453.2</td>\n",
       "    </tr>\n",
       "    <tr>\n",
       "      <th>110</th>\n",
       "      <td>31526</td>\n",
       "      <td>28373.4</td>\n",
       "    </tr>\n",
       "    <tr>\n",
       "      <th>111</th>\n",
       "      <td>48509</td>\n",
       "      <td>43658.1</td>\n",
       "    </tr>\n",
       "    <tr>\n",
       "      <th>112</th>\n",
       "      <td>41470</td>\n",
       "      <td>37323.0</td>\n",
       "    </tr>\n",
       "    <tr>\n",
       "      <th>113</th>\n",
       "      <td>34416</td>\n",
       "      <td>30974.4</td>\n",
       "    </tr>\n",
       "    <tr>\n",
       "      <th>114</th>\n",
       "      <td>44456</td>\n",
       "      <td>40010.4</td>\n",
       "    </tr>\n",
       "    <tr>\n",
       "      <th>115</th>\n",
       "      <td>49205</td>\n",
       "      <td>44284.5</td>\n",
       "    </tr>\n",
       "    <tr>\n",
       "      <th>116</th>\n",
       "      <td>33637</td>\n",
       "      <td>30273.3</td>\n",
       "    </tr>\n",
       "    <tr>\n",
       "      <th>117</th>\n",
       "      <td>44306</td>\n",
       "      <td>39875.4</td>\n",
       "    </tr>\n",
       "    <tr>\n",
       "      <th>118</th>\n",
       "      <td>41145</td>\n",
       "      <td>37030.5</td>\n",
       "    </tr>\n",
       "    <tr>\n",
       "      <th>119</th>\n",
       "      <td>31675</td>\n",
       "      <td>28507.5</td>\n",
       "    </tr>\n",
       "    <tr>\n",
       "      <th>120</th>\n",
       "      <td>33163</td>\n",
       "      <td>29846.7</td>\n",
       "    </tr>\n",
       "    <tr>\n",
       "      <th>201</th>\n",
       "      <td>34000</td>\n",
       "      <td>30600.0</td>\n",
       "    </tr>\n",
       "    <tr>\n",
       "      <th>202</th>\n",
       "      <td>45000</td>\n",
       "      <td>40500.0</td>\n",
       "    </tr>\n",
       "    <tr>\n",
       "      <th>203</th>\n",
       "      <td>54000</td>\n",
       "      <td>48600.0</td>\n",
       "    </tr>\n",
       "  </tbody>\n",
       "</table>\n",
       "</div>"
      ],
      "text/plain": [
       "     Original  Discounted\n",
       "101     31872     28684.8\n",
       "102     39035     35131.5\n",
       "103     34968     31471.2\n",
       "104     31837     28653.3\n",
       "105     48789     43910.1\n",
       "106     32199     28979.1\n",
       "107     42564     38307.6\n",
       "108     42368     38131.2\n",
       "109     44948     40453.2\n",
       "110     31526     28373.4\n",
       "111     48509     43658.1\n",
       "112     41470     37323.0\n",
       "113     34416     30974.4\n",
       "114     44456     40010.4\n",
       "115     49205     44284.5\n",
       "116     33637     30273.3\n",
       "117     44306     39875.4\n",
       "118     41145     37030.5\n",
       "119     31675     28507.5\n",
       "120     33163     29846.7\n",
       "201     34000     30600.0\n",
       "202     45000     40500.0\n",
       "203     54000     48600.0"
      ]
     },
     "execution_count": 8,
     "metadata": {},
     "output_type": "execute_result"
    }
   ],
   "source": [
    "# task 7 Offering 10% discount\n",
    "\n",
    "f = pd.DataFrame(carprice)\n",
    "ori = f[0]\n",
    "f[0] = ori\n",
    "disc = ori * 0.9\n",
    "f[1] = disc\n",
    "f.columns=[\"Original\", \"Discounted\"]\n",
    "f"
   ]
  },
  {
   "cell_type": "code",
   "execution_count": 11,
   "id": "561afc8b",
   "metadata": {},
   "outputs": [
    {
     "name": "stdout",
     "output_type": "stream",
     "text": [
      "There are 22 cars before the discount has been applied\n",
      "There are 20 cars after the discount has been applied\n"
     ]
    }
   ],
   "source": [
    "# task 8 number of cars before and after the discount between 30000 and 40000\n",
    "\n",
    "pricebwt1 = f[((f.Original > 30000) & (f.Original < 40000))]\n",
    "pricebwt2 = f[((f.Discounted > 30000) & (f.Discounted < 40000))]\n",
    "print(f'There are {pricebwt1.size} cars before the discount has been applied')\n",
    "print(f'There are {pricebwt2.size} cars after the discount has been applied')"
   ]
  },
  {
   "cell_type": "code",
   "execution_count": 34,
   "id": "4cc023df",
   "metadata": {},
   "outputs": [
    {
     "name": "stdout",
     "output_type": "stream",
     "text": [
      "115    32057\n",
      "116    33349\n",
      "201    34000\n",
      "201    34000\n",
      "201    34000\n",
      "dtype: int64\n"
     ]
    }
   ],
   "source": [
    "# task 9 5 least expensive cars\n",
    "\n",
    "srt = carprice.sort_values()\n",
    "print(srt[0:5])"
   ]
  },
  {
   "cell_type": "code",
   "execution_count": null,
   "id": "f41a32ef",
   "metadata": {},
   "outputs": [],
   "source": []
  }
 ],
 "metadata": {
  "kernelspec": {
   "display_name": "Python 3 (ipykernel)",
   "language": "python",
   "name": "python3"
  },
  "language_info": {
   "codemirror_mode": {
    "name": "ipython",
    "version": 3
   },
   "file_extension": ".py",
   "mimetype": "text/x-python",
   "name": "python",
   "nbconvert_exporter": "python",
   "pygments_lexer": "ipython3",
   "version": "3.9.12"
  }
 },
 "nbformat": 4,
 "nbformat_minor": 5
}
