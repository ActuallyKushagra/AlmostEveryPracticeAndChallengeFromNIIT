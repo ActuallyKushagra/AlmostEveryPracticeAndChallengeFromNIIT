{
  "nbformat": 4,
  "nbformat_minor": 0,
  "metadata": {
    "colab": {
      "provenance": []
    },
    "kernelspec": {
      "name": "python3",
      "display_name": "Python 3"
    },
    "language_info": {
      "name": "python"
    }
  },
  "cells": [
    {
      "cell_type": "code",
      "source": [
        "!pip install fasttext"
      ],
      "metadata": {
        "colab": {
          "base_uri": "https://localhost:8080/"
        },
        "id": "1FP-6ca5wEHf",
        "outputId": "47b826dc-2150-4cbc-960e-7a09d915597a"
      },
      "execution_count": 1,
      "outputs": [
        {
          "output_type": "stream",
          "name": "stdout",
          "text": [
            "Looking in indexes: https://pypi.org/simple, https://us-python.pkg.dev/colab-wheels/public/simple/\n",
            "Collecting fasttext\n",
            "  Downloading fasttext-0.9.2.tar.gz (68 kB)\n",
            "\u001b[2K     \u001b[90m━━━━━━━━━━━━━━━━━━━━━━━━━━━━━━━━━━━━━━━━\u001b[0m \u001b[32m68.8/68.8 KB\u001b[0m \u001b[31m2.9 MB/s\u001b[0m eta \u001b[36m0:00:00\u001b[0m\n",
            "\u001b[?25h  Preparing metadata (setup.py) ... \u001b[?25l\u001b[?25hdone\n",
            "Collecting pybind11>=2.2\n",
            "  Using cached pybind11-2.10.3-py3-none-any.whl (222 kB)\n",
            "Requirement already satisfied: setuptools>=0.7.0 in /usr/local/lib/python3.9/dist-packages (from fasttext) (63.4.3)\n",
            "Requirement already satisfied: numpy in /usr/local/lib/python3.9/dist-packages (from fasttext) (1.22.4)\n",
            "Building wheels for collected packages: fasttext\n",
            "  Building wheel for fasttext (setup.py) ... \u001b[?25l\u001b[?25hdone\n",
            "  Created wheel for fasttext: filename=fasttext-0.9.2-cp39-cp39-linux_x86_64.whl size=4391744 sha256=0e80a763521b20928e60aaebd1dc0e028e2fe4135fd79a3d858d727c236d8ecc\n",
            "  Stored in directory: /root/.cache/pip/wheels/64/57/bc/1741406019061d5664914b070bd3e71f6244648732bc96109e\n",
            "Successfully built fasttext\n",
            "Installing collected packages: pybind11, fasttext\n",
            "Successfully installed fasttext-0.9.2 pybind11-2.10.3\n"
          ]
        }
      ]
    },
    {
      "cell_type": "code",
      "source": [
        "import pandas as pd\n",
        "import numpy as np\n",
        "import re\n",
        "from sklearn.model_selection import train_test_split\n",
        "import fasttext"
      ],
      "metadata": {
        "id": "iHJ92XT1oc6n"
      },
      "execution_count": 2,
      "outputs": []
    },
    {
      "cell_type": "code",
      "execution_count": 3,
      "metadata": {
        "id": "ac_SXwpfmNkG"
      },
      "outputs": [],
      "source": [
        "# task 1\n",
        "\n",
        "from sklearn.datasets import fetch_20newsgroups"
      ]
    },
    {
      "cell_type": "code",
      "source": [
        "# task 2\n",
        "\n",
        "newsgroups = fetch_20newsgroups()\n",
        "X = newsgroups.data\n",
        "Y = newsgroups.target\n",
        "\n",
        "df = pd.concat([pd.DataFrame(X).rename(columns = ({0: 'Text'})) , pd.DataFrame(Y).rename(columns = ({0: 'Target'}))], axis = 1) \n",
        "df"
      ],
      "metadata": {
        "colab": {
          "base_uri": "https://localhost:8080/",
          "height": 424
        },
        "id": "WMOZXqRqmxZV",
        "outputId": "78b1a48c-341f-42c4-d47c-801488fa457e"
      },
      "execution_count": 4,
      "outputs": [
        {
          "output_type": "execute_result",
          "data": {
            "text/plain": [
              "                                                    Text  Target\n",
              "0      From: lerxst@wam.umd.edu (where's my thing)\\nS...       7\n",
              "1      From: guykuo@carson.u.washington.edu (Guy Kuo)...       4\n",
              "2      From: twillis@ec.ecn.purdue.edu (Thomas E Will...       4\n",
              "3      From: jgreen@amber (Joe Green)\\nSubject: Re: W...       1\n",
              "4      From: jcm@head-cfa.harvard.edu (Jonathan McDow...      14\n",
              "...                                                  ...     ...\n",
              "11309  From: jim.zisfein@factory.com (Jim Zisfein) \\n...      13\n",
              "11310  From: ebodin@pearl.tufts.edu\\nSubject: Screen ...       4\n",
              "11311  From: westes@netcom.com (Will Estes)\\nSubject:...       3\n",
              "11312  From: steve@hcrlgw (Steven Collins)\\nSubject: ...       1\n",
              "11313  From: gunning@cco.caltech.edu (Kevin J. Gunnin...       8\n",
              "\n",
              "[11314 rows x 2 columns]"
            ],
            "text/html": [
              "\n",
              "  <div id=\"df-bdfa3709-75bc-4c5d-9288-235ff58d8762\">\n",
              "    <div class=\"colab-df-container\">\n",
              "      <div>\n",
              "<style scoped>\n",
              "    .dataframe tbody tr th:only-of-type {\n",
              "        vertical-align: middle;\n",
              "    }\n",
              "\n",
              "    .dataframe tbody tr th {\n",
              "        vertical-align: top;\n",
              "    }\n",
              "\n",
              "    .dataframe thead th {\n",
              "        text-align: right;\n",
              "    }\n",
              "</style>\n",
              "<table border=\"1\" class=\"dataframe\">\n",
              "  <thead>\n",
              "    <tr style=\"text-align: right;\">\n",
              "      <th></th>\n",
              "      <th>Text</th>\n",
              "      <th>Target</th>\n",
              "    </tr>\n",
              "  </thead>\n",
              "  <tbody>\n",
              "    <tr>\n",
              "      <th>0</th>\n",
              "      <td>From: lerxst@wam.umd.edu (where's my thing)\\nS...</td>\n",
              "      <td>7</td>\n",
              "    </tr>\n",
              "    <tr>\n",
              "      <th>1</th>\n",
              "      <td>From: guykuo@carson.u.washington.edu (Guy Kuo)...</td>\n",
              "      <td>4</td>\n",
              "    </tr>\n",
              "    <tr>\n",
              "      <th>2</th>\n",
              "      <td>From: twillis@ec.ecn.purdue.edu (Thomas E Will...</td>\n",
              "      <td>4</td>\n",
              "    </tr>\n",
              "    <tr>\n",
              "      <th>3</th>\n",
              "      <td>From: jgreen@amber (Joe Green)\\nSubject: Re: W...</td>\n",
              "      <td>1</td>\n",
              "    </tr>\n",
              "    <tr>\n",
              "      <th>4</th>\n",
              "      <td>From: jcm@head-cfa.harvard.edu (Jonathan McDow...</td>\n",
              "      <td>14</td>\n",
              "    </tr>\n",
              "    <tr>\n",
              "      <th>...</th>\n",
              "      <td>...</td>\n",
              "      <td>...</td>\n",
              "    </tr>\n",
              "    <tr>\n",
              "      <th>11309</th>\n",
              "      <td>From: jim.zisfein@factory.com (Jim Zisfein) \\n...</td>\n",
              "      <td>13</td>\n",
              "    </tr>\n",
              "    <tr>\n",
              "      <th>11310</th>\n",
              "      <td>From: ebodin@pearl.tufts.edu\\nSubject: Screen ...</td>\n",
              "      <td>4</td>\n",
              "    </tr>\n",
              "    <tr>\n",
              "      <th>11311</th>\n",
              "      <td>From: westes@netcom.com (Will Estes)\\nSubject:...</td>\n",
              "      <td>3</td>\n",
              "    </tr>\n",
              "    <tr>\n",
              "      <th>11312</th>\n",
              "      <td>From: steve@hcrlgw (Steven Collins)\\nSubject: ...</td>\n",
              "      <td>1</td>\n",
              "    </tr>\n",
              "    <tr>\n",
              "      <th>11313</th>\n",
              "      <td>From: gunning@cco.caltech.edu (Kevin J. Gunnin...</td>\n",
              "      <td>8</td>\n",
              "    </tr>\n",
              "  </tbody>\n",
              "</table>\n",
              "<p>11314 rows × 2 columns</p>\n",
              "</div>\n",
              "      <button class=\"colab-df-convert\" onclick=\"convertToInteractive('df-bdfa3709-75bc-4c5d-9288-235ff58d8762')\"\n",
              "              title=\"Convert this dataframe to an interactive table.\"\n",
              "              style=\"display:none;\">\n",
              "        \n",
              "  <svg xmlns=\"http://www.w3.org/2000/svg\" height=\"24px\"viewBox=\"0 0 24 24\"\n",
              "       width=\"24px\">\n",
              "    <path d=\"M0 0h24v24H0V0z\" fill=\"none\"/>\n",
              "    <path d=\"M18.56 5.44l.94 2.06.94-2.06 2.06-.94-2.06-.94-.94-2.06-.94 2.06-2.06.94zm-11 1L8.5 8.5l.94-2.06 2.06-.94-2.06-.94L8.5 2.5l-.94 2.06-2.06.94zm10 10l.94 2.06.94-2.06 2.06-.94-2.06-.94-.94-2.06-.94 2.06-2.06.94z\"/><path d=\"M17.41 7.96l-1.37-1.37c-.4-.4-.92-.59-1.43-.59-.52 0-1.04.2-1.43.59L10.3 9.45l-7.72 7.72c-.78.78-.78 2.05 0 2.83L4 21.41c.39.39.9.59 1.41.59.51 0 1.02-.2 1.41-.59l7.78-7.78 2.81-2.81c.8-.78.8-2.07 0-2.86zM5.41 20L4 18.59l7.72-7.72 1.47 1.35L5.41 20z\"/>\n",
              "  </svg>\n",
              "      </button>\n",
              "      \n",
              "  <style>\n",
              "    .colab-df-container {\n",
              "      display:flex;\n",
              "      flex-wrap:wrap;\n",
              "      gap: 12px;\n",
              "    }\n",
              "\n",
              "    .colab-df-convert {\n",
              "      background-color: #E8F0FE;\n",
              "      border: none;\n",
              "      border-radius: 50%;\n",
              "      cursor: pointer;\n",
              "      display: none;\n",
              "      fill: #1967D2;\n",
              "      height: 32px;\n",
              "      padding: 0 0 0 0;\n",
              "      width: 32px;\n",
              "    }\n",
              "\n",
              "    .colab-df-convert:hover {\n",
              "      background-color: #E2EBFA;\n",
              "      box-shadow: 0px 1px 2px rgba(60, 64, 67, 0.3), 0px 1px 3px 1px rgba(60, 64, 67, 0.15);\n",
              "      fill: #174EA6;\n",
              "    }\n",
              "\n",
              "    [theme=dark] .colab-df-convert {\n",
              "      background-color: #3B4455;\n",
              "      fill: #D2E3FC;\n",
              "    }\n",
              "\n",
              "    [theme=dark] .colab-df-convert:hover {\n",
              "      background-color: #434B5C;\n",
              "      box-shadow: 0px 1px 3px 1px rgba(0, 0, 0, 0.15);\n",
              "      filter: drop-shadow(0px 1px 2px rgba(0, 0, 0, 0.3));\n",
              "      fill: #FFFFFF;\n",
              "    }\n",
              "  </style>\n",
              "\n",
              "      <script>\n",
              "        const buttonEl =\n",
              "          document.querySelector('#df-bdfa3709-75bc-4c5d-9288-235ff58d8762 button.colab-df-convert');\n",
              "        buttonEl.style.display =\n",
              "          google.colab.kernel.accessAllowed ? 'block' : 'none';\n",
              "\n",
              "        async function convertToInteractive(key) {\n",
              "          const element = document.querySelector('#df-bdfa3709-75bc-4c5d-9288-235ff58d8762');\n",
              "          const dataTable =\n",
              "            await google.colab.kernel.invokeFunction('convertToInteractive',\n",
              "                                                     [key], {});\n",
              "          if (!dataTable) return;\n",
              "\n",
              "          const docLinkHtml = 'Like what you see? Visit the ' +\n",
              "            '<a target=\"_blank\" href=https://colab.research.google.com/notebooks/data_table.ipynb>data table notebook</a>'\n",
              "            + ' to learn more about interactive tables.';\n",
              "          element.innerHTML = '';\n",
              "          dataTable['output_type'] = 'display_data';\n",
              "          await google.colab.output.renderOutput(dataTable, element);\n",
              "          const docLink = document.createElement('div');\n",
              "          docLink.innerHTML = docLinkHtml;\n",
              "          element.appendChild(docLink);\n",
              "        }\n",
              "      </script>\n",
              "    </div>\n",
              "  </div>\n",
              "  "
            ]
          },
          "metadata": {},
          "execution_count": 4
        }
      ]
    },
    {
      "cell_type": "code",
      "source": [
        "# task 3\n",
        "\n",
        "df['Target'].value_counts()"
      ],
      "metadata": {
        "colab": {
          "base_uri": "https://localhost:8080/"
        },
        "id": "mL8zTsmfoYid",
        "outputId": "855e2ccc-2302-48e3-8b22-caa205afbde8"
      },
      "execution_count": 5,
      "outputs": [
        {
          "output_type": "execute_result",
          "data": {
            "text/plain": [
              "10    600\n",
              "15    599\n",
              "8     598\n",
              "9     597\n",
              "11    595\n",
              "7     594\n",
              "13    594\n",
              "5     593\n",
              "14    593\n",
              "2     591\n",
              "12    591\n",
              "3     590\n",
              "6     585\n",
              "1     584\n",
              "4     578\n",
              "17    564\n",
              "16    546\n",
              "0     480\n",
              "18    465\n",
              "19    377\n",
              "Name: Target, dtype: int64"
            ]
          },
          "metadata": {},
          "execution_count": 5
        }
      ]
    },
    {
      "cell_type": "code",
      "source": [
        "# task 4\n",
        "\n",
        "def clean_text(text):\n",
        "    re.sub(\"[^0-9A-Za-z\\-]+\",\" \",text)  \n",
        "    re.sub(\"(?<!\\w)\\d+\",\"\",text)       \n",
        "    re.sub(\"-(?<!\\w)| (?<!\\w)-\",'',text) \n",
        "    text = \" \".join(text.split())\n",
        "    text = text.lower()             \n",
        "    return text"
      ],
      "metadata": {
        "id": "bgzfSKxTsj8W"
      },
      "execution_count": 6,
      "outputs": []
    },
    {
      "cell_type": "code",
      "source": [
        "df['Text'] = df['Text'].apply(clean_text)\n",
        "df['Target'] = pd.Categorical.from_codes(newsgroups.target,newsgroups.target_names)"
      ],
      "metadata": {
        "id": "C4zgLNU4s8br"
      },
      "execution_count": 7,
      "outputs": []
    },
    {
      "cell_type": "code",
      "source": [
        "df"
      ],
      "metadata": {
        "colab": {
          "base_uri": "https://localhost:8080/",
          "height": 424
        },
        "id": "W6hV2krotH5P",
        "outputId": "c06ade6e-0fef-4ff2-e83b-59b8dc596f0d"
      },
      "execution_count": 8,
      "outputs": [
        {
          "output_type": "execute_result",
          "data": {
            "text/plain": [
              "                                                    Text  \\\n",
              "0      from: lerxst@wam.umd.edu (where's my thing) su...   \n",
              "1      from: guykuo@carson.u.washington.edu (guy kuo)...   \n",
              "2      from: twillis@ec.ecn.purdue.edu (thomas e will...   \n",
              "3      from: jgreen@amber (joe green) subject: re: we...   \n",
              "4      from: jcm@head-cfa.harvard.edu (jonathan mcdow...   \n",
              "...                                                  ...   \n",
              "11309  from: jim.zisfein@factory.com (jim zisfein) su...   \n",
              "11310  from: ebodin@pearl.tufts.edu subject: screen d...   \n",
              "11311  from: westes@netcom.com (will estes) subject: ...   \n",
              "11312  from: steve@hcrlgw (steven collins) subject: r...   \n",
              "11313  from: gunning@cco.caltech.edu (kevin j. gunnin...   \n",
              "\n",
              "                         Target  \n",
              "0                     rec.autos  \n",
              "1         comp.sys.mac.hardware  \n",
              "2         comp.sys.mac.hardware  \n",
              "3                 comp.graphics  \n",
              "4                     sci.space  \n",
              "...                         ...  \n",
              "11309                   sci.med  \n",
              "11310     comp.sys.mac.hardware  \n",
              "11311  comp.sys.ibm.pc.hardware  \n",
              "11312             comp.graphics  \n",
              "11313           rec.motorcycles  \n",
              "\n",
              "[11314 rows x 2 columns]"
            ],
            "text/html": [
              "\n",
              "  <div id=\"df-b694efe0-0734-4eac-a88e-a58ec512c8f5\">\n",
              "    <div class=\"colab-df-container\">\n",
              "      <div>\n",
              "<style scoped>\n",
              "    .dataframe tbody tr th:only-of-type {\n",
              "        vertical-align: middle;\n",
              "    }\n",
              "\n",
              "    .dataframe tbody tr th {\n",
              "        vertical-align: top;\n",
              "    }\n",
              "\n",
              "    .dataframe thead th {\n",
              "        text-align: right;\n",
              "    }\n",
              "</style>\n",
              "<table border=\"1\" class=\"dataframe\">\n",
              "  <thead>\n",
              "    <tr style=\"text-align: right;\">\n",
              "      <th></th>\n",
              "      <th>Text</th>\n",
              "      <th>Target</th>\n",
              "    </tr>\n",
              "  </thead>\n",
              "  <tbody>\n",
              "    <tr>\n",
              "      <th>0</th>\n",
              "      <td>from: lerxst@wam.umd.edu (where's my thing) su...</td>\n",
              "      <td>rec.autos</td>\n",
              "    </tr>\n",
              "    <tr>\n",
              "      <th>1</th>\n",
              "      <td>from: guykuo@carson.u.washington.edu (guy kuo)...</td>\n",
              "      <td>comp.sys.mac.hardware</td>\n",
              "    </tr>\n",
              "    <tr>\n",
              "      <th>2</th>\n",
              "      <td>from: twillis@ec.ecn.purdue.edu (thomas e will...</td>\n",
              "      <td>comp.sys.mac.hardware</td>\n",
              "    </tr>\n",
              "    <tr>\n",
              "      <th>3</th>\n",
              "      <td>from: jgreen@amber (joe green) subject: re: we...</td>\n",
              "      <td>comp.graphics</td>\n",
              "    </tr>\n",
              "    <tr>\n",
              "      <th>4</th>\n",
              "      <td>from: jcm@head-cfa.harvard.edu (jonathan mcdow...</td>\n",
              "      <td>sci.space</td>\n",
              "    </tr>\n",
              "    <tr>\n",
              "      <th>...</th>\n",
              "      <td>...</td>\n",
              "      <td>...</td>\n",
              "    </tr>\n",
              "    <tr>\n",
              "      <th>11309</th>\n",
              "      <td>from: jim.zisfein@factory.com (jim zisfein) su...</td>\n",
              "      <td>sci.med</td>\n",
              "    </tr>\n",
              "    <tr>\n",
              "      <th>11310</th>\n",
              "      <td>from: ebodin@pearl.tufts.edu subject: screen d...</td>\n",
              "      <td>comp.sys.mac.hardware</td>\n",
              "    </tr>\n",
              "    <tr>\n",
              "      <th>11311</th>\n",
              "      <td>from: westes@netcom.com (will estes) subject: ...</td>\n",
              "      <td>comp.sys.ibm.pc.hardware</td>\n",
              "    </tr>\n",
              "    <tr>\n",
              "      <th>11312</th>\n",
              "      <td>from: steve@hcrlgw (steven collins) subject: r...</td>\n",
              "      <td>comp.graphics</td>\n",
              "    </tr>\n",
              "    <tr>\n",
              "      <th>11313</th>\n",
              "      <td>from: gunning@cco.caltech.edu (kevin j. gunnin...</td>\n",
              "      <td>rec.motorcycles</td>\n",
              "    </tr>\n",
              "  </tbody>\n",
              "</table>\n",
              "<p>11314 rows × 2 columns</p>\n",
              "</div>\n",
              "      <button class=\"colab-df-convert\" onclick=\"convertToInteractive('df-b694efe0-0734-4eac-a88e-a58ec512c8f5')\"\n",
              "              title=\"Convert this dataframe to an interactive table.\"\n",
              "              style=\"display:none;\">\n",
              "        \n",
              "  <svg xmlns=\"http://www.w3.org/2000/svg\" height=\"24px\"viewBox=\"0 0 24 24\"\n",
              "       width=\"24px\">\n",
              "    <path d=\"M0 0h24v24H0V0z\" fill=\"none\"/>\n",
              "    <path d=\"M18.56 5.44l.94 2.06.94-2.06 2.06-.94-2.06-.94-.94-2.06-.94 2.06-2.06.94zm-11 1L8.5 8.5l.94-2.06 2.06-.94-2.06-.94L8.5 2.5l-.94 2.06-2.06.94zm10 10l.94 2.06.94-2.06 2.06-.94-2.06-.94-.94-2.06-.94 2.06-2.06.94z\"/><path d=\"M17.41 7.96l-1.37-1.37c-.4-.4-.92-.59-1.43-.59-.52 0-1.04.2-1.43.59L10.3 9.45l-7.72 7.72c-.78.78-.78 2.05 0 2.83L4 21.41c.39.39.9.59 1.41.59.51 0 1.02-.2 1.41-.59l7.78-7.78 2.81-2.81c.8-.78.8-2.07 0-2.86zM5.41 20L4 18.59l7.72-7.72 1.47 1.35L5.41 20z\"/>\n",
              "  </svg>\n",
              "      </button>\n",
              "      \n",
              "  <style>\n",
              "    .colab-df-container {\n",
              "      display:flex;\n",
              "      flex-wrap:wrap;\n",
              "      gap: 12px;\n",
              "    }\n",
              "\n",
              "    .colab-df-convert {\n",
              "      background-color: #E8F0FE;\n",
              "      border: none;\n",
              "      border-radius: 50%;\n",
              "      cursor: pointer;\n",
              "      display: none;\n",
              "      fill: #1967D2;\n",
              "      height: 32px;\n",
              "      padding: 0 0 0 0;\n",
              "      width: 32px;\n",
              "    }\n",
              "\n",
              "    .colab-df-convert:hover {\n",
              "      background-color: #E2EBFA;\n",
              "      box-shadow: 0px 1px 2px rgba(60, 64, 67, 0.3), 0px 1px 3px 1px rgba(60, 64, 67, 0.15);\n",
              "      fill: #174EA6;\n",
              "    }\n",
              "\n",
              "    [theme=dark] .colab-df-convert {\n",
              "      background-color: #3B4455;\n",
              "      fill: #D2E3FC;\n",
              "    }\n",
              "\n",
              "    [theme=dark] .colab-df-convert:hover {\n",
              "      background-color: #434B5C;\n",
              "      box-shadow: 0px 1px 3px 1px rgba(0, 0, 0, 0.15);\n",
              "      filter: drop-shadow(0px 1px 2px rgba(0, 0, 0, 0.3));\n",
              "      fill: #FFFFFF;\n",
              "    }\n",
              "  </style>\n",
              "\n",
              "      <script>\n",
              "        const buttonEl =\n",
              "          document.querySelector('#df-b694efe0-0734-4eac-a88e-a58ec512c8f5 button.colab-df-convert');\n",
              "        buttonEl.style.display =\n",
              "          google.colab.kernel.accessAllowed ? 'block' : 'none';\n",
              "\n",
              "        async function convertToInteractive(key) {\n",
              "          const element = document.querySelector('#df-b694efe0-0734-4eac-a88e-a58ec512c8f5');\n",
              "          const dataTable =\n",
              "            await google.colab.kernel.invokeFunction('convertToInteractive',\n",
              "                                                     [key], {});\n",
              "          if (!dataTable) return;\n",
              "\n",
              "          const docLinkHtml = 'Like what you see? Visit the ' +\n",
              "            '<a target=\"_blank\" href=https://colab.research.google.com/notebooks/data_table.ipynb>data table notebook</a>'\n",
              "            + ' to learn more about interactive tables.';\n",
              "          element.innerHTML = '';\n",
              "          dataTable['output_type'] = 'display_data';\n",
              "          await google.colab.output.renderOutput(dataTable, element);\n",
              "          const docLink = document.createElement('div');\n",
              "          docLink.innerHTML = docLinkHtml;\n",
              "          element.appendChild(docLink);\n",
              "        }\n",
              "      </script>\n",
              "    </div>\n",
              "  </div>\n",
              "  "
            ]
          },
          "metadata": {},
          "execution_count": 8
        }
      ]
    },
    {
      "cell_type": "code",
      "source": [
        "# task 5\n",
        "\n",
        "#X_train,X_test,y_train,y_test = train_test_split(df['Text'], df['Target'],train_size=0.8,random_state=42)\n",
        "train_df, test_df = train_test_split(df, test_size=0.2, random_state=13)"
      ],
      "metadata": {
        "id": "khnontprtIOt"
      },
      "execution_count": 9,
      "outputs": []
    },
    {
      "cell_type": "code",
      "source": [
        "# task 6\n",
        "\n",
        "with open('concept_train.txt','w+', encoding=\"utf-8\") as train_file:\n",
        "    for i in train_df.index:\n",
        "        labels = ''\n",
        "        for genre in train_df['Target'][i]:\n",
        "            labels = labels + '__label__' + genre.replace(' ', '_') + ' '\n",
        "        line = labels + ' '+train_df['Text'][i]\n",
        "        train_file.write(line+'\\n')\n",
        "\n",
        "with open('concept_test.txt','w+', encoding=\"utf-8\") as test_file:\n",
        "    for i in test_df.index:\n",
        "        labels = ''\n",
        "        for genre in test_df['Target'][i]:\n",
        "            labels = labels + '__label__'+ genre.replace(' ', '_') + ' '\n",
        "        line = labels + ' '+test_df['Text'][i]\n",
        "        test_file.write(line+'\\n')\n",
        "\n",
        "model_sup = fasttext.train_supervised(input='concept_train.txt', lr=0.5, epoch=20, wordNgrams=3, bucket=20000)\n",
        "test_num, precision, recall = model_sup.test('concept_test.txt', k=1, threshold=0.1)\n",
        "f_score = (2*precision*recall)/(precision+recall)\n",
        "\n",
        "for i in zip(model_sup.words, model_sup.labels):\n",
        "    print(i)"
      ],
      "metadata": {
        "colab": {
          "base_uri": "https://localhost:8080/"
        },
        "id": "jOXOXk8FvMX-",
        "outputId": "ccb36e25-7ca0-424d-e2cc-773029ef13f1"
      },
      "execution_count": 10,
      "outputs": [
        {
          "output_type": "stream",
          "name": "stdout",
          "text": [
            "('the', '__label__.')\n",
            "('to', '__label__s')\n",
            "('of', '__label__c')\n",
            "('a', '__label__i')\n",
            "('and', '__label__o')\n",
            "('in', '__label__a')\n",
            "('is', '__label__r')\n",
            "('i', '__label__e')\n",
            "('that', '__label__t')\n",
            "('>', '__label__m')\n",
            "('for', '__label__p')\n",
            "('it', '__label__l')\n",
            "('you', '__label__n')\n",
            "('on', '__label__w')\n",
            "('be', '__label__d')\n",
            "('are', '__label__h')\n",
            "('this', '__label__y')\n",
            "('have', '__label__k')\n",
            "('not', '__label__g')\n",
            "('with', '__label__b')\n",
            "('as', '__label__u')\n",
            "('or', '__label__f')\n",
            "('was', '__label__-')\n",
            "('if', '__label__x')\n"
          ]
        }
      ]
    },
    {
      "cell_type": "code",
      "source": [
        "# task 7\n",
        "\n",
        "test_num, precision, recall = model_sup.test('concept_test.txt', k=1, threshold=0.1)\n",
        "f1_score = (2*precision*recall)/(precision+recall)\n",
        "print(f1_score)"
      ],
      "metadata": {
        "colab": {
          "base_uri": "https://localhost:8080/"
        },
        "id": "QWV77c4d_QEx",
        "outputId": "53fb436f-db03-4cf7-c61a-cc852f0a4df3"
      },
      "execution_count": 11,
      "outputs": [
        {
          "output_type": "stream",
          "name": "stdout",
          "text": [
            "0.11685417393872675\n"
          ]
        }
      ]
    },
    {
      "cell_type": "markdown",
      "source": [
        "# task 8\n",
        "\n",
        "FastText and One-vs-Rest (OvR) classifiers can have different performance depending on the specific implementation and the size of the dataset. However, in general, FastText is considered to be faster than OvR classifiers for text classification tasks."
      ],
      "metadata": {
        "id": "UCJX2NTXU7z9"
      }
    }
  ]
}