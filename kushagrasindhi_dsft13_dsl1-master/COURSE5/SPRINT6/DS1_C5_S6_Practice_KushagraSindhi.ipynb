{
 "cells": [
  {
   "cell_type": "code",
   "execution_count": 4,
   "id": "1e4da16a",
   "metadata": {},
   "outputs": [],
   "source": [
    "import pandas as pd\n",
    "import statistics as st\n",
    "import math\n",
    "from scipy.stats import norm\n",
    "import numpy as np\n",
    "import matplotlib.pyplot as plt\n",
    "import scipy.stats as sts"
   ]
  },
  {
   "cell_type": "code",
   "execution_count": 1,
   "id": "2b616832",
   "metadata": {},
   "outputs": [],
   "source": [
    "# task 1\n",
    "\n",
    "\n",
    "alpha = 0.05\n",
    "t1popmean = 33.88\n",
    "t1sammean = 32.18\n",
    "t1samsize = 49\n",
    "t1popstd = 1.28\n",
    "t1popvar = t1popstd**2"
   ]
  },
  {
   "cell_type": "markdown",
   "id": "299c10e9",
   "metadata": {},
   "source": [
    "#### a)\n",
    "\n",
    "Ha: μ >= 33.38 \n",
    "\n",
    "Ha: μ < 33.38\n",
    "\n",
    "According to the information provided in the question, A two-tailed test is best suited for this but since the size of population is unknown, a left tailed test will be used."
   ]
  },
  {
   "cell_type": "code",
   "execution_count": 3,
   "id": "047ec052",
   "metadata": {},
   "outputs": [
    {
     "name": "stdout",
     "output_type": "stream",
     "text": [
      "The z-critical value is  1.959963984540054\n"
     ]
    }
   ],
   "source": [
    "# b)\n",
    "\n",
    "zcrit1 = norm.ppf(1 - alpha)\n",
    "\n",
    "print('The z-critical value is ', zcrit1)"
   ]
  },
  {
   "cell_type": "code",
   "execution_count": 5,
   "id": "217f8780",
   "metadata": {},
   "outputs": [
    {
     "name": "stdout",
     "output_type": "stream",
     "text": [
      "The Z statistics is  -9.296875000000016\n",
      "The p_value is  7.231705434385679e-21\n",
      "The z-critical value is  1.6448536269514722\n"
     ]
    }
   ],
   "source": [
    "# c) and d)\n",
    "\n",
    "z_statistic = (t1sammean-t1popmean) / (t1popstd/np.sqrt(t1samsize)) \n",
    "print(\"The Z statistics is \", z_statistic)\n",
    "\n",
    "p_value = norm.sf(abs(z_statistic))\n",
    "print(\"The p_value is \", p_value)\n",
    "\n",
    "z_critical = norm.ppf(1-alpha)\n",
    "print(\"The z-critical value is \", z_critical)"
   ]
  },
  {
   "cell_type": "markdown",
   "id": "8136c36c",
   "metadata": {},
   "source": [
    "##### e)\n",
    "\n",
    "As per, decision rule:\n",
    "\n",
    "i. If p-value < alpha : Rejection of Null Hypothesis(H0)\n",
    "\n",
    "ii. If -z-critical > z-statistics > +z-critical : Rejection of Null Hypothesis(H0)\n",
    "\n",
    "In our analysis, p_value > alpha and -z-critical > z-statistics > +z-critical, hence, the null hypothesis is accepted"
   ]
  },
  {
   "cell_type": "code",
   "execution_count": 6,
   "id": "b0de6b38",
   "metadata": {},
   "outputs": [
    {
     "data": {
      "text/plain": [
       "[<matplotlib.lines.Line2D at 0x207a4b45fd0>]"
      ]
     },
     "execution_count": 6,
     "metadata": {},
     "output_type": "execute_result"
    },
    {
     "data": {
      "image/png": "[encoded data removed]",
      "text/plain": [
       "<Figure size 432x288 with 1 Axes>"
      ]
     },
     "metadata": {
      "needs_background": "light"
     },
     "output_type": "display_data"
    }
   ],
   "source": [
    "lowr = t1popmean - 4 * t1popstd\n",
    "uppr = t1popmean + 4 * t1popstd\n",
    "normp = np.arange(lowr, uppr)\n",
    "plt.plot(normp, sts.norm.pdf(normp, t1popmean, t1popstd))"
   ]
  },
  {
   "cell_type": "code",
   "execution_count": 7,
   "id": "e396277e",
   "metadata": {},
   "outputs": [],
   "source": [
    "# task 2\n",
    "\n",
    "alpha = 0.05\n",
    "\n",
    "t2mean1 = 85\n",
    "t2std = 2.1\n",
    "\n",
    "\n",
    "t2mean2 = 87.5\n",
    "t2n2 = 32"
   ]
  },
  {
   "cell_type": "markdown",
   "id": "ea87ab9e",
   "metadata": {},
   "source": [
    "#### a)\n",
    "\n",
    "Ho: μ = 85\n",
    "\n",
    "Ha: μ > 85\n",
    "\n",
    "According to the information provided in the question, a One-tailed test, ie, a right-tailed test is best suited."
   ]
  },
  {
   "cell_type": "code",
   "execution_count": 8,
   "id": "f2bc6ff1",
   "metadata": {},
   "outputs": [
    {
     "name": "stdout",
     "output_type": "stream",
     "text": [
      "The z-critical value is 1.6448536269514722\n"
     ]
    }
   ],
   "source": [
    "# b)\n",
    "\n",
    "zcrit2 = norm.ppf(1-alpha)\n",
    "print('The z-critical value is', zcrit2)"
   ]
  },
  {
   "cell_type": "code",
   "execution_count": 41,
   "id": "7169cc4e",
   "metadata": {},
   "outputs": [
    {
     "name": "stdout",
     "output_type": "stream",
     "text": [
      "The value pf z-statistics is 6.734350297014738 and probability value is 8.233201952582752e-12\n"
     ]
    }
   ],
   "source": [
    "# c) and d)\n",
    "\n",
    "zstat2 = (t2mean2 - t2mean1) / (t2std / math.sqrt(t2n2))\n",
    "pval2 = norm.sf(abs(zstat2))\n",
    "print(f'The value pf z-statistics is {zstat2} and probability value is {pval2}')\n",
    "\n"
   ]
  },
  {
   "cell_type": "code",
   "execution_count": 45,
   "id": "7aef7db1",
   "metadata": {},
   "outputs": [
    {
     "name": "stdout",
     "output_type": "stream",
     "text": [
      "\n",
      "The value of alpha is 0.05\n",
      "The mean is 85\n",
      "The Standard Deviation is 2.1\n",
      "The Null hypothesis is 85\n",
      "The Alternate hypothesis is 87.5\n",
      "The Sample Size is 32\n",
      "The Z-statistic value is 6.734350297014738\n",
      "The Z-critical value is 1.6448536269514722\n",
      "The P-Value is 8.233201952582752e-12\n"
     ]
    }
   ],
   "source": [
    "print(f\"\"\"\n",
    "The value of alpha is {alpha}\n",
    "The mean is {t2mean}\n",
    "The Standard Deviation is {t2std}\n",
    "The Null hypothesis is {t2mean}\n",
    "The Alternate hypothesis is {t2mean2}\n",
    "The Sample Size is {t2n2}\n",
    "The Z-statistic value is {zstat2}\n",
    "The Z-critical value is {zcrit2}\n",
    "The P-Value is {pval2}\"\"\")"
   ]
  },
  {
   "cell_type": "code",
   "execution_count": 27,
   "id": "4d77d31a",
   "metadata": {},
   "outputs": [
    {
     "data": {
      "text/plain": [
       "[<matplotlib.lines.Line2D at 0x25a6b0d4190>]"
      ]
     },
     "execution_count": 27,
     "metadata": {},
     "output_type": "execute_result"
    },
    {
     "data": {
      "image/png": "[encoded data removed]",
      "text/plain": [
       "<Figure size 432x288 with 1 Axes>"
      ]
     },
     "metadata": {
      "needs_background": "light"
     },
     "output_type": "display_data"
    }
   ],
   "source": [
    "# e)\n",
    "\n",
    "lower = t2mean1 - 4 * t2std\n",
    "upper = t2mean1 + 4 * t2std\n",
    "norm_p = np.arange(lower, upper)\n",
    "plt.plot(norm_p, sts.norm.pdf(norm_p, t2mean1, t2std))"
   ]
  },
  {
   "cell_type": "markdown",
   "id": "a503844f",
   "metadata": {},
   "source": [
    "As per, decision rule:\n",
    "\n",
    "i. If p-value < alpha : Rejection of Null Hypothesis(H0)\n",
    "\n",
    "ii. If -z-critical > z-statistics > +z-critical : Rejection of Null Hypothesis(H0)\n",
    "    \n",
    "In out analysis, we can observe that pval > alpha and -zcritical < zstatistic > +zcritical, hence, alternate hypothesis is accepted"
   ]
  },
  {
   "cell_type": "code",
   "execution_count": null,
   "id": "b35775dc",
   "metadata": {},
   "outputs": [],
   "source": []
  }
 ],
 "metadata": {
  "kernelspec": {
   "display_name": "Python 3 (ipykernel)",
   "language": "python",
   "name": "python3"
  },
  "language_info": {
   "codemirror_mode": {
    "name": "ipython",
    "version": 3
   },
   "file_extension": ".py",
   "mimetype": "text/x-python",
   "name": "python",
   "nbconvert_exporter": "python",
   "pygments_lexer": "ipython3",
   "version": "3.9.12"
  }
 },
 "nbformat": 4,
 "nbformat_minor": 5
}
