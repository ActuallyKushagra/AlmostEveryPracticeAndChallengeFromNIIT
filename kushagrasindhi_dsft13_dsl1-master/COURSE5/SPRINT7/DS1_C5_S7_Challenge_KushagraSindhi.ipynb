{
 "cells": [
  {
   "cell_type": "code",
   "execution_count": 2,
   "id": "1a848df7",
   "metadata": {},
   "outputs": [],
   "source": [
    "import numpy as np\n",
    "import pandas as pd\n",
    "import matplotlib.pyplot as plt\n",
    "import statistics as st\n",
    "import scipy.stats as sts"
   ]
  },
  {
   "cell_type": "code",
   "execution_count": 32,
   "id": "7b3e72d9",
   "metadata": {},
   "outputs": [],
   "source": [
    "# task 1\n",
    "\n",
    "alpha = 0.1\n",
    "samp=[15,16,16,0,7,20,6,8,17,25,8,21,29,11,9,21,3,12]\n",
    "n = len(samp)\n",
    "dof = n-1"
   ]
  },
  {
   "cell_type": "markdown",
   "id": "f57d184d",
   "metadata": {},
   "source": [
    "###### a)\n",
    "\n",
    "T-test is best suited for this question\n",
    "T-test is best suited for this question"
   ]
  },
  {
   "cell_type": "code",
   "execution_count": 33,
   "id": "6f826fe0",
   "metadata": {},
   "outputs": [
    {
     "name": "stdout",
     "output_type": "stream",
     "text": [
      "The value of t-critical is 1.7396067260750672\n"
     ]
    }
   ],
   "source": [
    "# b)\n",
    "\n",
    "tcrit = sts.t.ppf(1-alpha/2, dof)\n",
    "print('The value of t-critical is', tcrit)"
   ]
  },
  {
   "cell_type": "code",
   "execution_count": 34,
   "id": "6a0d98d9",
   "metadata": {},
   "outputs": [
    {
     "name": "stdout",
     "output_type": "stream",
     "text": [
      "The sample mean is 13.555555555555555 and the sample standard deviation is 7.8006200524454705\n"
     ]
    }
   ],
   "source": [
    "# c)\n",
    "\n",
    "smean = st.mean(samp)\n",
    "sstd = st.stdev(samp)\n",
    "print(f'The sample mean is {smean} and the sample standard deviation is {sstd}')"
   ]
  },
  {
   "cell_type": "code",
   "execution_count": 35,
   "id": "34fa590c",
   "metadata": {},
   "outputs": [
    {
     "name": "stdout",
     "output_type": "stream",
     "text": [
      "The population mean lies between 10.357073263150044 and 16.754037847961065\n"
     ]
    }
   ],
   "source": [
    "# d)\n",
    "\n",
    "lowr = (smean - (tcrit*(sstd/st.sqrt(n))))\n",
    "upr = (smean + (tcrit*(sstd/st.sqrt(n))))\n",
    "print(f'The population mean lies between {lowr} and {upr}')"
   ]
  },
  {
   "cell_type": "code",
   "execution_count": 36,
   "id": "4c0701ce",
   "metadata": {},
   "outputs": [
    {
     "name": "stdout",
     "output_type": "stream",
     "text": [
      "reject null hypothesis\n"
     ]
    }
   ],
   "source": [
    "# e)\n",
    "\n",
    "if tstat < tcrit and pval > alpha:\n",
    "    print('Accept null hypothesis')\n",
    "else:\n",
    "    print('reject null hypothesis')"
   ]
  },
  {
   "cell_type": "code",
   "execution_count": 8,
   "id": "ee4c8192",
   "metadata": {},
   "outputs": [],
   "source": [
    "# task 2\n",
    "\n",
    "m1=[4.05,4.01,4.04,4.02]\n",
    "m2=[4.02,3.99,4.01,3.99,4.00,4.00]\n",
    "alpha = 0.01\n",
    "\n",
    "smean1 = st.mean(m1)\n",
    "smean2 = st.mean(m2)\n",
    "\n",
    "svar1 = st.variance(m1)\n",
    "svar2 = st.variance(m2)\n",
    "\n",
    "n1 = len(m1)\n",
    "n2 = len(m2)\n",
    "\n",
    "df = n1+n2-2"
   ]
  },
  {
   "cell_type": "markdown",
   "id": "a6b5d82e",
   "metadata": {},
   "source": [
    "###### a)\n",
    "\n",
    "Ho: m1mean = m2mean\n",
    "\n",
    "Ha: m1mean != m2mean"
   ]
  },
  {
   "cell_type": "code",
   "execution_count": 9,
   "id": "5165fda1",
   "metadata": {},
   "outputs": [
    {
     "name": "stdout",
     "output_type": "stream",
     "text": [
      "tcritical is 3.3553873313333957\n"
     ]
    }
   ],
   "source": [
    "# b)\n",
    "\n",
    "tcrit = sts.t.ppf((1-alpha/2),df)\n",
    "print(\"tcritical is\",tcrit)"
   ]
  },
  {
   "cell_type": "code",
   "execution_count": 10,
   "id": "6af2be62",
   "metadata": {},
   "outputs": [
    {
     "name": "stdout",
     "output_type": "stream",
     "text": [
      "tstatistics is 3.025960284531817\n",
      "pvalue is 0.016409957941527997\n"
     ]
    }
   ],
   "source": [
    "# c)\n",
    "\n",
    "denom = st.sqrt(((svar1)*(n1-1)+(svar2)*(n2-1))/df) * st.sqrt((1/n1)+(1/n2))\n",
    "tstat = ((smean1-smean2) - (0)) / denom\n",
    "print(\"tstatistics is\", tstat)\n",
    "\n",
    "pval = sts.t.sf(abs(tstat),df) * 2\n",
    "print(\"pvalue is\",pval)"
   ]
  },
  {
   "cell_type": "code",
   "execution_count": 11,
   "id": "d044062a",
   "metadata": {},
   "outputs": [
    {
     "name": "stdout",
     "output_type": "stream",
     "text": [
      "Null Hypothesis accepted\n"
     ]
    },
    {
     "data": {
      "image/png": "[encoded data removed]",
      "text/plain": [
       "<Figure size 432x288 with 1 Axes>"
      ]
     },
     "metadata": {
      "needs_background": "light"
     },
     "output_type": "display_data"
    }
   ],
   "source": [
    "# d)\n",
    "\n",
    "if pval < alpha and tstat > tcrit:\n",
    "    print('Null hypothesis rejected')\n",
    "else:\n",
    "    print('Null Hypothesis accepted')\n",
    "    \n",
    "x = np.arange(-4,4,0.05)\n",
    "\n",
    "a =  sts.t.pdf(x, smean1)\n",
    "plt.plot(x,a);"
   ]
  },
  {
   "cell_type": "markdown",
   "id": "df86e0d6",
   "metadata": {},
   "source": [
    "###### e)\n",
    "\n",
    "There is not much difference in the machines and output is more or less the same"
   ]
  },
  {
   "cell_type": "code",
   "execution_count": 23,
   "id": "73d507a1",
   "metadata": {},
   "outputs": [],
   "source": [
    "# task 3\n",
    "\n",
    "m1=[4.05,4.01,4.04,4.02]\n",
    "m2=[4.02,3.99,4.01,3.99,4.00,4.00]\n",
    "m3=[4.00,3.97,3.95,3.98,3.97]\n",
    "m4=[4.01,4.00,3.99,4.02]\n",
    "m = m1+m2+m3+m4\n",
    "\n",
    "alpha = 0.1\n",
    "\n",
    "smean1 = st.mean(m1)\n",
    "smean2 = st.mean(m2)\n",
    "smean3 = st.mean(m3)\n",
    "smean4 = st.mean(m4)\n",
    "smean = tot/n\n",
    "\n",
    "ssd1 = st.stdev(m1)\n",
    "ssd2 = st.stdev(m2)\n",
    "ssd3 = st.stdev(m3)\n",
    "ssd4 = st.stdev(m4)\n",
    "ssd = st.stdev(m)\n",
    "\n",
    "\n",
    "svar1 = st.variance(m1)\n",
    "svar2 = st.variance(m2)\n",
    "svar3 = st.variance(m3)\n",
    "svar4 = st.variance(m4)\n",
    "\n",
    "n1 = len(m1)\n",
    "n2 = len(m2)\n",
    "n3 = len(m3)\n",
    "n4 = len(m4)\n",
    "n = n1+n2+n3+n4\n",
    "\n",
    "df = n1+n2+n3+n4-4\n",
    "\n",
    "m1tot = sum(m1)\n",
    "m2tot = sum(m2)\n",
    "m3tot = sum(m3)\n",
    "m4tot = sum(m4)\n",
    "\n",
    "tot = m1tot + m2tot + m3tot + m4tot\n",
    "\n",
    "dfc = 4-1\n",
    "dfe = 19-4\n",
    "dft = 19-1"
   ]
  },
  {
   "cell_type": "markdown",
   "id": "176a263a",
   "metadata": {},
   "source": [
    "###### a)\n",
    "\n",
    "Ho: mean1 = mean2 = mean3 = mean4\n",
    "\n",
    "Ha: There is difference in at least one of the machines"
   ]
  },
  {
   "cell_type": "code",
   "execution_count": 15,
   "id": "b40dd479",
   "metadata": {},
   "outputs": [
    {
     "name": "stdout",
     "output_type": "stream",
     "text": [
      "fcritical  is 5.416964857818421\n"
     ]
    }
   ],
   "source": [
    "# b)\n",
    "\n",
    "fcrit = sts.f.ppf(1-0.01, dfc, dfe)\n",
    "print(f'fcritical  is {fcrit}')"
   ]
  },
  {
   "cell_type": "code",
   "execution_count": 16,
   "id": "abe1bb5c",
   "metadata": {},
   "outputs": [
    {
     "name": "stdout",
     "output_type": "stream",
     "text": [
      "Fstatistics is 10.098402523912094 and pvalue is 0.000685335440647619\n"
     ]
    }
   ],
   "source": [
    "# c)\n",
    "\n",
    "fstat, fpval = sts.f_oneway(m1, m2, m3, m4)\n",
    "print('Fstatistics is', fstat,'and pvalue is', fpval)"
   ]
  },
  {
   "cell_type": "code",
   "execution_count": 29,
   "id": "af0ea331",
   "metadata": {},
   "outputs": [
    {
     "name": "stdout",
     "output_type": "stream",
     "text": [
      "reject null hypothesis\n"
     ]
    },
    {
     "data": {
      "image/png": "[encoded data removed]",
      "text/plain": [
       "<Figure size 432x288 with 1 Axes>"
      ]
     },
     "metadata": {
      "needs_background": "light"
     },
     "output_type": "display_data"
    }
   ],
   "source": [
    "# d)\n",
    "\n",
    "if fstat < fcrit and pval > alpha:\n",
    "    print('Accept null hypothesis')\n",
    "else:\n",
    "    print('reject null hypothesis')\n",
    "    \n",
    "upper1 = smean + 4 * ssd\n",
    "lower = smean - 4 * ssd\n",
    "x = np.arange(-4, 4, 0.05)\n",
    "e = sts.t.pdf(x, df)\n",
    "plt.plot(x, e);"
   ]
  },
  {
   "cell_type": "markdown",
   "id": "1825ec44",
   "metadata": {},
   "source": [
    "###### e)\n",
    "\n",
    "There is not much difference in the machines and output is more or less the same"
   ]
  },
  {
   "cell_type": "code",
   "execution_count": null,
   "id": "4409398c",
   "metadata": {},
   "outputs": [],
   "source": []
  }
 ],
 "metadata": {
  "kernelspec": {
   "display_name": "Python 3 (ipykernel)",
   "language": "python",
   "name": "python3"
  },
  "language_info": {
   "codemirror_mode": {
    "name": "ipython",
    "version": 3
   },
   "file_extension": ".py",
   "mimetype": "text/x-python",
   "name": "python",
   "nbconvert_exporter": "python",
   "pygments_lexer": "ipython3",
   "version": "3.9.12"
  }
 },
 "nbformat": 4,
 "nbformat_minor": 5
}
