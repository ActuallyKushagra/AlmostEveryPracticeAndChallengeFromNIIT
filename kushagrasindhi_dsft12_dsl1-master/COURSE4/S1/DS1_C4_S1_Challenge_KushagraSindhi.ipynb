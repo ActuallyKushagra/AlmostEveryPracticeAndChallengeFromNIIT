{
 "cells": [
  {
   "cell_type": "code",
   "execution_count": 50,
   "id": "464249d3",
   "metadata": {},
   "outputs": [],
   "source": [
    "from numpy import genfromtxt\n",
    "import numpy as np"
   ]
  },
  {
   "cell_type": "markdown",
   "id": "d02ce58c",
   "metadata": {},
   "source": [
    "## Part 1"
   ]
  },
  {
   "cell_type": "code",
   "execution_count": 49,
   "id": "fc5eada6",
   "metadata": {},
   "outputs": [],
   "source": [
    "empdat = genfromtxt(\"DS1_C4_S1_Employee_Data_Challenge.csv\", delimiter = \",\", dtype = int, skip_header = 1)"
   ]
  },
  {
   "cell_type": "code",
   "execution_count": 51,
   "id": "fdfb59c9",
   "metadata": {},
   "outputs": [
    {
     "name": "stdout",
     "output_type": "stream",
     "text": [
      "28.26\n"
     ]
    }
   ],
   "source": [
    "# task 1 average age of all employees\n",
    "\n",
    "avage = np.mean(empdat[:, 1])\n",
    "print(avage)"
   ]
  },
  {
   "cell_type": "code",
   "execution_count": 52,
   "id": "ab3b6b15",
   "metadata": {},
   "outputs": [
    {
     "name": "stdout",
     "output_type": "stream",
     "text": [
      "total number employees with age greater than 25 =  38\n",
      "List of employees with age greater than 25 \n",
      " [[ 2 27]\n",
      " [ 3 31]\n",
      " [ 4 29]\n",
      " [ 5 27]\n",
      " [ 6 26]\n",
      " [ 7 27]\n",
      " [ 9 27]\n",
      " [10 32]\n",
      " [11 28]\n",
      " [12 27]\n",
      " [14 27]\n",
      " [15 35]\n",
      " [16 33]\n",
      " [17 28]\n",
      " [20 27]\n",
      " [21 37]\n",
      " [22 27]\n",
      " [24 27]\n",
      " [25 28]\n",
      " [26 26]\n",
      " [27 27]\n",
      " [28 27]\n",
      " [29 29]\n",
      " [30 49]\n",
      " [31 26]\n",
      " [32 32]\n",
      " [33 26]\n",
      " [37 28]\n",
      " [38 28]\n",
      " [40 26]\n",
      " [41 32]\n",
      " [42 35]\n",
      " [43 33]\n",
      " [44 31]\n",
      " [45 30]\n",
      " [46 36]\n",
      " [49 32]\n",
      " [50 34]]\n"
     ]
    }
   ],
   "source": [
    "# task 2 employees with age > 25 with total number\n",
    "\n",
    "totem = np.where(empdat[:,1] > 25)\n",
    "print('total number employees with age greater than 25 = ', np.size(totem))\n",
    "print('List of employees with age greater than 25 \\n', empdat[totem])"
   ]
  },
  {
   "cell_type": "code",
   "execution_count": 31,
   "id": "1577b0aa",
   "metadata": {},
   "outputs": [
    {
     "name": "stdout",
     "output_type": "stream",
     "text": [
      "Employees with age greater than 30 but less than 35 \n",
      " [[ 3 31]\n",
      " [10 32]\n",
      " [16 33]\n",
      " [32 32]\n",
      " [41 32]\n",
      " [43 33]\n",
      " [44 31]\n",
      " [49 32]\n",
      " [50 34]]\n"
     ]
    }
   ],
   "source": [
    "# task 3  employee age => 35 > age > 30\n",
    "\n",
    "age35 = np.where((empdat[:, 1] > 30) & (empdat[:, 1] < 35))\n",
    "print('Employees with age greater than 30 but less than 35 \\n', empdat[age35])"
   ]
  },
  {
   "cell_type": "markdown",
   "id": "26e9d24e",
   "metadata": {},
   "source": [
    "## part 2"
   ]
  },
  {
   "cell_type": "code",
   "execution_count": 53,
   "id": "4be685a4",
   "metadata": {},
   "outputs": [],
   "source": [
    "cusdat = genfromtxt('DS1_C4_S1_Shopping_Data_Challenge.csv', delimiter = ',', skip_header = 1, dtype = int)"
   ]
  },
  {
   "cell_type": "code",
   "execution_count": 55,
   "id": "27ea7beb",
   "metadata": {},
   "outputs": [
    {
     "name": "stdout",
     "output_type": "stream",
     "text": [
      "These are the customers with spending scores greater than 80 \n",
      " [[  2  21  15  81]\n",
      " [  8  23  18  94]\n",
      " [ 12  35  19  99]\n",
      " [ 20  35  23  98]\n",
      " [ 26  29  28  82]\n",
      " [ 30  23  29  87]\n",
      " [ 34  18  33  92]\n",
      " [ 36  21  33  81]\n",
      " [ 42  24  38  92]\n",
      " [124  39  69  91]\n",
      " [128  40  71  95]\n",
      " [136  29  73  88]\n",
      " [142  32  75  93]\n",
      " [144  32  76  87]\n",
      " [146  28  77  97]\n",
      " [150  34  78  90]\n",
      " [152  39  78  88]\n",
      " [156  27  78  89]\n",
      " [162  29  79  83]\n",
      " [164  31  81  93]\n",
      " [168  33  86  95]\n",
      " [174  36  87  92]\n",
      " [176  30  88  86]\n",
      " [180  35  93  90]\n",
      " [182  32  97  86]\n",
      " [184  29  98  88]\n",
      " [186  30  99  97]\n",
      " [190  36 103  85]\n",
      " [194  38 113  91]\n",
      " [200  30 137  83]]\n"
     ]
    }
   ],
   "source": [
    "# task 1 customers with spending scores greater than 80\n",
    "\n",
    "spscore = np.where(cusdat[0:, 3] > 80)\n",
    "print('These are the customers with spending scores greater than 80 \\n',cusdat[spscore])"
   ]
  },
  {
   "cell_type": "code",
   "execution_count": 64,
   "id": "5d011bc1",
   "metadata": {},
   "outputs": [
    {
     "name": "stdout",
     "output_type": "stream",
     "text": [
      "Rows with age bweteen 20 and 24 \n",
      " [[[  2  21  15  81]\n",
      "  [  3  20  16   6]\n",
      "  [  4  23  16  77]\n",
      "  [  6  22  17  76]\n",
      "  [  8  23  18  94]\n",
      "  [ 14  24  20  77]\n",
      "  [ 16  22  20  79]\n",
      "  [ 18  20  21  66]\n",
      "  [ 30  23  29  87]\n",
      "  [ 32  21  30  73]\n",
      "  [ 36  21  33  81]\n",
      "  [ 40  20  37  75]\n",
      "  [ 42  24  38  92]\n",
      "  [ 46  24  39  65]\n",
      "  [ 79  23  54  52]\n",
      "  [ 85  21  54  57]\n",
      "  [ 88  22  57  55]\n",
      "  [ 96  24  60  52]\n",
      "  [100  20  61  49]\n",
      "  [101  23  62  41]\n",
      "  [106  21  62  42]\n",
      "  [125  23  70  29]\n",
      "  [135  20  73   5]]]\n"
     ]
    }
   ],
   "source": [
    "# task 2 rows with age between 20 and 24\n",
    "\n",
    "cus = np.where((cusdat[0:, 1] >= 20) & (cusdat[0:, 1] <= 24))\n",
    "print('Rows with age bweteen 20 and 24 \\n', cusdat[cus,0:])"
   ]
  },
  {
   "cell_type": "code",
   "execution_count": 71,
   "id": "77ded11e",
   "metadata": {},
   "outputs": [
    {
     "name": "stdout",
     "output_type": "stream",
     "text": [
      "Lowest annual income  \n",
      "  [[[ 1 15]\n",
      "  [ 2 15]]]\n",
      "_______________________________________________________________\n",
      "Highest annual income  \n",
      " [[[199 137]\n",
      "  [200 137]]]\n"
     ]
    }
   ],
   "source": [
    "# task 3 lowest and highest annual income\n",
    "\n",
    "minin = np.where(cusdat[:,2] == (min(cusdat[:, 2])))\n",
    "maxin = np.where(cusdat[:, 2] == (max(cusdat[:, 2])))\n",
    "\n",
    "print(\"Lowest annual income  \\n \", cusdat[minin,0:3:2])\n",
    "print(\"_______________________________________________________________\")\n",
    "print(\"Highest annual income  \\n\", cusdat[maxin, 0:3:2])"
   ]
  },
  {
   "cell_type": "code",
   "execution_count": 83,
   "id": "ee8ee213",
   "metadata": {},
   "outputs": [
    {
     "name": "stdout",
     "output_type": "stream",
     "text": [
      "There are 26 customers eligible for discount, they are: \n",
      " [[ 42  24  38  92]\n",
      " [124  39  69  91]\n",
      " [126  31  70  77]\n",
      " [128  40  71  95]\n",
      " [136  29  73  88]\n",
      " [142  32  75  93]\n",
      " [144  32  76  87]\n",
      " [146  28  77  97]\n",
      " [150  34  78  90]\n",
      " [152  39  78  88]\n",
      " [154  38  78  76]\n",
      " [156  27  78  89]\n",
      " [158  30  78  78]\n",
      " [162  29  79  83]\n",
      " [164  31  81  93]\n",
      " [168  33  86  95]\n",
      " [174  36  87  92]\n",
      " [176  30  88  86]\n",
      " [180  35  93  90]\n",
      " [182  32  97  86]\n",
      " [184  29  98  88]\n",
      " [186  30  99  97]\n",
      " [190  36 103  85]\n",
      " [194  38 113  91]\n",
      " [196  35 120  79]\n",
      " [200  30 137  83]]\n"
     ]
    }
   ],
   "source": [
    "# task 4 customers with spending score > 75, min annual sal > 35000, age < 45\n",
    "\n",
    "spagesal = np.where((cusdat[0:,3] > 75) & (cusdat[0:,2] > 35) & (cusdat[0:,1] < 45))\n",
    "print(f\"There are {np.size(spagesal)} customers eligible for discount, they are: \\n {cusdat[spagesal]}\")"
   ]
  },
  {
   "cell_type": "code",
   "execution_count": 93,
   "id": "95735572",
   "metadata": {},
   "outputs": [
    {
     "name": "stdout",
     "output_type": "stream",
     "text": [
      "After discount is added \n",
      " [[  1  19  15 ...  29  41  44]\n",
      " [  2  21  15 ...  10  48  24]\n",
      " [  3  20  16 ...  14  28  28]\n",
      " ...\n",
      " [198  32 126 ...  39  14  23]\n",
      " [199  32 137 ...  38  49  28]\n",
      " [200  30 137 ...  18  46  39]]\n"
     ]
    }
   ],
   "source": [
    "# task 5 new column with discount between 10 and 50%\n",
    "\n",
    "discount = np.random.randint(10,51,200)\n",
    "temp = discount.reshape(200,1)\n",
    "cusdat = np.concatenate((cusdat, temp), axis = 1)\n",
    "print('After discount is added \\n', cusdat)"
   ]
  },
  {
   "cell_type": "code",
   "execution_count": 92,
   "id": "823108e8",
   "metadata": {},
   "outputs": [
    {
     "name": "stdout",
     "output_type": "stream",
     "text": [
      "count of Customers with discount > 45 =  1216\n",
      "Customers with discount > 45 \n",
      " [[  4  23  16  77  46  34  35  35]\n",
      " [ 11  67  19  14  47  26  47  40]\n",
      " [ 21  35  24  35  48  46  12  27]\n",
      " [ 23  46  25   5  48  47  48  47]\n",
      " [ 40  20  37  75  50  30  10  26]\n",
      " [ 41  65  38  35  47  10  39  14]\n",
      " [ 54  59  43  60  46  29  21  18]\n",
      " [ 63  67  47  52  49  33  26  29]\n",
      " [ 65  63  48  51  46  49  45  12]\n",
      " [ 77  45  54  53  47  37  33  31]\n",
      " [ 81  57  54  51  47  42  13  44]\n",
      " [ 84  46  54  44  49  36  28  15]\n",
      " [125  23  70  29  50  20  41  29]\n",
      " [178  27  88  69  46  33  25  15]\n",
      " [182  32  97  86  47  25  10  15]\n",
      " [183  46  98  15  47  37  29  32]\n",
      " [184  29  98  88  49  25  30  21]\n",
      " [185  41  99  39  50  35  42  45]\n",
      " [190  36 103  85  46  21  39  16]]\n"
     ]
    }
   ],
   "source": [
    "# task 6 Customers with discount > 45\n",
    "\n",
    "cu = cusdat[cusdat[0:, 4] > 45]\n",
    "print('count of Customers with discount > 45 = ', cusdat[cu].size)\n",
    "print('Customers with discount > 45 \\n', cu)\n"
   ]
  }
 ],
 "metadata": {
  "kernelspec": {
   "display_name": "Python 3 (ipykernel)",
   "language": "python",
   "name": "python3"
  },
  "language_info": {
   "codemirror_mode": {
    "name": "ipython",
    "version": 3
   },
   "file_extension": ".py",
   "mimetype": "text/x-python",
   "name": "python",
   "nbconvert_exporter": "python",
   "pygments_lexer": "ipython3",
   "version": "3.9.12"
  }
 },
 "nbformat": 4,
 "nbformat_minor": 5
}
