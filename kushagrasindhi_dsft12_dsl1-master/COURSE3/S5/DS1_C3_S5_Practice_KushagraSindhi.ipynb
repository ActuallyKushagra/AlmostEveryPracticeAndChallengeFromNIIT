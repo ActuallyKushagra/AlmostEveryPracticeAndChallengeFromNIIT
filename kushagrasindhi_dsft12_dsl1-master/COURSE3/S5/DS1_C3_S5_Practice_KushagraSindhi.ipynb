{
 "cells": [
  {
   "cell_type": "code",
   "execution_count": 25,
   "id": "a3a6443a",
   "metadata": {},
   "outputs": [
    {
     "name": "stdout",
     "output_type": "stream",
     "text": [
      "Enter the word = 112211\n",
      "('112211', 'is a Palindrome')\n"
     ]
    }
   ],
   "source": [
    "# task 1 checks if the input is a palindrome or not\n",
    "\n",
    "def palincheck(str):\n",
    "    if(str == str[::-1]):\n",
    "        return str, \"is a Palindrome\"\n",
    "    else:\n",
    "        return str, 'is not a Palindrome'\n",
    "print(palincheck(input(\"Enter the word = \")))"
   ]
  },
  {
   "cell_type": "code",
   "execution_count": 21,
   "id": "51143ef4",
   "metadata": {},
   "outputs": [
    {
     "name": "stdout",
     "output_type": "stream",
     "text": [
      "Enter word = python\n",
      "sorted string is hnopty\n"
     ]
    }
   ],
   "source": [
    "# task 2 sorting string (converts string into list, sorts list and converts string back to string)\n",
    "\n",
    "list = []\n",
    "def wordsort(words):\n",
    "    for i in words:\n",
    "        list.append(i)\n",
    "    list.sort()\n",
    "    sorted_word = \"\"  # why did global variable not work?\n",
    "    for i in list:\n",
    "        sorted_word += i\n",
    "    return sorted_word\n",
    "argvar = input(\"Enter word = \")\n",
    "print(\"sorted string is\", wordsort(argvar))\n",
    "# why is uppercase not being sorted?"
   ]
  },
  {
   "cell_type": "code",
   "execution_count": 15,
   "id": "da0e8ea8",
   "metadata": {},
   "outputs": [
    {
     "name": "stdout",
     "output_type": "stream",
     "text": [
      "Parry Hotter is real\n"
     ]
    }
   ],
   "source": [
    "# task 3 list to string conversion\n",
    "\n",
    "import functools as x\n",
    "\n",
    "def listostr(li):\n",
    "    return x.reduce(lambda x, y: x + y, li)\n",
    "print(listostr(['Parry ', 'Hotter ', 'is ', 'real']))"
   ]
  },
  {
   "cell_type": "code",
   "execution_count": 22,
   "id": "1106d104",
   "metadata": {},
   "outputs": [
    {
     "name": "stdout",
     "output_type": "stream",
     "text": [
      "Total elements = 5\n",
      "Enter number = 4545\n",
      "Enter number = 156156\n",
      "Enter number = 16106589\n",
      "Enter number = 1626\n",
      "Enter number = 1566489465156\n",
      "[4545, 156156, 16106589, 1626, 1566489465156] Is the final list\n",
      "('Max number is ', 1566489465156, 'Smallest number is ', 1626)\n"
     ]
    }
   ],
   "source": [
    "# task 4 insert number in a list and display largest and smallest\n",
    "            \n",
    "def smlg():\n",
    "    li = []\n",
    "    for i in range(int(input(\"Total elements = \"))):\n",
    "        li.append(int(input(\"Enter number = \")))\n",
    "    print(li, \"Is the final list\")\n",
    "    return \"Max number is \", max(li), \"Smallest number is \", min(li)\n",
    "\n",
    "print(smlg())"
   ]
  },
  {
   "cell_type": "code",
   "execution_count": 2,
   "id": "0de8a141",
   "metadata": {},
   "outputs": [
    {
     "name": "stdout",
     "output_type": "stream",
     "text": [
      "Enter keys = item1\n",
      "Enter values = 45.50\n",
      "Enter keys = item2\n",
      "Enter values = 35\n",
      "Enter keys = item3\n",
      "Enter values = 41.30\n",
      "Enter keys = item4\n",
      "Enter values = 29\n",
      "Enter keys = item5\n",
      "Enter values = 49.89\n",
      "final dictionary is =  {'item1': 45.5, 'item2': 35.0, 'item3': 41.3, 'item4': 29.0, 'item5': 49.89}\n",
      "(49.89, 'is the max value', 29.0, 'is the smallest value')\n"
     ]
    }
   ],
   "source": [
    "# task 5 create dictionary, insert keys and values and display largest and smallest values\n",
    "\n",
    "def dict():\n",
    "    di = {}\n",
    "    for i in range(5):\n",
    "        k = input(\"Enter keys = \")\n",
    "        v = float(input(\"Enter values = \"))\n",
    "        di.update({k:v})\n",
    "    print(\"final dictionary is = \", di)  \n",
    "    return max(di.values()), \"is the max value\", min(di.values()), 'is the smallest value'\n",
    "\n",
    "print(dict())"
   ]
  },
  {
   "cell_type": "code",
   "execution_count": 4,
   "id": "20f29c20",
   "metadata": {},
   "outputs": [
    {
     "name": "stdout",
     "output_type": "stream",
     "text": [
      "enter name = Kushagra\n",
      "enter age = 22\n",
      "enter genderMale\n",
      "      Name        Age     Gender\n",
      "  Kushagra         22       Male\n",
      "None\n"
     ]
    }
   ],
   "source": [
    "# task 6 take input, display details using inner functions\n",
    "\n",
    "def func():\n",
    "    name = input(\"enter name = \")\n",
    "    age = int(input(\"enter age = \"))\n",
    "    gender = input(\"enter gender\")\n",
    "    \n",
    "    def prnt(na, ag, gen):\n",
    "        print('%10s %10s %10s' % (\"Name\", \"Age\", \"Gender\"))\n",
    "        print('%10s %10s %10s' % (na, ag, gen))\n",
    "        \n",
    "    prnt(name, age, gender)\n",
    "print(func())"
   ]
  },
  {
   "cell_type": "code",
   "execution_count": 6,
   "id": "f7614771",
   "metadata": {},
   "outputs": [
    {
     "name": "stdout",
     "output_type": "stream",
     "text": [
      "Enter number #1 = 4\n",
      "Enter number #2 = 2\n",
      "32\n"
     ]
    }
   ],
   "source": [
    "# task 7 calulcate the math expression on input numbers, calling outer function inside of another function\n",
    "\n",
    "def sq():\n",
    "    num1 = int(input(\"Enter number #1 = \"))\n",
    "    num2 = int(input(\"Enter number #2 = \"))\n",
    "    return sqin(num1, num2)\n",
    "    \n",
    "def sqin(a, b):\n",
    "    return a**2*b\n",
    "\n",
    "print(sq())"
   ]
  },
  {
   "cell_type": "code",
   "execution_count": 16,
   "id": "f0ccc6a0",
   "metadata": {},
   "outputs": [
    {
     "name": "stdout",
     "output_type": "stream",
     "text": [
      "[('green', 1), ('blue', 2), ('yellow', 3), ('black', 4), ('red', 5)]\n"
     ]
    }
   ],
   "source": [
    "# task 8 sorting a dictionary\n",
    "\n",
    "color = [('black', 4), ('green', 1), ('red', 5), ('blue', 2), ('yellow', 3)]\n",
    "color.sort(key=lambda x:x[1])\n",
    "print(color)"
   ]
  },
  {
   "cell_type": "code",
   "execution_count": 17,
   "id": "356d5773",
   "metadata": {},
   "outputs": [
    {
     "name": "stdout",
     "output_type": "stream",
     "text": [
      "['Mandy']\n"
     ]
    }
   ],
   "source": [
    "# task 9 find the intersection or the common value in the list using lamba functions\n",
    "\n",
    "a = [\"Andy\", \"Mandy\", \"Sandy\"]\n",
    "b = [\"Handy\", \"Brandy\", \"Mandy\"]\n",
    "print(list( filter( lambda x : x in a, b)))"
   ]
  },
  {
   "cell_type": "code",
   "execution_count": 18,
   "id": "3f0769c3",
   "metadata": {},
   "outputs": [
    {
     "name": "stdout",
     "output_type": "stream",
     "text": [
      "[29, 29, 29]\n"
     ]
    }
   ],
   "source": [
    "# task 10 addition of two list using lambda functions\n",
    "\n",
    "c = [12,13,14]\n",
    "d = [17,16,15]\n",
    "li = list(map(lambda c, d : c + d, c, d))\n",
    "print(li)"
   ]
  }
 ],
 "metadata": {
  "kernelspec": {
   "display_name": "Python 3 (ipykernel)",
   "language": "python",
   "name": "python3"
  },
  "language_info": {
   "codemirror_mode": {
    "name": "ipython",
    "version": 3
   },
   "file_extension": ".py",
   "mimetype": "text/x-python",
   "name": "python",
   "nbconvert_exporter": "python",
   "pygments_lexer": "ipython3",
   "version": "3.9.12"
  }
 },
 "nbformat": 4,
 "nbformat_minor": 5
}
