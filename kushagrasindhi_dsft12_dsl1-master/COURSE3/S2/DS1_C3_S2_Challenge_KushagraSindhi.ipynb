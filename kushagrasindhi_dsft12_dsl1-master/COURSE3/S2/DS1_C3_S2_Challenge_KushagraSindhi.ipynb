{
 "cells": [
  {
   "cell_type": "code",
   "execution_count": 35,
   "id": "097d15d5",
   "metadata": {},
   "outputs": [
    {
     "name": "stdout",
     "output_type": "stream",
     "text": [
      "Enter the year between 1900 and 2100 = 2022\n",
      "not a leap year\n"
     ]
    }
   ],
   "source": [
    "# task 1, checks the leap year\n",
    "year = int(input(\"Enter the year between 1900 and 2100 = \"))\n",
    "if(year % 4 == 0):\n",
    "    if(year % 100 != 0): # should be divisible by 4 and 100 with remainder as 0 and \"not 0\" respectively for leap year\n",
    "        print(year, \"is a leap year\")\n",
    "else:\n",
    "    print(year, \"is not a leap year\")"
   ]
  },
  {
   "cell_type": "code",
   "execution_count": 4,
   "id": "d4c4fcdc",
   "metadata": {},
   "outputs": [
    {
     "name": "stdout",
     "output_type": "stream",
     "text": [
      "Enter number between 1 and 12 = 2\n",
      "number 2 corresponds to  Feburary which has  28 days\n"
     ]
    }
   ],
   "source": [
    "# task 2, alt method 1, prints the month name and total days in the month\n",
    "monthNumberDict = {1: 'January', 2: 'Feburary', 3: 'March', 4: 'April', 5: 'May', 6: 'June', 7: \"July\", 8: 'August', 9: 'September', 10: 'October', 11: 'November', 12: 'December'}\n",
    "monthNumDaysDict = {1: 31, 2: 28, 3: 31, 4: 30, 5: 31, 6: 30, 7: 31, 8: 31, 9: 30, 10: 31, 11: 30, 12: 31}\n",
    "num = int(input(\"Enter number between 1 and 12 = \"))\n",
    "if(num in monthNumberDict and num in monthNumDaysDict):\n",
    "    print(\"number\", num, \"corresponds to \", monthNumberDict[num], \"which has \", monthNumDaysDict[num], \"days\")\n",
    "else:\n",
    "    print(\"error\")"
   ]
  },
  {
   "cell_type": "code",
   "execution_count": 8,
   "id": "5b039f59",
   "metadata": {},
   "outputs": [
    {
     "name": "stdout",
     "output_type": "stream",
     "text": [
      "Enter the purchase amount = 251\n",
      "Discount is 25%\n"
     ]
    }
   ],
   "source": [
    "# task 3, determines the discount applicable on purchase\n",
    "amt = float(input(\"Enter the purchase amount = \"))\n",
    "if(amt < 100):\n",
    "    print(\"No discount\")\n",
    "elif(amt >= 100 and amt < 150):\n",
    "    print(\"Discount is 10%\")\n",
    "elif(amt >= 150 and amt < 200):\n",
    "    print(\"Discount is 15%\")\n",
    "elif(amt >= 200 and amt < 250):\n",
    "    print(\"Discount is 20%\")\n",
    "else:\n",
    "    print(\"Discount is 25%\")"
   ]
  },
  {
   "cell_type": "code",
   "execution_count": 38,
   "id": "5d37453e",
   "metadata": {},
   "outputs": [
    {
     "name": "stdout",
     "output_type": "stream",
     "text": [
      "What's 5 times 2? 10\n",
      "Correct!! \n",
      "What's 56 - 6? 55\n",
      "Incorrect! Please try again. \n",
      "What's 8 times 9 plus 2? 74\n",
      "Correct!! \n"
     ]
    }
   ],
   "source": [
    "# task 4,\n",
    "# Waiting for the debrief\n",
    "ques = int(input(\"What's 5 times 2? \"))\n",
    "if(ques == 10):\n",
    "    print(\"Correct!! \")\n",
    "else:\n",
    "    print(\"Incorrect! Please try again. \")\n",
    "\n",
    "ques2 = int(input(\"What's 56 - 6? \"))\n",
    "if(ques2 == 50):\n",
    "    print(\"Correct!! \")\n",
    "else:\n",
    "    print(\"Incorrect! Please try again. \")\n",
    "\n",
    "ques3 = int(input(\"What's 8 times 9 plus 2? \"))\n",
    "if(ques3 == 74):\n",
    "    print(\"Correct!! \")\n",
    "else:\n",
    "    print(\"Incorrect! Please try again. \")"
   ]
  },
  {
   "cell_type": "code",
   "execution_count": 33,
   "id": "bd319a90",
   "metadata": {},
   "outputs": [
    {
     "name": "stdout",
     "output_type": "stream",
     "text": [
      "Enter as rock, paper or scissor = rock\n",
      "You chose rock , Computer chose scissor , You win\n"
     ]
    }
   ],
   "source": [
    "# task 5, rock-paper-scissor. rock > scissor > paper > rock\n",
    "import random\n",
    "\n",
    "uc = input(\"Enter as rock, paper or scissor = \").lower()\n",
    "playdict = {1: \"rock\", 2: \"paper\", 3: \"scissor\"}\n",
    "randval = random.randint(1, 3) # chooses a random value between 1 and 3\n",
    "cc = playdict[randval].lower() # substitutes the random value in the playdict dictionary\n",
    "if(uc == cc):\n",
    "    print(\"You chose\", uc, ',', \"Computer chose\", cc, ',', \"Its a Draw\")\n",
    "elif(uc == \"rock\" and cc == \"paper\"):\n",
    "    print(\"You chose\", uc, ',', \"Computer chose\", cc, ',', \"Computer wins\")\n",
    "elif(uc == \"rock\" and cc == \"scissor\"):\n",
    "    print(\"You chose\", uc, ',', \"Computer chose\", cc, ',', \"You win\")\n",
    "elif(uc == \"paper\" and cc == \"rock\"):\n",
    "    print(\"You chose\", uc, ',', \"Computer chose\", cc, ',', \"You win\")\n",
    "elif(uc == \"paper\" and cc == \"scissor\"):\n",
    "    print(\"You chose\", uc, ',', \"Computer chose\", cc, ',', \"Computer wins\")\n",
    "elif(uc == \"scissor\" and cc == \"paper\"):\n",
    "    print(\"You chose\", uc, ',', \"Computer chose\", cc, ',', \"You win\")\n",
    "elif(uc == \"scissor\" and cc == \"rock\"):\n",
    "    print(\"You chose\", uc, ',', \"Computer chose\", cc, ',', \"Computer wins\")\n",
    "else:\n",
    "    print(\"error\")"
   ]
  }
 ],
 "metadata": {
  "kernelspec": {
   "display_name": "Python 3 (ipykernel)",
   "language": "python",
   "name": "python3"
  },
  "language_info": {
   "codemirror_mode": {
    "name": "ipython",
    "version": 3
   },
   "file_extension": ".py",
   "mimetype": "text/x-python",
   "name": "python",
   "nbconvert_exporter": "python",
   "pygments_lexer": "ipython3",
   "version": "3.9.12"
  }
 },
 "nbformat": 4,
 "nbformat_minor": 5
}
