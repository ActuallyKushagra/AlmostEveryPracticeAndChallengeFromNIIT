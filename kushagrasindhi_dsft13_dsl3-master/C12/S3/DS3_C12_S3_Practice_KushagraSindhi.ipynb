{
 "cells": [
  {
   "cell_type": "code",
   "execution_count": 15,
   "id": "34fce650",
   "metadata": {},
   "outputs": [],
   "source": [
    "import spacy\n",
    "import nltk\n",
    "from nltk.corpus import stopwords\n",
    "from nltk.stem.snowball import SnowballStemmer\n",
    "stemmer = SnowballStemmer(language = 'english')"
   ]
  },
  {
   "cell_type": "code",
   "execution_count": 5,
   "id": "d564027b",
   "metadata": {},
   "outputs": [
    {
     "data": {
      "text/plain": [
       "['before',\n",
       " 'than',\n",
       " '‘m',\n",
       " 'next',\n",
       " 'under',\n",
       " 'never',\n",
       " 'every',\n",
       " 'yourselves',\n",
       " 'less',\n",
       " 'six',\n",
       " 'because',\n",
       " 'yourself',\n",
       " 'well',\n",
       " 'done',\n",
       " 'unless']"
      ]
     },
     "execution_count": 5,
     "metadata": {},
     "output_type": "execute_result"
    }
   ],
   "source": [
    "# task 1\n",
    "\n",
    "nlp = spacy.load('en_core_web_sm')\n",
    "stop_words= nlp.Defaults.stop_words\n",
    "list(stop_words)[:15]"
   ]
  },
  {
   "cell_type": "code",
   "execution_count": 6,
   "id": "d5aef37f",
   "metadata": {},
   "outputs": [
    {
     "data": {
      "text/plain": [
       "326"
      ]
     },
     "execution_count": 6,
     "metadata": {},
     "output_type": "execute_result"
    }
   ],
   "source": [
    "len(stop_words)"
   ]
  },
  {
   "cell_type": "code",
   "execution_count": 7,
   "id": "5325f123",
   "metadata": {},
   "outputs": [],
   "source": [
    "f1 = open('DS3_C2_S3_ScifiscriptsIntro_Data_Practice.txt', 'r').read()\n",
    "f2 = open('DS3_C2_S3_Sample_Data_Practice.txt', 'r').read()\n",
    "f3 = open('DS3_C2_S3_Random_Data_Practice.txt', 'r').read()"
   ]
  },
  {
   "cell_type": "code",
   "execution_count": 8,
   "id": "04141542",
   "metadata": {},
   "outputs": [
    {
     "name": "stdout",
     "output_type": "stream",
     "text": [
      "cries ---> cri\n",
      "this ---> this\n",
      "lied ---> lie\n",
      "computer ---> comput\n",
      "computed ---> comput\n",
      "computing ---> comput\n",
      "organization ---> organ\n"
     ]
    }
   ],
   "source": [
    "# task 2\n",
    "\n",
    "# stem\n",
    "\n",
    "tokens = ['cries' , 'this', 'lied', 'computer', 'computed', 'computing', 'organization']\n",
    "\n",
    "for token in tokens:\n",
    "     print(token, '--->',stemmer.stem(token))"
   ]
  },
  {
   "cell_type": "code",
   "execution_count": 10,
   "id": "22fafa28",
   "metadata": {},
   "outputs": [
    {
     "name": "stdout",
     "output_type": "stream",
     "text": [
      "[ ---> [\n",
      "' ---> '\n",
      "cries ---> cry\n",
      "' ---> '\n",
      ", ---> ,\n",
      "' ---> '\n",
      "this ---> this\n",
      "' ---> '\n",
      ", ---> ,\n",
      "' ---> '\n",
      "lied ---> lie\n",
      "' ---> '\n",
      ", ---> ,\n",
      "' ---> '\n",
      "computer ---> computer\n",
      "' ---> '\n",
      ", ---> ,\n",
      "' ---> '\n",
      "computed ---> compute\n",
      "' ---> '\n",
      ", ---> ,\n",
      "' ---> '\n",
      "computing ---> compute\n",
      "' ---> '\n",
      ", ---> ,\n",
      "' ---> '\n",
      "organization ---> organization\n",
      "' ---> '\n",
      "] ---> ]\n"
     ]
    }
   ],
   "source": [
    "# lem\n",
    "\n",
    "for word in nlp(str(tokens)):\n",
    "    print(word.text,'--->',word.lemma_)"
   ]
  },
  {
   "cell_type": "code",
   "execution_count": 12,
   "id": "f27d5a8a",
   "metadata": {},
   "outputs": [
    {
     "name": "stdout",
     "output_type": "stream",
     "text": [
      "Filtered Sentence :\n",
      "\n",
      " [Note, poster, Kubrick, newsgroup, :, \n",
      "\n",
      ", found, bbs, ago, thought, pass, \n",
      ", Kubrick, freaks, ., \n",
      "\n",
      ", 02/23/89, \n",
      ", Transcriber, note, :, \n",
      "\n",
      ", Clarke, /, Kubrick/2001, fans, ,, \n",
      "\n",
      ", found, original, paper, copy, screenplay, felt, \n",
      ", compelled, transcribe, disk, upload, bulletin, \n",
      ", boards, enjoyment, ., \n",
      "\n",
      ", final, movie, deviates, screenplay, number, interesting, \n",
      ", ways, ., tried, maintain, format, original, document, \n",
      ", number, lines, page, original, ., order, reduce, \n",
      ", length, file, bar, \", ------, \", delimit, pages, \n",
      ", lot, whitespace, original, screenplay, page, ., \n",
      "]\n"
     ]
    }
   ],
   "source": [
    "# task 3\n",
    "# a\n",
    "filtered_sent = []\n",
    "\n",
    "for word in nlp(f1):\n",
    "    if word.is_stop == False:\n",
    "        filtered_sent.append(word)\n",
    "        \n",
    "print(\"Filtered Sentence :\\n\\n\",filtered_sent)"
   ]
  },
  {
   "cell_type": "code",
   "execution_count": 13,
   "id": "f765ac34",
   "metadata": {},
   "outputs": [
    {
     "name": "stdout",
     "output_type": "stream",
     "text": [
      "[Qwerty, keyboard, layout, ,, language, English, -, ,, Screen, resolution, 1080x1920, ,, Screen, size, 15.6, inch, Ram, 8, gb]\n"
     ]
    }
   ],
   "source": [
    "# b\n",
    "\n",
    "txt = 'Qwerty is the keyboard layout, The language is English-US, Screen resolution is 1080x1920, Screen size is 15.6 inch and the Ram is 8gb'\n",
    "\n",
    "filtered = []\n",
    "\n",
    "for word in nlp(txt):\n",
    "    if word.is_stop == False:\n",
    "        filtered.append(word)\n",
    "print(filtered)"
   ]
  },
  {
   "cell_type": "code",
   "execution_count": 14,
   "id": "07da0433",
   "metadata": {},
   "outputs": [
    {
     "name": "stdout",
     "output_type": "stream",
     "text": [
      "Word is :Bryan \t\tand POS is : PROPN \t\t and its tag is : NNP\n",
      "Word is :visited \t\tand POS is : VERB \t\t and its tag is : VBD\n",
      "Word is :his \t\tand POS is : PRON \t\t and its tag is : PRP$\n",
      "Word is :friends \t\tand POS is : NOUN \t\t and its tag is : NNS\n",
      "Word is :for \t\tand POS is : ADP \t\t and its tag is : IN\n",
      "Word is :a \t\tand POS is : DET \t\t and its tag is : DT\n",
      "Word is :while \t\tand POS is : NOUN \t\t and its tag is : NN\n",
      "Word is :and \t\tand POS is : CCONJ \t\t and its tag is : CC\n",
      "Word is :then \t\tand POS is : ADV \t\t and its tag is : RB\n",
      "Word is :went \t\tand POS is : VERB \t\t and its tag is : VBD\n",
      "Word is :home \t\tand POS is : ADV \t\t and its tag is : RB\n",
      "Word is :at \t\tand POS is : ADP \t\t and its tag is : IN\n",
      "Word is :10 \t\tand POS is : NUM \t\t and its tag is : CD\n",
      "Word is :p.m. \t\tand POS is : NOUN \t\t and its tag is : NN\n"
     ]
    }
   ],
   "source": [
    "# task 4\n",
    "\n",
    "d = nlp('Bryan visited his friends for a while and then went home at 10 p.m.')\n",
    "\n",
    "for i in d:\n",
    "    print(f'Word is :{i.text} \\t\\tand POS is : {i.pos_} \\t\\t and its tag is : {i.tag_}')"
   ]
  },
  {
   "cell_type": "code",
   "execution_count": 26,
   "id": "f3f76c06",
   "metadata": {},
   "outputs": [],
   "source": [
    "# task 5\n",
    "\n",
    "propnoun = []; numeric = []\n",
    "for i in nlp(f3):\n",
    "    if i.pos_ == 'PROPN':\n",
    "        propnoun.append(i)\n",
    "    elif i.pos_ == 'NUM':\n",
    "        numeric.append(i)"
   ]
  },
  {
   "cell_type": "code",
   "execution_count": 28,
   "id": "f7bf4924",
   "metadata": {},
   "outputs": [
    {
     "name": "stdout",
     "output_type": "stream",
     "text": [
      "[SCHOOL, DAY, Revision, November] are proper nouns\n",
      "[12, 1997] are numerics\n"
     ]
    }
   ],
   "source": [
    "print(f\"\"\"{propnoun} are proper nouns\n",
    "{numeric} are numerics\"\"\")"
   ]
  },
  {
   "cell_type": "code",
   "execution_count": 37,
   "id": "c13c017e",
   "metadata": {},
   "outputs": [
    {
     "name": "stdout",
     "output_type": "stream",
     "text": [
      "327 before adding\n",
      "327 after adding\n"
     ]
    }
   ],
   "source": [
    "# task 6\n",
    "\n",
    "print(len(stop_words), 'before adding')\n",
    "nlp.Defaults.stop_words |= {'Alpha', 'Bravo', 'Charlie', 'Delta', 'Echo'}\n",
    "print(len(stop_words), 'after adding')"
   ]
  },
  {
   "cell_type": "code",
   "execution_count": 36,
   "id": "1aa504c1",
   "metadata": {},
   "outputs": [
    {
     "name": "stdout",
     "output_type": "stream",
     "text": [
      "327 before removing\n",
      "327 after removing\n"
     ]
    }
   ],
   "source": [
    "print(len(stop_words), 'before removing')\n",
    "nlp.Defaults.stop_words -= {'always' , 'never' , 'between' , 'becomes'}\n",
    "print(len(stop_words),'after removing')"
   ]
  },
  {
   "cell_type": "code",
   "execution_count": 35,
   "id": "36dfc597",
   "metadata": {},
   "outputs": [
    {
     "name": "stdout",
     "output_type": "stream",
     "text": [
      "Stop words removed\n",
      "[PADUA, HIGH, SCHOOL, -, DAY, \n",
      ", Revision, November, 12, ,, 1997, \n",
      ", hope, dinner, ready, minutes, Mrs., Johnson, squirts, screamer, ., \n",
      ", grabs, mail, rifles, ,, bends, kiss, Sharon, cheek, ., \n",
      ", MICHAEL-, C'm, ., supposed, tour, ., head, office, \n",
      ", MICHAEL, (, continuing)-, --, Dakota, ?, \n",
      "          \n",
      "                                 \n",
      "]\n",
      "++++++++++++++++++++++++++++++++++++++++++++++++++++++++++++++++++++++++++++++++++++++++++++++++++++++++++++\n",
      "Lemmatization\n",
      "[ ---> [\n",
      "PADUA ---> padua\n",
      ", ---> ,\n",
      "HIGH ---> high\n",
      ", ---> ,\n",
      "SCHOOL ---> SCHOOL\n",
      ", ---> ,\n",
      "- ---> -\n",
      ", ---> ,\n",
      "DAY ---> DAY\n",
      ", ---> ,\n",
      "\n",
      " ---> \n",
      "\n",
      ", ---> ,\n",
      "Revision ---> Revision\n",
      ", ---> ,\n",
      "November ---> November\n",
      ", ---> ,\n",
      "12 ---> 12\n",
      ", ---> ,\n",
      ", ---> ,\n",
      ", ---> ,\n",
      "1997 ---> 1997\n",
      ", ---> ,\n",
      "\n",
      " ---> \n",
      "\n",
      ", ---> ,\n",
      "hope ---> hope\n",
      ", ---> ,\n",
      "dinner ---> dinner\n",
      ", ---> ,\n",
      "ready ---> ready\n",
      ", ---> ,\n",
      "minutes ---> minute\n",
      ", ---> ,\n",
      "Mrs. ---> Mrs.\n",
      ", ---> ,\n",
      "Johnson ---> Johnson\n",
      ", ---> ,\n",
      "squirts ---> squirt\n",
      ", ---> ,\n",
      "screamer ---> screamer\n",
      ", ---> ,\n",
      ". ---> .\n",
      ", ---> ,\n",
      "\n",
      " ---> \n",
      "\n",
      ", ---> ,\n",
      "grabs ---> grab\n",
      ", ---> ,\n",
      "mail ---> mail\n",
      ", ---> ,\n",
      "rifles ---> rifle\n",
      ", ---> ,\n",
      ", ---> ,\n",
      ", ---> ,\n",
      "bends ---> bend\n",
      ", ---> ,\n",
      "kiss ---> kiss\n",
      ", ---> ,\n",
      "Sharon ---> Sharon\n",
      ", ---> ,\n",
      "cheek ---> cheek\n",
      ", ---> ,\n",
      ". ---> .\n",
      ", ---> ,\n",
      "\n",
      " ---> \n",
      "\n",
      ", ---> ,\n",
      "MICHAEL- ---> MICHAEL-\n",
      ", ---> ,\n",
      "C'm ---> c'm\n",
      ", ---> ,\n",
      ". ---> .\n",
      ", ---> ,\n",
      "supposed ---> suppose\n",
      ", ---> ,\n",
      "tour ---> tour\n",
      ", ---> ,\n",
      ". ---> .\n",
      ", ---> ,\n",
      "head ---> head\n",
      ", ---> ,\n",
      "office ---> office\n",
      ", ---> ,\n",
      "\n",
      " ---> \n",
      "\n",
      ", ---> ,\n",
      "MICHAEL ---> MICHAEL\n",
      ", ---> ,\n",
      "( ---> (\n",
      ", ---> ,\n",
      "continuing)- ---> continuing)-\n",
      ", ---> ,\n",
      "-- ---> --\n",
      ", ---> ,\n",
      "Dakota ---> Dakota\n",
      ", ---> ,\n",
      "? ---> ?\n",
      ", ---> ,\n",
      "\n",
      "          \n",
      "                                 \n",
      " ---> \n",
      "          \n",
      "                                 \n",
      "\n",
      "] ---> ]\n",
      "++++++++++++++++++++++++++++++++++++++++++++++++++++++++++++++++++++++++++++++++++++++++++++++++++++++++++++\n",
      "POS tagging\n",
      "Word is :PADUA \t\tand POS is : VERB \t\t and its tag is : VBD\n",
      "Word is :HIGH \t\tand POS is : ADJ \t\t and its tag is : JJ\n",
      "Word is :SCHOOL \t\tand POS is : PROPN \t\t and its tag is : NNP\n",
      "Word is :- \t\tand POS is : PUNCT \t\t and its tag is : HYPH\n",
      "Word is :DAY \t\tand POS is : PROPN \t\t and its tag is : NNP\n",
      "Word is :\n",
      " \t\tand POS is : SPACE \t\t and its tag is : _SP\n",
      "Word is :Revision \t\tand POS is : PROPN \t\t and its tag is : NNP\n",
      "Word is :November \t\tand POS is : PROPN \t\t and its tag is : NNP\n",
      "Word is :12 \t\tand POS is : NUM \t\t and its tag is : CD\n",
      "Word is :, \t\tand POS is : PUNCT \t\t and its tag is : ,\n",
      "Word is :1997 \t\tand POS is : NUM \t\t and its tag is : CD\n",
      "Word is :\n",
      " \t\tand POS is : SPACE \t\t and its tag is : _SP\n",
      "Word is :hope \t\tand POS is : VERB \t\t and its tag is : VBP\n",
      "Word is :dinner \t\tand POS is : NOUN \t\t and its tag is : NN\n",
      "Word is :ready \t\tand POS is : ADJ \t\t and its tag is : JJ\n",
      "Word is :minutes \t\tand POS is : NOUN \t\t and its tag is : NNS\n",
      "Word is :Mrs. \t\tand POS is : PROPN \t\t and its tag is : NNP\n",
      "Word is :Johnson \t\tand POS is : PROPN \t\t and its tag is : NNP\n",
      "Word is :squirts \t\tand POS is : VERB \t\t and its tag is : VBZ\n",
      "Word is :screamer \t\tand POS is : NOUN \t\t and its tag is : NN\n",
      "Word is :. \t\tand POS is : PUNCT \t\t and its tag is : .\n",
      "Word is :\n",
      " \t\tand POS is : SPACE \t\t and its tag is : _SP\n",
      "Word is :grabs \t\tand POS is : VERB \t\t and its tag is : VBZ\n",
      "Word is :mail \t\tand POS is : NOUN \t\t and its tag is : NN\n",
      "Word is :rifles \t\tand POS is : NOUN \t\t and its tag is : NNS\n",
      "Word is :, \t\tand POS is : PUNCT \t\t and its tag is : ,\n",
      "Word is :bends \t\tand POS is : VERB \t\t and its tag is : VBZ\n",
      "Word is :kiss \t\tand POS is : VERB \t\t and its tag is : VB\n",
      "Word is :Sharon \t\tand POS is : PROPN \t\t and its tag is : NNP\n",
      "Word is :cheek \t\tand POS is : NOUN \t\t and its tag is : NN\n",
      "Word is :. \t\tand POS is : PUNCT \t\t and its tag is : .\n",
      "Word is :\n",
      " \t\tand POS is : SPACE \t\t and its tag is : _SP\n",
      "Word is :MICHAEL- \t\tand POS is : PROPN \t\t and its tag is : NNP\n",
      "Word is :C'm \t\tand POS is : VERB \t\t and its tag is : VBZ\n",
      "Word is :. \t\tand POS is : PUNCT \t\t and its tag is : .\n",
      "Word is :supposed \t\tand POS is : VERB \t\t and its tag is : VBN\n",
      "Word is :tour \t\tand POS is : NOUN \t\t and its tag is : NN\n",
      "Word is :. \t\tand POS is : PUNCT \t\t and its tag is : .\n",
      "Word is :head \t\tand POS is : VERB \t\t and its tag is : VBP\n",
      "Word is :office \t\tand POS is : NOUN \t\t and its tag is : NN\n",
      "Word is :\n",
      " \t\tand POS is : SPACE \t\t and its tag is : _SP\n",
      "Word is :MICHAEL \t\tand POS is : PROPN \t\t and its tag is : NNP\n",
      "Word is :( \t\tand POS is : PUNCT \t\t and its tag is : -LRB-\n",
      "Word is :continuing)- \t\tand POS is : NOUN \t\t and its tag is : NNS\n",
      "Word is :-- \t\tand POS is : PUNCT \t\t and its tag is : :\n",
      "Word is :Dakota \t\tand POS is : PROPN \t\t and its tag is : NNP\n",
      "Word is :? \t\tand POS is : PUNCT \t\t and its tag is : .\n",
      "Word is :\n",
      "          \n",
      "                                 \n",
      " \t\tand POS is : SPACE \t\t and its tag is : _SP\n"
     ]
    }
   ],
   "source": [
    "# task 7\n",
    "\n",
    "filt = []\n",
    "print('Stop words removed')\n",
    "for word in nlp(f2):\n",
    "    if word.is_stop == False:\n",
    "        filt.append(word)\n",
    "print(filt)\n",
    "print(\"++++++++++++++++++++++++++++++++++++++++++++++++++++++++++++++++++++++++++++++++++++++++++++++++++++++++++++\")\n",
    "\n",
    "print('Lemmatization')\n",
    "for word in nlp(str(filt)):\n",
    "    print(word.text,'--->',word.lemma_)\n",
    "print(\"++++++++++++++++++++++++++++++++++++++++++++++++++++++++++++++++++++++++++++++++++++++++++++++++++++++++++++\")\n",
    "    \n",
    "print('POS tagging')\n",
    "for i in filt:\n",
    "    print(f'Word is :{i.text} \\t\\tand POS is : {i.pos_} \\t\\t and its tag is : {i.tag_}')"
   ]
  },
  {
   "cell_type": "code",
   "execution_count": null,
   "id": "bfb688f8",
   "metadata": {},
   "outputs": [],
   "source": []
  }
 ],
 "metadata": {
  "kernelspec": {
   "display_name": "Python 3 (ipykernel)",
   "language": "python",
   "name": "python3"
  },
  "language_info": {
   "codemirror_mode": {
    "name": "ipython",
    "version": 3
   },
   "file_extension": ".py",
   "mimetype": "text/x-python",
   "name": "python",
   "nbconvert_exporter": "python",
   "pygments_lexer": "ipython3",
   "version": "3.9.12"
  }
 },
 "nbformat": 4,
 "nbformat_minor": 5
}
