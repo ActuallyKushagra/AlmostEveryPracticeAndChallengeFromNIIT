{
 "cells": [
  {
   "cell_type": "markdown",
   "id": "245c1cd7",
   "metadata": {},
   "source": [
    "# Creating variables"
   ]
  },
  {
   "cell_type": "code",
   "execution_count": 11,
   "id": "09f5c741",
   "metadata": {},
   "outputs": [
    {
     "name": "stdout",
     "output_type": "stream",
     "text": [
      "1 is the value, 2943824259376 is the memory address, and <class 'int'> is the datatype\n"
     ]
    }
   ],
   "source": [
    "# a\n",
    "rollNo = 1\n",
    "print(rollNo, \"is the value,\", id(rollNo), \"is the memory address, and\", type(rollNo), \"is the datatype\")"
   ]
  },
  {
   "cell_type": "code",
   "execution_count": 12,
   "id": "90cd94f2",
   "metadata": {},
   "outputs": [
    {
     "name": "stdout",
     "output_type": "stream",
     "text": [
      "Wruce is the value, 2943911764400 is the memory address, and <class 'str'> is the datatype\n"
     ]
    }
   ],
   "source": [
    "# b\n",
    "firstName = \"Wruce\"\n",
    "print(firstName, \"is the value,\", id(firstName), \"is the memory address, and\", type(firstName), \"is the datatype\")"
   ]
  },
  {
   "cell_type": "code",
   "execution_count": 13,
   "id": "ffc34547",
   "metadata": {},
   "outputs": [
    {
     "name": "stdout",
     "output_type": "stream",
     "text": [
      "Bayne is the value, 2943911691696 is the memory address, and <class 'str'> is the datatype\n"
     ]
    }
   ],
   "source": [
    "# c\n",
    "lastName = \"Bayne\"\n",
    "print(lastName, \"is the value,\", id(lastName), \"is the memory address, and\", type(lastName), \"is the datatype\")"
   ]
  },
  {
   "cell_type": "code",
   "execution_count": 14,
   "id": "e9deb80c",
   "metadata": {},
   "outputs": [
    {
     "name": "stdout",
     "output_type": "stream",
     "text": [
      "50 is the value, 2943824260944 is the memory address, and <class 'int'> is the datatype\n"
     ]
    }
   ],
   "source": [
    "# d\n",
    "maxMarks = 50\n",
    "print(maxMarks, \"is the value,\", id(maxMarks), \"is the memory address, and\", type(maxMarks), \"is the datatype\")"
   ]
  },
  {
   "cell_type": "markdown",
   "id": "1638091e",
   "metadata": {},
   "source": [
    "# Naming variable"
   ]
  },
  {
   "cell_type": "code",
   "execution_count": 15,
   "id": "68bb1706",
   "metadata": {},
   "outputs": [
    {
     "name": "stdout",
     "output_type": "stream",
     "text": [
      "2\n"
     ]
    }
   ],
   "source": [
    "# a\n",
    "var1 = 2 #  (a) assigns the value since it follows the rules\n",
    "print(var1)"
   ]
  },
  {
   "cell_type": "code",
   "execution_count": 16,
   "id": "e56d255f",
   "metadata": {},
   "outputs": [
    {
     "ename": "SyntaxError",
     "evalue": "invalid syntax (1073793612.py, line 2)",
     "output_type": "error",
     "traceback": [
      "\u001b[1;36m  Input \u001b[1;32mIn [16]\u001b[1;36m\u001b[0m\n\u001b[1;33m    2var = 2 # (b) does not assign since it does not follow the rules (variable name must not start with numeric value)\u001b[0m\n\u001b[1;37m     ^\u001b[0m\n\u001b[1;31mSyntaxError\u001b[0m\u001b[1;31m:\u001b[0m invalid syntax\n"
     ]
    }
   ],
   "source": [
    "# b\n",
    "2var = 2 # (b) does not assign since it does not follow the rules (variable name must not start with numeric value)\n",
    "print(2var)"
   ]
  },
  {
   "cell_type": "code",
   "execution_count": 17,
   "id": "c1ec85b0",
   "metadata": {},
   "outputs": [
    {
     "ename": "SyntaxError",
     "evalue": "invalid syntax (1080890524.py, line 2)",
     "output_type": "error",
     "traceback": [
      "\u001b[1;36m  Input \u001b[1;32mIn [17]\u001b[1;36m\u001b[0m\n\u001b[1;33m    var 1 = 2 # (c) does not assign since it does not follow the rules (variable name must not contain empty space)\u001b[0m\n\u001b[1;37m        ^\u001b[0m\n\u001b[1;31mSyntaxError\u001b[0m\u001b[1;31m:\u001b[0m invalid syntax\n"
     ]
    }
   ],
   "source": [
    "# c\n",
    "var 1 = 2 # (c) does not assign since it does not follow the rules (variable name must not contain empty space)\n",
    "print(var 1)"
   ]
  },
  {
   "cell_type": "code",
   "execution_count": 18,
   "id": "36f25235",
   "metadata": {},
   "outputs": [
    {
     "ename": "SyntaxError",
     "evalue": "invalid syntax (200687660.py, line 2)",
     "output_type": "error",
     "traceback": [
      "\u001b[1;36m  Input \u001b[1;32mIn [18]\u001b[1;36m\u001b[0m\n\u001b[1;33m    var$2 = 2 # (d) does not assign since it does not follow the rules (variable name must not contain special characters)\u001b[0m\n\u001b[1;37m       ^\u001b[0m\n\u001b[1;31mSyntaxError\u001b[0m\u001b[1;31m:\u001b[0m invalid syntax\n"
     ]
    }
   ],
   "source": [
    "# d\n",
    "var$2 = 2 # (d) does not assign since it does not follow the rules (variable name must not contain special characters)\n",
    "print(var$2)"
   ]
  },
  {
   "cell_type": "markdown",
   "id": "d0987d95",
   "metadata": {},
   "source": [
    "# Assigning values to variables"
   ]
  },
  {
   "cell_type": "code",
   "execution_count": 19,
   "id": "6a1684f6",
   "metadata": {},
   "outputs": [
    {
     "name": "stdout",
     "output_type": "stream",
     "text": [
      "15 2943824259824\n"
     ]
    }
   ],
   "source": [
    "# a\n",
    "Class = 15\n",
    "print(Class, id(Class)) # assigns the variable, displays it's value and ID (memory address)"
   ]
  },
  {
   "cell_type": "code",
   "execution_count": 20,
   "id": "b1c72315",
   "metadata": {},
   "outputs": [
    {
     "ename": "SyntaxError",
     "evalue": "invalid syntax (83088273.py, line 2)",
     "output_type": "error",
     "traceback": [
      "\u001b[1;36m  Input \u001b[1;32mIn [20]\u001b[1;36m\u001b[0m\n\u001b[1;33m    class = 14\u001b[0m\n\u001b[1;37m          ^\u001b[0m\n\u001b[1;31mSyntaxError\u001b[0m\u001b[1;31m:\u001b[0m invalid syntax\n"
     ]
    }
   ],
   "source": [
    "# b\n",
    "class = 14 \n",
    "print(class, id(class)) # since class is a reserved keyword, it cannot be used name a variable"
   ]
  },
  {
   "cell_type": "code",
   "execution_count": 21,
   "id": "8340e4ee",
   "metadata": {},
   "outputs": [
    {
     "name": "stdout",
     "output_type": "stream",
     "text": [
      "13 2943824259760\n"
     ]
    }
   ],
   "source": [
    "# c \n",
    "DEF = 13\n",
    "print(DEF, id(DEF)) # assigns the variable, displays it's value and ID (memory address)"
   ]
  },
  {
   "cell_type": "code",
   "execution_count": 22,
   "id": "131882d0",
   "metadata": {},
   "outputs": [
    {
     "ename": "SyntaxError",
     "evalue": "invalid syntax (2485489139.py, line 2)",
     "output_type": "error",
     "traceback": [
      "\u001b[1;36m  Input \u001b[1;32mIn [22]\u001b[1;36m\u001b[0m\n\u001b[1;33m    def = 12\u001b[0m\n\u001b[1;37m        ^\u001b[0m\n\u001b[1;31mSyntaxError\u001b[0m\u001b[1;31m:\u001b[0m invalid syntax\n"
     ]
    }
   ],
   "source": [
    "# d\n",
    "def = 12\n",
    "print(def, id(def)) # since def is a reserved keyword, it cannot be used name a variable"
   ]
  },
  {
   "cell_type": "code",
   "execution_count": 23,
   "id": "e10fa5a9",
   "metadata": {},
   "outputs": [
    {
     "name": "stdout",
     "output_type": "stream",
     "text": [
      "True 140712144459880\n"
     ]
    }
   ],
   "source": [
    "# e\n",
    "a = True\n",
    "print(a, id(a)) # assigns the variable, displays it's value and ID (memory address)"
   ]
  },
  {
   "cell_type": "code",
   "execution_count": 24,
   "id": "3401120d",
   "metadata": {},
   "outputs": [
    {
     "name": "stdout",
     "output_type": "stream",
     "text": [
      "False 140712144459912\n"
     ]
    }
   ],
   "source": [
    "# f\n",
    "b = False\n",
    "print(b, id(b)) # # assigns the variable, displays it's value and ID (memory address)"
   ]
  },
  {
   "cell_type": "markdown",
   "id": "c1565ab0",
   "metadata": {},
   "source": [
    "# Using id()"
   ]
  },
  {
   "cell_type": "code",
   "execution_count": 25,
   "id": "d4540bd1",
   "metadata": {},
   "outputs": [
    {
     "name": "stdout",
     "output_type": "stream",
     "text": [
      "49.5 is the value, 2943911730448 is the memory address, and <class 'float'> is the datatype\n"
     ]
    }
   ],
   "source": [
    "marks = 49.5\n",
    "print(marks, \"is the value,\", id(marks), \"is the memory address, and\", type(marks), \"is the datatype\")"
   ]
  },
  {
   "cell_type": "code",
   "execution_count": 26,
   "id": "e097f187",
   "metadata": {},
   "outputs": [
    {
     "name": "stdout",
     "output_type": "stream",
     "text": [
      "49.9 is the value, 2943911728656 is the memory address, and <class 'float'> is the datatype\n"
     ]
    }
   ],
   "source": [
    "marks = 49.9\n",
    "print(marks, \"is the value,\", id(marks), \"is the memory address, and\", type(marks), \"is the datatype\")"
   ]
  },
  {
   "cell_type": "markdown",
   "id": "48aa77a7",
   "metadata": {},
   "source": [
    "'''The ID of marks before and after changing the value is different because the the memory address changes are we reassign the values'''"
   ]
  },
  {
   "cell_type": "markdown",
   "id": "ca9bfd06",
   "metadata": {},
   "source": [
    "# formatting output"
   ]
  },
  {
   "cell_type": "code",
   "execution_count": 27,
   "id": "c6492670",
   "metadata": {},
   "outputs": [
    {
     "name": "stdout",
     "output_type": "stream",
     "text": [
      "99.8 %\n"
     ]
    }
   ],
   "source": [
    "# a\n",
    "percentage = (marks / maxMarks) * 100\n",
    "print(percentage, \"%\")"
   ]
  },
  {
   "cell_type": "code",
   "execution_count": 28,
   "id": "40ecd633",
   "metadata": {},
   "outputs": [
    {
     "name": "stdout",
     "output_type": "stream",
     "text": [
      "Wruce Bayne\n"
     ]
    }
   ],
   "source": [
    "# b\n",
    "fullName = firstName + \" \" + lastName\n",
    "print(fullName) # b"
   ]
  },
  {
   "cell_type": "code",
   "execution_count": 29,
   "id": "f1756787",
   "metadata": {},
   "outputs": [
    {
     "name": "stdout",
     "output_type": "stream",
     "text": [
      "Wruce Bayne  Scored  99.8 %\n"
     ]
    }
   ],
   "source": [
    "# c\n",
    "print(fullName, \" Scored \", percentage, \"%\")"
   ]
  },
  {
   "cell_type": "markdown",
   "id": "261df0c0",
   "metadata": {},
   "source": [
    "# Creating data structures"
   ]
  },
  {
   "cell_type": "code",
   "execution_count": 31,
   "id": "07a1d2c7",
   "metadata": {},
   "outputs": [
    {
     "name": "stdout",
     "output_type": "stream",
     "text": [
      "{1: 'Wruce Bayne'}\n"
     ]
    }
   ],
   "source": [
    "# a\n",
    "rollNameDict = {}\n",
    "rollNameDict[rollNo] = fullName\n",
    "print(rollNameDict)"
   ]
  },
  {
   "cell_type": "code",
   "execution_count": 32,
   "id": "a1767db0",
   "metadata": {},
   "outputs": [
    {
     "name": "stdout",
     "output_type": "stream",
     "text": [
      "[1, 'Wruce Bayne', 49.9]\n"
     ]
    }
   ],
   "source": [
    "# b\n",
    "studentDetailsList = [rollNo, fullName, marks]\n",
    "print(studentDetailsList)"
   ]
  },
  {
   "cell_type": "markdown",
   "id": "e041387d",
   "metadata": {},
   "source": [
    "# Arithmetic operations\n"
   ]
  },
  {
   "cell_type": "code",
   "execution_count": 33,
   "id": "7b00e234",
   "metadata": {
    "scrolled": true
   },
   "outputs": [
    {
     "ename": "TypeError",
     "evalue": "unsupported operand type(s) for +: 'int' and 'str'",
     "output_type": "error",
     "traceback": [
      "\u001b[1;31m---------------------------------------------------------------------------\u001b[0m",
      "\u001b[1;31mTypeError\u001b[0m                                 Traceback (most recent call last)",
      "Input \u001b[1;32mIn [33]\u001b[0m, in \u001b[0;36m<cell line: 2>\u001b[1;34m()\u001b[0m\n\u001b[0;32m      1\u001b[0m \u001b[38;5;66;03m#a\u001b[39;00m\n\u001b[1;32m----> 2\u001b[0m \u001b[38;5;28mprint\u001b[39m(\u001b[38;5;241;43m1\u001b[39;49m\u001b[43m \u001b[49m\u001b[38;5;241;43m+\u001b[39;49m\u001b[43m \u001b[49m\u001b[38;5;124;43m\"\u001b[39;49m\u001b[38;5;124;43m2\u001b[39;49m\u001b[38;5;124;43m\"\u001b[39;49m)\n",
      "\u001b[1;31mTypeError\u001b[0m: unsupported operand type(s) for +: 'int' and 'str'"
     ]
    }
   ],
   "source": [
    "#a\n",
    "print(1 + \"2\") # strings and integer values cannot be added"
   ]
  },
  {
   "cell_type": "code",
   "execution_count": 34,
   "id": "0d899596",
   "metadata": {
    "scrolled": true
   },
   "outputs": [
    {
     "name": "stdout",
     "output_type": "stream",
     "text": [
      "12\n"
     ]
    }
   ],
   "source": [
    "#b\n",
    "print(\"1\" + \"2\") # since both the values are strings, concatenation function is used"
   ]
  },
  {
   "cell_type": "code",
   "execution_count": 35,
   "id": "7ab8beb4",
   "metadata": {},
   "outputs": [
    {
     "name": "stdout",
     "output_type": "stream",
     "text": [
      "0.5\n"
     ]
    }
   ],
   "source": [
    "#c\n",
    "print(1/2) # the second value is divided by the first value"
   ]
  },
  {
   "cell_type": "code",
   "execution_count": 36,
   "id": "f9b98a9d",
   "metadata": {},
   "outputs": [
    {
     "name": "stdout",
     "output_type": "stream",
     "text": [
      "0\n"
     ]
    }
   ],
   "source": [
    "#d\n",
    "print(1//2) # the second value is divided by the first value and then floor function is used on the result. Result is rounded off to the nearest integer value"
   ]
  },
  {
   "cell_type": "markdown",
   "id": "7e2cc239",
   "metadata": {},
   "source": [
    "# Logical Operations"
   ]
  },
  {
   "cell_type": "code",
   "execution_count": 37,
   "id": "cab71585",
   "metadata": {
    "scrolled": true
   },
   "outputs": [
    {
     "data": {
      "text/plain": [
       "True"
      ]
     },
     "execution_count": 37,
     "metadata": {},
     "output_type": "execute_result"
    }
   ],
   "source": [
    "True and True   # if both values are true, return value is also true. \"AND\" must have all conditions true"
   ]
  },
  {
   "cell_type": "code",
   "execution_count": 38,
   "id": "45575d56",
   "metadata": {},
   "outputs": [
    {
     "data": {
      "text/plain": [
       "False"
      ]
     },
     "execution_count": 38,
     "metadata": {},
     "output_type": "execute_result"
    }
   ],
   "source": [
    "True and False # if either of the values are false, the return value is also false. \"AND\" must have all conditions true"
   ]
  },
  {
   "cell_type": "code",
   "execution_count": 39,
   "id": "22773dc1",
   "metadata": {},
   "outputs": [
    {
     "data": {
      "text/plain": [
       "True"
      ]
     },
     "execution_count": 39,
     "metadata": {},
     "output_type": "execute_result"
    }
   ],
   "source": [
    "False or True # if one of the values are true and \"OR\" is used, the return value is also true. \"OR\" can have either conditions true"
   ]
  },
  {
   "cell_type": "code",
   "execution_count": 40,
   "id": "5c3e3b2a",
   "metadata": {},
   "outputs": [
    {
     "data": {
      "text/plain": [
       "False"
      ]
     },
     "execution_count": 40,
     "metadata": {},
     "output_type": "execute_result"
    }
   ],
   "source": [
    "False or False # if both values are false, the return value is also false. \"OR\" can have either conditions true"
   ]
  },
  {
   "cell_type": "markdown",
   "id": "8d4a7597",
   "metadata": {},
   "source": [
    "# Identity and memebership operations"
   ]
  },
  {
   "cell_type": "code",
   "execution_count": 41,
   "id": "70b980e2",
   "metadata": {},
   "outputs": [
    {
     "name": "stdout",
     "output_type": "stream",
     "text": [
      "True\n"
     ]
    }
   ],
   "source": [
    "#a\n",
    "print(firstName in fullName)\n",
    "# since firstname is present in the fullname, the output is true. \"IN\" also means contain"
   ]
  },
  {
   "cell_type": "code",
   "execution_count": 42,
   "id": "e20ff5ca",
   "metadata": {},
   "outputs": [
    {
     "name": "stdout",
     "output_type": "stream",
     "text": [
      "False\n"
     ]
    }
   ],
   "source": [
    "#b\n",
    "print(firstName is fullName)\n",
    "# since the firstname is different from fullname, the output is false. \"IS\" can also mean same/ equal"
   ]
  },
  {
   "cell_type": "markdown",
   "id": "5b3cb227",
   "metadata": {},
   "source": [
    "# Associativity"
   ]
  },
  {
   "cell_type": "code",
   "execution_count": 43,
   "id": "a1c7dc0d",
   "metadata": {},
   "outputs": [],
   "source": [
    "a = 4 \n",
    "b = 3 \n",
    "c = 2 \n",
    "d = a ** b + c \n",
    "e = a ** (b + c)"
   ]
  },
  {
   "cell_type": "code",
   "execution_count": 44,
   "id": "897af0c9",
   "metadata": {},
   "outputs": [
    {
     "name": "stdout",
     "output_type": "stream",
     "text": [
      "66\n"
     ]
    }
   ],
   "source": [
    "# a\n",
    "print(d)"
   ]
  },
  {
   "cell_type": "code",
   "execution_count": 45,
   "id": "da28225c",
   "metadata": {},
   "outputs": [
    {
     "name": "stdout",
     "output_type": "stream",
     "text": [
      "1024\n"
     ]
    }
   ],
   "source": [
    "# b\n",
    "print(e)"
   ]
  },
  {
   "cell_type": "code",
   "execution_count": 46,
   "id": "2bf0e28c",
   "metadata": {},
   "outputs": [
    {
     "data": {
      "text/plain": [
       "'Since Python follow pemdas, for d, the exponents are calculated first where as for e where brackets are present, backets are calculated frist. Therefore the result is also different for both'"
      ]
     },
     "execution_count": 46,
     "metadata": {},
     "output_type": "execute_result"
    }
   ],
   "source": [
    "'''Since Python follow pemdas, for d, the exponents are calculated first where as for e where brackets are present, backets are calculated frist. Therefore the result is also different for both'''"
   ]
  },
  {
   "cell_type": "markdown",
   "id": "752ff957",
   "metadata": {},
   "source": [
    "# Basic program"
   ]
  },
  {
   "cell_type": "code",
   "execution_count": 47,
   "id": "581dd258",
   "metadata": {},
   "outputs": [
    {
     "name": "stdout",
     "output_type": "stream",
     "text": [
      "113.09733552923255 is the area of the circle\n"
     ]
    }
   ],
   "source": [
    "# area of a circle\n",
    "import math as math\n",
    "radius = 6\n",
    "print(math.pi * (radius ** 2), \"is the area of the circle\")"
   ]
  },
  {
   "cell_type": "code",
   "execution_count": 48,
   "id": "1851230c",
   "metadata": {},
   "outputs": [
    {
     "name": "stdout",
     "output_type": "stream",
     "text": [
      "15.299999999999999 is the tax charged, 100.3 is the final amount\n"
     ]
    }
   ],
   "source": [
    "# final price\n",
    "basePrice = 85\n",
    "salesTaxPercent = 18\n",
    "taxAmount = basePrice * (salesTaxPercent / 100)\n",
    "finalPrice = basePrice + taxAmount\n",
    "print(taxAmount, \"is the tax charged,\", finalPrice, \"is the final amount\")"
   ]
  },
  {
   "cell_type": "code",
   "execution_count": 49,
   "id": "f2296e59",
   "metadata": {},
   "outputs": [
    {
     "name": "stdout",
     "output_type": "stream",
     "text": [
      "44.44 dollars are in 3333 rupees\n"
     ]
    }
   ],
   "source": [
    "# rupee to dollar\n",
    "oneDollar = 75\n",
    "rupees = 3333\n",
    "dollarToRupee = rupees / oneDollar\n",
    "print(dollarToRupee, \"dollars are in\", rupees, \"rupees\")"
   ]
  },
  {
   "cell_type": "code",
   "execution_count": 50,
   "id": "e31ee2d1",
   "metadata": {},
   "outputs": [
    {
     "name": "stdout",
     "output_type": "stream",
     "text": [
      "Last year, people could buy products worth $ 535.0 in $500\n"
     ]
    }
   ],
   "source": [
    "# purchaing power\n",
    "inflationRate = 7\n",
    "money = 500\n",
    "amountChange = 500 * (7 / 100)\n",
    "lastYearPurchasingPower = money + amountChange\n",
    "print(\"Last year, people could buy products worth $\", lastYearPurchasingPower, \"in $500\")"
   ]
  }
 ],
 "metadata": {
  "kernelspec": {
   "display_name": "Python 3 (ipykernel)",
   "language": "python",
   "name": "python3"
  },
  "language_info": {
   "codemirror_mode": {
    "name": "ipython",
    "version": 3
   },
   "file_extension": ".py",
   "mimetype": "text/x-python",
   "name": "python",
   "nbconvert_exporter": "python",
   "pygments_lexer": "ipython3",
   "version": "3.9.12"
  }
 },
 "nbformat": 4,
 "nbformat_minor": 5
}
