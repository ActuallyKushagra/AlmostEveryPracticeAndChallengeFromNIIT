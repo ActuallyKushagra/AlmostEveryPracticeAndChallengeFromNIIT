{
 "cells": [
  {
   "cell_type": "code",
   "execution_count": 1,
   "id": "16ba78b6",
   "metadata": {},
   "outputs": [
    {
     "name": "stdout",
     "output_type": "stream",
     "text": [
      "113.09733552923255 is the area of the circle\n"
     ]
    }
   ],
   "source": [
    "# task 1, calculate area of circle\n",
    "import math as math\n",
    "radius = 6\n",
    "print(math.pi * (radius ** 2), \"is the area of the circle\")"
   ]
  },
  {
   "cell_type": "code",
   "execution_count": 2,
   "id": "36702f4d",
   "metadata": {},
   "outputs": [
    {
     "name": "stdout",
     "output_type": "stream",
     "text": [
      "100.3 is the final price after tax\n"
     ]
    }
   ],
   "source": [
    "# task 2, calculate tax amount and final amount\n",
    "basePrice = 85\n",
    "salesTaxPercent = 18\n",
    "taxAmount = 85 * (18 / 100)\n",
    "finalPrice = basePrice + taxAmount\n",
    "print(finalPrice, \"is the final price after tax\")"
   ]
  },
  {
   "cell_type": "code",
   "execution_count": 3,
   "id": "b56d1bc5",
   "metadata": {},
   "outputs": [
    {
     "name": "stdout",
     "output_type": "stream",
     "text": [
      "44.44 dollars are in 3333 rupees\n"
     ]
    }
   ],
   "source": [
    "# task 3, usd to inr conversion\n",
    "oneDollar = 75\n",
    "rupees = 3333\n",
    "dollarToRupee = rupees / oneDollar\n",
    "print(dollarToRupee, \"dollars are in\", rupees, \"rupees\")"
   ]
  },
  {
   "cell_type": "code",
   "execution_count": 4,
   "id": "4030b4a1",
   "metadata": {},
   "outputs": [
    {
     "name": "stdout",
     "output_type": "stream",
     "text": [
      "Last year, people could buy products worth $ 535.0 in $500\n"
     ]
    }
   ],
   "source": [
    "# task 4, calculate purchasing power for last year\n",
    "inflationRate = 7\n",
    "money = 500\n",
    "amountChange = 500 * (7 / 100)\n",
    "lastYearPurchasingPower = money + amountChange\n",
    "print(\"Last year, people could buy products worth $\", lastYearPurchasingPower, \"in $500\")"
   ]
  },
  {
   "cell_type": "code",
   "execution_count": 7,
   "id": "fc01f7fe",
   "metadata": {},
   "outputs": [
    {
     "name": "stdout",
     "output_type": "stream",
     "text": [
      "Kushagra\n",
      "Python\n",
      "Hello I'm Kushagra . I'm learning Python .\n"
     ]
    }
   ],
   "source": [
    "# task 5, print name and language currently learning\n",
    "name = input()\n",
    "language = input()\n",
    "print(\"Hello I'm\", name,'.', \"I'm learning\", language,'.')"
   ]
  },
  {
   "cell_type": "code",
   "execution_count": 2,
   "id": "33709279",
   "metadata": {},
   "outputs": [
    {
     "name": "stdout",
     "output_type": "stream",
     "text": [
      "amount 10000\n",
      "interest 18\n",
      "time 1\n",
      "Simple interest is  1800.0\n"
     ]
    }
   ],
   "source": [
    "# task 6, calculate simple interest\n",
    "principleAmount = float(input(\"amount = \"))\n",
    "interestRate = float(input(\"interest = \"))\n",
    "time = float(input(\"time = \"))\n",
    "simpleInterest = (principleAmount * time * interestRate) / 100\n",
    "print(\"Simple interest is = \", simpleInterest)"
   ]
  },
  {
   "cell_type": "code",
   "execution_count": 6,
   "id": "11722d6a",
   "metadata": {
    "scrolled": true
   },
   "outputs": [
    {
     "name": "stdout",
     "output_type": "stream",
     "text": [
      "principle amount = 100000\n",
      "interest = 18\n",
      "time = 1\n",
      "Simple interest is =  18000.0\n"
     ]
    }
   ],
   "source": [
    "# task 7, calculate simple interest #2\n",
    "principleAmount = float(input(\"principle amount = \"))\n",
    "interestRate = float(input(\"interest = \"))\n",
    "time = float(input(\"time = \"))\n",
    "amount = principleAmount * (1 + interestRate/ 100) ** time\n",
    "simpleInterest = amount - principleAmount\n",
    "print(\"Simple interest is = \",simpleInterest)"
   ]
  },
  {
   "cell_type": "code",
   "execution_count": 18,
   "id": "2794329f",
   "metadata": {},
   "outputs": [
    {
     "name": "stdout",
     "output_type": "stream",
     "text": [
      "Before changing =  1 & 2\n",
      "After changing =  2 & 1\n"
     ]
    }
   ],
   "source": [
    "# task 8, swap two numbers\n",
    "num_var1 = 1\n",
    "num_var2 = 2\n",
    "print(\"Before changing = \", num_var1,\"&\", num_var2)\n",
    "num_var1 = num_var1 + num_var2\n",
    "num_var2 = num_var1 - num_var2\n",
    "num_var1 = num_var1 - num_var2\n",
    "print(\"After changing = \", num_var1,\"&\", num_var2)"
   ]
  },
  {
   "cell_type": "code",
   "execution_count": 19,
   "id": "c6bbdc05",
   "metadata": {},
   "outputs": [
    {
     "name": "stdout",
     "output_type": "stream",
     "text": [
      "Distance in Kilometre = 500\n",
      "500.0 km is 312.5 in miles\n"
     ]
    }
   ],
   "source": [
    "# task 9, km to miles\n",
    "kmDistance = float(input(\"Distance in Kilometre = \"))\n",
    "milesDistance = float(kmDistance / 1.6)\n",
    "print(kmDistance, 'km is', milesDistance, \"in miles\")"
   ]
  },
  {
   "cell_type": "code",
   "execution_count": 20,
   "id": "fffbae7d",
   "metadata": {},
   "outputs": [
    {
     "name": "stdout",
     "output_type": "stream",
     "text": [
      "Enter number for table calculation = 2\n",
      "2 X 1 = 2\n",
      "2 X 2 = 4\n",
      "2 X 3 = 6\n",
      "2 X 4 = 8\n",
      "2 X 5 = 10\n",
      "2 X 6 = 12\n",
      "2 X 7 = 14\n",
      "2 X 8 = 16\n",
      "2 X 9 = 18\n",
      "2 X 10 = 20\n"
     ]
    }
   ],
   "source": [
    "# task 10, table of input number\n",
    "num = int(input(\"Enter number for table calculation = \"))\n",
    "for i in range(1, 11):\n",
    "    print(num, \"X\", i, \"=\", num * i)"
   ]
  },
  {
   "cell_type": "code",
   "execution_count": null,
   "id": "839a2888",
   "metadata": {},
   "outputs": [],
   "source": []
  }
 ],
 "metadata": {
  "kernelspec": {
   "display_name": "Python 3 (ipykernel)",
   "language": "python",
   "name": "python3"
  },
  "language_info": {
   "codemirror_mode": {
    "name": "ipython",
    "version": 3
   },
   "file_extension": ".py",
   "mimetype": "text/x-python",
   "name": "python",
   "nbconvert_exporter": "python",
   "pygments_lexer": "ipython3",
   "version": "3.9.12"
  }
 },
 "nbformat": 4,
 "nbformat_minor": 5
}
