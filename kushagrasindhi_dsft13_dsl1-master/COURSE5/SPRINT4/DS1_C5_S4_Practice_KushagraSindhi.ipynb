{
 "cells": [
  {
   "cell_type": "code",
   "execution_count": 30,
   "id": "18e81b47",
   "metadata": {},
   "outputs": [],
   "source": [
    "import pandas as pd\n",
    "import numpy as np\n",
    "import statistics as st\n",
    "from scipy.stats import binom\n",
    "from scipy.stats import poisson\n",
    "import matplotlib.pyplot as plt\n",
    "import seaborn as sns\n",
    "import math\n",
    "import numpy as np"
   ]
  },
  {
   "cell_type": "code",
   "execution_count": 8,
   "id": "7ec24ba5",
   "metadata": {},
   "outputs": [],
   "source": [
    "# task 1\n",
    "\n",
    "oreo_share = 0.15\n",
    "n = 25"
   ]
  },
  {
   "cell_type": "code",
   "execution_count": 74,
   "id": "77ed920c",
   "metadata": {},
   "outputs": [
    {
     "data": {
      "text/html": [
       "<div>\n",
       "<style scoped>\n",
       "    .dataframe tbody tr th:only-of-type {\n",
       "        vertical-align: middle;\n",
       "    }\n",
       "\n",
       "    .dataframe tbody tr th {\n",
       "        vertical-align: top;\n",
       "    }\n",
       "\n",
       "    .dataframe thead th {\n",
       "        text-align: right;\n",
       "    }\n",
       "</style>\n",
       "<table border=\"1\" class=\"dataframe\">\n",
       "  <thead>\n",
       "    <tr style=\"text-align: right;\">\n",
       "      <th></th>\n",
       "      <th>Number of purchasers</th>\n",
       "      <th>Probability</th>\n",
       "    </tr>\n",
       "  </thead>\n",
       "  <tbody>\n",
       "    <tr>\n",
       "      <th>0</th>\n",
       "      <td>0</td>\n",
       "      <td>1.719781e-02</td>\n",
       "    </tr>\n",
       "    <tr>\n",
       "      <th>1</th>\n",
       "      <td>1</td>\n",
       "      <td>7.587269e-02</td>\n",
       "    </tr>\n",
       "    <tr>\n",
       "      <th>2</th>\n",
       "      <td>2</td>\n",
       "      <td>1.606716e-01</td>\n",
       "    </tr>\n",
       "    <tr>\n",
       "      <th>3</th>\n",
       "      <td>3</td>\n",
       "      <td>2.173792e-01</td>\n",
       "    </tr>\n",
       "    <tr>\n",
       "      <th>4</th>\n",
       "      <td>4</td>\n",
       "      <td>2.109857e-01</td>\n",
       "    </tr>\n",
       "    <tr>\n",
       "      <th>5</th>\n",
       "      <td>5</td>\n",
       "      <td>1.563776e-01</td>\n",
       "    </tr>\n",
       "    <tr>\n",
       "      <th>6</th>\n",
       "      <td>6</td>\n",
       "      <td>9.198684e-02</td>\n",
       "    </tr>\n",
       "    <tr>\n",
       "      <th>7</th>\n",
       "      <td>7</td>\n",
       "      <td>4.406092e-02</td>\n",
       "    </tr>\n",
       "    <tr>\n",
       "      <th>8</th>\n",
       "      <td>8</td>\n",
       "      <td>1.749478e-02</td>\n",
       "    </tr>\n",
       "    <tr>\n",
       "      <th>9</th>\n",
       "      <td>9</td>\n",
       "      <td>5.831593e-03</td>\n",
       "    </tr>\n",
       "    <tr>\n",
       "      <th>10</th>\n",
       "      <td>10</td>\n",
       "      <td>1.646567e-03</td>\n",
       "    </tr>\n",
       "    <tr>\n",
       "      <th>11</th>\n",
       "      <td>11</td>\n",
       "      <td>3.962328e-04</td>\n",
       "    </tr>\n",
       "    <tr>\n",
       "      <th>12</th>\n",
       "      <td>12</td>\n",
       "      <td>8.157734e-05</td>\n",
       "    </tr>\n",
       "    <tr>\n",
       "      <th>13</th>\n",
       "      <td>13</td>\n",
       "      <td>1.439600e-05</td>\n",
       "    </tr>\n",
       "    <tr>\n",
       "      <th>14</th>\n",
       "      <td>14</td>\n",
       "      <td>2.177546e-06</td>\n",
       "    </tr>\n",
       "    <tr>\n",
       "      <th>15</th>\n",
       "      <td>15</td>\n",
       "      <td>2.818001e-07</td>\n",
       "    </tr>\n",
       "    <tr>\n",
       "      <th>16</th>\n",
       "      <td>16</td>\n",
       "      <td>3.108090e-08</td>\n",
       "    </tr>\n",
       "    <tr>\n",
       "      <th>17</th>\n",
       "      <td>17</td>\n",
       "      <td>2.903752e-09</td>\n",
       "    </tr>\n",
       "    <tr>\n",
       "      <th>18</th>\n",
       "      <td>18</td>\n",
       "      <td>2.277452e-10</td>\n",
       "    </tr>\n",
       "    <tr>\n",
       "      <th>19</th>\n",
       "      <td>19</td>\n",
       "      <td>1.480696e-11</td>\n",
       "    </tr>\n",
       "    <tr>\n",
       "      <th>20</th>\n",
       "      <td>20</td>\n",
       "      <td>7.838981e-13</td>\n",
       "    </tr>\n",
       "    <tr>\n",
       "      <th>21</th>\n",
       "      <td>21</td>\n",
       "      <td>3.293690e-14</td>\n",
       "    </tr>\n",
       "    <tr>\n",
       "      <th>22</th>\n",
       "      <td>22</td>\n",
       "      <td>1.056799e-15</td>\n",
       "    </tr>\n",
       "    <tr>\n",
       "      <th>23</th>\n",
       "      <td>23</td>\n",
       "      <td>2.432529e-17</td>\n",
       "    </tr>\n",
       "    <tr>\n",
       "      <th>24</th>\n",
       "      <td>24</td>\n",
       "      <td>3.577249e-19</td>\n",
       "    </tr>\n",
       "    <tr>\n",
       "      <th>25</th>\n",
       "      <td>25</td>\n",
       "      <td>2.525117e-21</td>\n",
       "    </tr>\n",
       "  </tbody>\n",
       "</table>\n",
       "</div>"
      ],
      "text/plain": [
       "    Number of purchasers   Probability\n",
       "0                      0  1.719781e-02\n",
       "1                      1  7.587269e-02\n",
       "2                      2  1.606716e-01\n",
       "3                      3  2.173792e-01\n",
       "4                      4  2.109857e-01\n",
       "5                      5  1.563776e-01\n",
       "6                      6  9.198684e-02\n",
       "7                      7  4.406092e-02\n",
       "8                      8  1.749478e-02\n",
       "9                      9  5.831593e-03\n",
       "10                    10  1.646567e-03\n",
       "11                    11  3.962328e-04\n",
       "12                    12  8.157734e-05\n",
       "13                    13  1.439600e-05\n",
       "14                    14  2.177546e-06\n",
       "15                    15  2.818001e-07\n",
       "16                    16  3.108090e-08\n",
       "17                    17  2.903752e-09\n",
       "18                    18  2.277452e-10\n",
       "19                    19  1.480696e-11\n",
       "20                    20  7.838981e-13\n",
       "21                    21  3.293690e-14\n",
       "22                    22  1.056799e-15\n",
       "23                    23  2.432529e-17\n",
       "24                    24  3.577249e-19\n",
       "25                    25  2.525117e-21"
      ]
     },
     "execution_count": 74,
     "metadata": {},
     "output_type": "execute_result"
    }
   ],
   "source": [
    "k = np.arange(0, 26)\n",
    "\n",
    "prob = binom.pmf(k, n, oreo_share)\n",
    "prob\n",
    "\n",
    "t1a = pd.DataFrame({'Number of purchasers': k, 'Probability': prob})\n",
    "t1a"
   ]
  },
  {
   "cell_type": "code",
   "execution_count": 75,
   "id": "c1127c7e",
   "metadata": {},
   "outputs": [
    {
     "data": {
      "text/plain": [
       "0.682106967297771"
      ]
     },
     "execution_count": 75,
     "metadata": {},
     "output_type": "execute_result"
    }
   ],
   "source": [
    "# a) Less than 5\n",
    "\n",
    "lessThan5 = t1a['Probability'][:5]\n",
    "lessThan5.sum()"
   ]
  },
  {
   "cell_type": "code",
   "execution_count": 76,
   "id": "1fa5004f",
   "metadata": {},
   "outputs": [
    {
     "data": {
      "text/plain": [
       "0.0004946997113489004"
      ]
     },
     "execution_count": 76,
     "metadata": {},
     "output_type": "execute_result"
    }
   ],
   "source": [
    "# b) More than 10\n",
    "\n",
    "moreThan10 = t1a['Probability'][11:]\n",
    "moreThan10.sum()"
   ]
  },
  {
   "cell_type": "code",
   "execution_count": 49,
   "id": "b2f52dd7",
   "metadata": {},
   "outputs": [
    {
     "data": {
      "text/html": [
       "<div>\n",
       "<style scoped>\n",
       "    .dataframe tbody tr th:only-of-type {\n",
       "        vertical-align: middle;\n",
       "    }\n",
       "\n",
       "    .dataframe tbody tr th {\n",
       "        vertical-align: top;\n",
       "    }\n",
       "\n",
       "    .dataframe thead th {\n",
       "        text-align: right;\n",
       "    }\n",
       "</style>\n",
       "<table border=\"1\" class=\"dataframe\">\n",
       "  <thead>\n",
       "    <tr style=\"text-align: right;\">\n",
       "      <th></th>\n",
       "      <th>Less Than 5</th>\n",
       "      <th>More Than 10</th>\n",
       "    </tr>\n",
       "  </thead>\n",
       "  <tbody>\n",
       "    <tr>\n",
       "      <th>Mean</th>\n",
       "      <td>0.136421</td>\n",
       "      <td>0.000428</td>\n",
       "    </tr>\n",
       "    <tr>\n",
       "      <th>Standard Deviation</th>\n",
       "      <td>0.087439</td>\n",
       "      <td>0.000700</td>\n",
       "    </tr>\n",
       "  </tbody>\n",
       "</table>\n",
       "</div>"
      ],
      "text/plain": [
       "                    Less Than 5  More Than 10\n",
       "Mean                   0.136421      0.000428\n",
       "Standard Deviation     0.087439      0.000700"
      ]
     },
     "execution_count": 49,
     "metadata": {},
     "output_type": "execute_result"
    }
   ],
   "source": [
    "# c) Calculating mean and standard deviation and showcasing in a tabular form\n",
    "\n",
    "meanFive = st.mean(lessThan5)\n",
    "meanTen = st.mean(moreThan10)\n",
    "\n",
    "stdFive = st.stdev(lessThan5)\n",
    "stdTen = st.stdev(moreThan10)\n",
    "\n",
    "table1 = pd.DataFrame({'Less Than 5': [meanFive, stdFive],\n",
    "                      'More Than 10': [meanTen, stdTen]}, index = ['Mean', 'Standard Deviation'])\n",
    "table1"
   ]
  },
  {
   "cell_type": "code",
   "execution_count": 78,
   "id": "5622c1e3",
   "metadata": {},
   "outputs": [
    {
     "data": {
      "text/plain": [
       "Text(0.5, 1.0, 'More than 10')"
      ]
     },
     "execution_count": 78,
     "metadata": {},
     "output_type": "execute_result"
    },
    {
     "data": {
      "image/png": "[encoded data removed]",
      "text/plain": [
       "<Figure size 1080x720 with 2 Axes>"
      ]
     },
     "metadata": {
      "needs_background": "light"
     },
     "output_type": "display_data"
    }
   ],
   "source": [
    "# d)\n",
    "\n",
    "plt.figure(figsize=(15, 10))\n",
    "plt.subplot(2, 1, 1)\n",
    "sns.lineplot(x = k[:5], y = lessThan5, marker = 'o')\n",
    "plt.title('Fewer than 5')\n",
    "\n",
    "plt.subplot(2, 1, 2)\n",
    "sns.lineplot(x = k[11:], y = moreThan10, marker = 'o')\n",
    "plt.title('More than 10')"
   ]
  },
  {
   "cell_type": "code",
   "execution_count": 65,
   "id": "a8e9895e",
   "metadata": {},
   "outputs": [
    {
     "data": {
      "text/html": [
       "<div>\n",
       "<style scoped>\n",
       "    .dataframe tbody tr th:only-of-type {\n",
       "        vertical-align: middle;\n",
       "    }\n",
       "\n",
       "    .dataframe tbody tr th {\n",
       "        vertical-align: top;\n",
       "    }\n",
       "\n",
       "    .dataframe thead th {\n",
       "        text-align: right;\n",
       "    }\n",
       "</style>\n",
       "<table border=\"1\" class=\"dataframe\">\n",
       "  <thead>\n",
       "    <tr style=\"text-align: right;\">\n",
       "      <th></th>\n",
       "      <th>Week 1</th>\n",
       "      <th>week 2</th>\n",
       "      <th>week 3</th>\n",
       "    </tr>\n",
       "  </thead>\n",
       "  <tbody>\n",
       "    <tr>\n",
       "      <th>0</th>\n",
       "      <td>3</td>\n",
       "      <td>1</td>\n",
       "      <td>5</td>\n",
       "    </tr>\n",
       "    <tr>\n",
       "      <th>1</th>\n",
       "      <td>6</td>\n",
       "      <td>2</td>\n",
       "      <td>3</td>\n",
       "    </tr>\n",
       "    <tr>\n",
       "      <th>2</th>\n",
       "      <td>4</td>\n",
       "      <td>4</td>\n",
       "      <td>5</td>\n",
       "    </tr>\n",
       "    <tr>\n",
       "      <th>3</th>\n",
       "      <td>6</td>\n",
       "      <td>0</td>\n",
       "      <td>3</td>\n",
       "    </tr>\n",
       "    <tr>\n",
       "      <th>4</th>\n",
       "      <td>2</td>\n",
       "      <td>2</td>\n",
       "      <td>5</td>\n",
       "    </tr>\n",
       "    <tr>\n",
       "      <th>5</th>\n",
       "      <td>3</td>\n",
       "      <td>6</td>\n",
       "      <td>4</td>\n",
       "    </tr>\n",
       "    <tr>\n",
       "      <th>6</th>\n",
       "      <td>1</td>\n",
       "      <td>5</td>\n",
       "      <td>7</td>\n",
       "    </tr>\n",
       "    <tr>\n",
       "      <th>7</th>\n",
       "      <td>5</td>\n",
       "      <td>4</td>\n",
       "      <td>3</td>\n",
       "    </tr>\n",
       "    <tr>\n",
       "      <th>8</th>\n",
       "      <td>1</td>\n",
       "      <td>2</td>\n",
       "      <td>4</td>\n",
       "    </tr>\n",
       "    <tr>\n",
       "      <th>9</th>\n",
       "      <td>0</td>\n",
       "      <td>5</td>\n",
       "      <td>8</td>\n",
       "    </tr>\n",
       "    <tr>\n",
       "      <th>10</th>\n",
       "      <td>3</td>\n",
       "      <td>3</td>\n",
       "      <td>3</td>\n",
       "    </tr>\n",
       "    <tr>\n",
       "      <th>11</th>\n",
       "      <td>3</td>\n",
       "      <td>4</td>\n",
       "      <td>1</td>\n",
       "    </tr>\n",
       "  </tbody>\n",
       "</table>\n",
       "</div>"
      ],
      "text/plain": [
       "    Week 1  week 2  week 3\n",
       "0        3       1       5\n",
       "1        6       2       3\n",
       "2        4       4       5\n",
       "3        6       0       3\n",
       "4        2       2       5\n",
       "5        3       6       4\n",
       "6        1       5       7\n",
       "7        5       4       3\n",
       "8        1       2       4\n",
       "9        0       5       8\n",
       "10       3       3       3\n",
       "11       3       4       1"
      ]
     },
     "execution_count": 65,
     "metadata": {},
     "output_type": "execute_result"
    }
   ],
   "source": [
    "# task 2\n",
    "\n",
    "df = pd.read_excel('Screenshot 2022-12-22 010554.xlsx')\n",
    "df.drop(['Unnamed: 1'], axis = 1, inplace = True)\n",
    "df"
   ]
  },
  {
   "cell_type": "code",
   "execution_count": 106,
   "id": "6f5ac175",
   "metadata": {},
   "outputs": [
    {
     "data": {
      "text/plain": [
       "3.5"
      ]
     },
     "execution_count": 106,
     "metadata": {},
     "output_type": "execute_result"
    }
   ],
   "source": [
    "temp = pd.concat([df['Week 1'], df['week 2'], df['week 3']])\n",
    "rate = np.mean(temp)\n",
    "rate"
   ]
  },
  {
   "cell_type": "code",
   "execution_count": 123,
   "id": "5a426ac9",
   "metadata": {},
   "outputs": [
    {
     "name": "stdout",
     "output_type": "stream",
     "text": [
      "0.0301973834223185 Is the probability of exactly 0 customers arriving in 5 minutes\n"
     ]
    }
   ],
   "source": [
    "# a) probability of exactly 0 customers arriving in 5 minutes\n",
    "\n",
    "n1 = 0\n",
    "\n",
    "nocus = poisson.pmf(n1, rate)\n",
    "print(nocus, 'Is the probability of exactly 0 customers arriving in 5 minutes')"
   ]
  },
  {
   "cell_type": "code",
   "execution_count": 127,
   "id": "149dd389",
   "metadata": {},
   "outputs": [
    {
     "name": "stdout",
     "output_type": "stream",
     "text": [
      "0.06528809702895366 Is the probability of more than 6 customers arriving in 5 minutes\n"
     ]
    }
   ],
   "source": [
    "# b) probability of more than 6 customers arriving in 5 minutes\n",
    "\n",
    "grt6 = 1-poisson.cdf(6, rate)\n",
    "grt6\n",
    "print(grt6, 'Is the probability of more than 6 customers arriving in 5 minutes')"
   ]
  },
  {
   "cell_type": "code",
   "execution_count": 133,
   "id": "75532f39",
   "metadata": {},
   "outputs": [
    {
     "name": "stdout",
     "output_type": "stream",
     "text": [
      "0.08176541624472157 Is the probability of less than 4 customers arriving in 10 minutes\n"
     ]
    }
   ],
   "source": [
    "# c) probability of less than 4 customers arriving in 10 minutes\n",
    "\n",
    "n2 = np.arange(0, 4)\n",
    "fewerthan4 = poisson.pmf(n2, (rate*2))\n",
    "print(fewerthan4.sum(), 'Is the probability of less than 4 customers arriving in 10 minutes')"
   ]
  },
  {
   "cell_type": "code",
   "execution_count": 147,
   "id": "b32c9e05",
   "metadata": {},
   "outputs": [
    {
     "name": "stdout",
     "output_type": "stream",
     "text": [
      "0.42007489196817666 Is the probability of between 3 and 6 customers arriving in 10 minutes\n"
     ]
    }
   ],
   "source": [
    "# d) probability of between 3 and 6 customers arriving in 10 minutes\n",
    "\n",
    "n3 = np.arange(3, 7)\n",
    "bwt3and6 = poisson.pmf(n3, (rate*2))\n",
    "bwt3and6.sum()\n",
    "print(bwt3and6.sum(), 'Is the probability of between 3 and 6 customers arriving in 10 minutes')"
   ]
  },
  {
   "cell_type": "code",
   "execution_count": 136,
   "id": "b2d7aa27",
   "metadata": {},
   "outputs": [
    {
     "name": "stdout",
     "output_type": "stream",
     "text": [
      "0.10090247270437917 Is the probability of exactly 8 customers arriving in 15 minutes\n"
     ]
    }
   ],
   "source": [
    "# e) probability of exactly 8 customers arriving in 15 minutes\n",
    "\n",
    "n4 = 8\n",
    "exact8 = poisson.pmf(n4, (rate*3))\n",
    "print(exact8, 'Is the probability of exactly 8 customers arriving in 15 minutes')"
   ]
  },
  {
   "cell_type": "code",
   "execution_count": 156,
   "id": "8846f075",
   "metadata": {},
   "outputs": [
    {
     "data": {
      "text/plain": [
       "Text(0, 0.5, 'Probability')"
      ]
     },
     "execution_count": 156,
     "metadata": {},
     "output_type": "execute_result"
    },
    {
     "data": {
      "image/png": "[encoded data removed]",
      "text/plain": [
       "<Figure size 1440x1440 with 5 Axes>"
      ]
     },
     "metadata": {
      "needs_background": "light"
     },
     "output_type": "display_data"
    }
   ],
   "source": [
    "# f) graphs\n",
    "\n",
    "plt.figure(figsize = (20, 20))\n",
    "\n",
    "\n",
    "plt.subplot(3, 2, 1)\n",
    "plt.plot(n1, nocus, 'o-')\n",
    "plt.title('No customers in 5 minutes')\n",
    "plt.xlabel('Number of customers')\n",
    "plt.ylabel('Probability')\n",
    "\n",
    "plt.subplot(3, 2, 2)\n",
    "plt.plot(6, grt6, 'o-')\n",
    "plt.title('More than 6 customers in 5 minutes')\n",
    "plt.xlabel('Number of customers')\n",
    "plt.ylabel('Probability')\n",
    "\n",
    "plt.subplot(3, 2, 3)\n",
    "plt.plot(n2, fewerthan4, 'o-')\n",
    "plt.title('Fewer than 4 in 10 minutes')\n",
    "plt.xlabel('Number of customers')\n",
    "plt.ylabel('Probability')\n",
    "\n",
    "plt.subplot(3, 2, 4)\n",
    "plt.plot(n3, bwt3and6, 'o-')\n",
    "plt.title('Between 3 and 6 in 10 minutes')\n",
    "plt.xlabel('Number of customers')\n",
    "plt.ylabel('Probability')\n",
    "\n",
    "plt.subplot(3, 2, 5)\n",
    "plt.plot(n4, exact8, 'o-')\n",
    "plt.title('Exactly 8 in 15 minutes')\n",
    "plt.xlabel('Number of customers')\n",
    "plt.ylabel('Probability')"
   ]
  },
  {
   "cell_type": "code",
   "execution_count": null,
   "id": "f26a79e1",
   "metadata": {},
   "outputs": [],
   "source": []
  }
 ],
 "metadata": {
  "kernelspec": {
   "display_name": "Python 3 (ipykernel)",
   "language": "python",
   "name": "python3"
  },
  "language_info": {
   "codemirror_mode": {
    "name": "ipython",
    "version": 3
   },
   "file_extension": ".py",
   "mimetype": "text/x-python",
   "name": "python",
   "nbconvert_exporter": "python",
   "pygments_lexer": "ipython3",
   "version": "3.9.12"
  }
 },
 "nbformat": 4,
 "nbformat_minor": 5
}
