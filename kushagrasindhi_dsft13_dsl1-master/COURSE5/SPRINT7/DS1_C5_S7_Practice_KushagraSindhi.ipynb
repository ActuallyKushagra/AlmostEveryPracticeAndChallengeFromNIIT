{
 "cells": [
  {
   "cell_type": "code",
   "execution_count": 3,
   "id": "976f8ade",
   "metadata": {},
   "outputs": [],
   "source": [
    "import statistics as st\n",
    "import scipy.stats as sts\n",
    "import numpy as np\n",
    "import matplotlib.pyplot as plt"
   ]
  },
  {
   "cell_type": "markdown",
   "id": "f69dbc72",
   "metadata": {},
   "source": [
    "###### task 1\n",
    "\n",
    "a)\n",
    "\n",
    "Ho: mean <= 71\n",
    "\n",
    "Ha: mean > 71\n",
    "\n"
   ]
  },
  {
   "cell_type": "code",
   "execution_count": 4,
   "id": "bc91800c",
   "metadata": {},
   "outputs": [],
   "source": [
    "score = [61, 93, 75, 67, 84, 95]\n",
    "\n",
    "popmean = 71\n",
    "sampmean = st.mean(score)\n",
    "sampstd = st.stdev(score)\n",
    "n = 6\n",
    "dof = n-1\n",
    "alpha = 0.01"
   ]
  },
  {
   "cell_type": "code",
   "execution_count": 7,
   "id": "b5c50382",
   "metadata": {},
   "outputs": [
    {
     "name": "stdout",
     "output_type": "stream",
     "text": [
      "tcrit is 3.3649299989072747\n",
      "ttest is 1.443050156931714\n",
      "tstat is 1.443050156931714\n"
     ]
    }
   ],
   "source": [
    "# b) and c)\n",
    "\n",
    "tcrit = sts.t.ppf(1-alpha, dof)\n",
    "print('tcrit is', tcrit)\n",
    "\n",
    "ttest = (sampmean-popmean)/(sampstd/st.sqrt(n))\n",
    "print('ttest is', ttest)\n",
    "\n",
    "tstat =  (sampmean-popmean)/(sampstd/st.sqrt(n))\n",
    "print('tstat is', tstat)\n",
    "\n",
    "pval = sts.t.sf(abs(tstat), dof)"
   ]
  },
  {
   "cell_type": "code",
   "execution_count": 8,
   "id": "6c7456c5",
   "metadata": {},
   "outputs": [
    {
     "name": "stdout",
     "output_type": "stream",
     "text": [
      "Null hypothesis accepted\n"
     ]
    },
    {
     "data": {
      "image/png": "[encoded data removed]",
      "text/plain": [
       "<Figure size 432x288 with 1 Axes>"
      ]
     },
     "metadata": {
      "needs_background": "light"
     },
     "output_type": "display_data"
    }
   ],
   "source": [
    "# d)\n",
    "\n",
    "if pval > alpha and tstat < tcrit:\n",
    "    print(\"Null hypothesis accepted\")\n",
    "else:\n",
    "    print('Null hypothesis rejected')\n",
    "    \n",
    "r = np.arange(-4,4,0.05)\n",
    "a= sts.t.pdf(r,5)\n",
    "plt.plot(r,a);"
   ]
  },
  {
   "cell_type": "markdown",
   "id": "ee0a8fb2",
   "metadata": {},
   "source": [
    "###### e)\n",
    "\n",
    "The mean score of the students was less than anticipated"
   ]
  },
  {
   "cell_type": "markdown",
   "id": "740939f7",
   "metadata": {},
   "source": [
    "###### task 2"
   ]
  },
  {
   "cell_type": "code",
   "execution_count": 10,
   "id": "97b34c7d",
   "metadata": {},
   "outputs": [],
   "source": [
    "\n",
    "\n",
    "b1=[9,9,9,36,45,48,51,57,69,72,96]\n",
    "b2=[60,39,39,60,79,96,69,60,75,45,90]"
   ]
  },
  {
   "cell_type": "markdown",
   "id": "9a2b70fd",
   "metadata": {},
   "source": [
    "##### a)\n",
    "\n",
    "Ho: mean1 = mean2\n",
    "\n",
    "Ha: mean1 != mean2"
   ]
  },
  {
   "cell_type": "code",
   "execution_count": 11,
   "id": "618dbf5e",
   "metadata": {},
   "outputs": [],
   "source": [
    "alpha = 0.1\n",
    "\n",
    "\n",
    "b1mean = st.mean(b1)\n",
    "b2mean = st.mean(b2)\n",
    "b1var = st.variance(b1)\n",
    "b2var = st.variance(b2)\n",
    "n1 = len(b1)\n",
    "n2 = len(b2)\n",
    "dof = n1+n1-2"
   ]
  },
  {
   "cell_type": "code",
   "execution_count": 12,
   "id": "6d440475",
   "metadata": {},
   "outputs": [
    {
     "name": "stdout",
     "output_type": "stream",
     "text": [
      "tstatistics is -0.07164723503150137\n",
      "tcritical is -1.7247182429207863\n",
      "probability value is  0.943594286107872\n"
     ]
    }
   ],
   "source": [
    "# b, c\n",
    "\n",
    "denom = st.sqrt((((b1var**2)*(n1-1))+((b2var**2)*(n2-1)))/dof)*(st.sqrt((1/n1)+(1/n1)))\n",
    "tstat = (b1mean - b2mean)/denom\n",
    "print('tstatistics is', tstat)\n",
    "\n",
    "tcrit = sts.t.ppf(alpha/2,dof)    \n",
    "print('tcritical is', tcrit )\n",
    "\n",
    "pval= sts.t.sf(abs(tstat),dof)*2 \n",
    "print('probability value is ', pval)"
   ]
  },
  {
   "cell_type": "code",
   "execution_count": 13,
   "id": "41e1c27a",
   "metadata": {},
   "outputs": [
    {
     "name": "stdout",
     "output_type": "stream",
     "text": [
      "Null hypothesis rejected\n"
     ]
    },
    {
     "data": {
      "image/png": "[encoded data removed]",
      "text/plain": [
       "<Figure size 432x288 with 1 Axes>"
      ]
     },
     "metadata": {
      "needs_background": "light"
     },
     "output_type": "display_data"
    }
   ],
   "source": [
    "# d\n",
    "\n",
    "if pval > alpha and tstat < tcrit:\n",
    "    print(\"Null hypothesis accepted\")\n",
    "else:\n",
    "    print('Null hypothesis rejected')\n",
    "    \n",
    "r = np.arange(-4,4,0.05)\n",
    "a = sts.t.pdf(r,dof)\n",
    "plt.plot(r,a);"
   ]
  },
  {
   "cell_type": "markdown",
   "id": "42ddfb81",
   "metadata": {},
   "source": [
    "###### e) The mean score of the students was not equal as expected"
   ]
  },
  {
   "cell_type": "markdown",
   "id": "e8174a84",
   "metadata": {},
   "source": [
    "###### Task 3\n"
   ]
  },
  {
   "cell_type": "markdown",
   "id": "1242cd4b",
   "metadata": {},
   "source": [
    "a)\n",
    "\n",
    "Ho : mean1 = mean2 = mean3 = mean4\n",
    "\n",
    "Ha : There is difference in at least one of the mean values"
   ]
  },
  {
   "cell_type": "code",
   "execution_count": 22,
   "id": "542b1f0b",
   "metadata": {},
   "outputs": [],
   "source": [
    "\n",
    "\n",
    "alpha = 0.01\n",
    "\n",
    "b1=[9,9,9,36,45,48,51,57,69,72,96]\n",
    "b2=[60,39,39,60,79,96,69,60,75,45,90]\n",
    "b3=[38,61,62,89,86,50,85,55,80,69,95]\n",
    "b4=[45,55,57,88,78,60,35,97,58,88,78]\n",
    "\n",
    "b1mean = st.mean(b1)\n",
    "b2mean = st.mean(b2)\n",
    "b3mean = st.mean(b3)\n",
    "b4mean = st.mean(b4)\n",
    "totmean = st.mean((b1+b2+b3+b4))\n",
    "\n",
    "n1 = len(b1)\n",
    "n2 = len(b2)\n",
    "n3 = len(b3)\n",
    "n4 = len(b4)\n",
    "totn = n1+n2+n3+n4\n",
    "\n",
    "b1var = st.variance(b1)\n",
    "b2var = st.variance(b2)\n",
    "b3var = st.variance(b3)\n",
    "b4var = st.variance(b4)\n",
    "\n",
    "dof = n1+n2+n3+n4 - 4\n",
    "\n",
    "dfc= 4-1\n",
    "dfe= 44-4\n",
    "dft= 44-1"
   ]
  },
  {
   "cell_type": "code",
   "execution_count": 17,
   "id": "7059bb10",
   "metadata": {},
   "outputs": [
    {
     "name": "stdout",
     "output_type": "stream",
     "text": [
      "fcritical  is 4.312569212492142\n"
     ]
    }
   ],
   "source": [
    "# b)\n",
    "\n",
    "fcrit = sts.f.ppf(1-0.01, dfc, dfe)\n",
    "print(f'fcritical  is {fcrit}')"
   ]
  },
  {
   "cell_type": "code",
   "execution_count": 18,
   "id": "1fdff71c",
   "metadata": {},
   "outputs": [
    {
     "name": "stdout",
     "output_type": "stream",
     "text": [
      "Fstatistics is 2.8403108468764224 and pvalue is 0.04991227386422173\n"
     ]
    }
   ],
   "source": [
    "# c)\n",
    "\n",
    "fstat, fpval = sts.f_oneway(b1, b2, b3, b4)\n",
    "print('Fstatistics is', fstat,'and pvalue is', fpval)"
   ]
  },
  {
   "cell_type": "code",
   "execution_count": 21,
   "id": "ddbbb23e",
   "metadata": {},
   "outputs": [
    {
     "name": "stdout",
     "output_type": "stream",
     "text": [
      "Null hypothesis accepted\n"
     ]
    },
    {
     "data": {
      "image/png": "[encoded data removed]",
      "text/plain": [
       "<Figure size 432x288 with 1 Axes>"
      ]
     },
     "metadata": {
      "needs_background": "light"
     },
     "output_type": "display_data"
    }
   ],
   "source": [
    "# d)\n",
    "\n",
    "if fpval > alpha and fstat < fcrit:\n",
    "    print(\"Null hypothesis accepted\")\n",
    "else:\n",
    "    print('Null hypothesis rejected')\n",
    "    \n",
    "r = np.arange(-4,4,0.05)\n",
    "a = sts.t.pdf(r,dof)\n",
    "plt.plot(r,a);"
   ]
  },
  {
   "cell_type": "markdown",
   "id": "7920a793",
   "metadata": {},
   "source": [
    "###### e)\n",
    "\n",
    "The scores of all 4 batches are more or less the same"
   ]
  },
  {
   "cell_type": "code",
   "execution_count": null,
   "id": "f0930bd0",
   "metadata": {},
   "outputs": [],
   "source": []
  }
 ],
 "metadata": {
  "kernelspec": {
   "display_name": "Python 3 (ipykernel)",
   "language": "python",
   "name": "python3"
  },
  "language_info": {
   "codemirror_mode": {
    "name": "ipython",
    "version": 3
   },
   "file_extension": ".py",
   "mimetype": "text/x-python",
   "name": "python",
   "nbconvert_exporter": "python",
   "pygments_lexer": "ipython3",
   "version": "3.9.12"
  }
 },
 "nbformat": 4,
 "nbformat_minor": 5
}
