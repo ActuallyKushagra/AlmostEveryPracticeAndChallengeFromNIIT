{
 "cells": [
  {
   "cell_type": "code",
   "execution_count": 12,
   "id": "97300611",
   "metadata": {},
   "outputs": [],
   "source": [
    "# task 1\n",
    "\n",
    "import numpy as np\n",
    "import pandas as pd\n",
    "import matplotlib.pyplot as plt\n",
    "from sklearn.preprocessing import MinMaxScaler, StandardScaler, FunctionTransformer, LabelEncoder\n",
    "from sklearn.cluster import DBSCAN, KMeans,AgglomerativeClustering\n",
    "from sklearn.decomposition import PCA\n",
    "from sklearn.discriminant_analysis import LinearDiscriminantAnalysis\n",
    "from ipywidgets import interact\n",
    "import ipywidgets as widgets\n",
    "import seaborn as sns"
   ]
  },
  {
   "cell_type": "code",
   "execution_count": 5,
   "id": "eb74964f",
   "metadata": {},
   "outputs": [
    {
     "data": {
      "text/html": [
       "<div>\n",
       "<style scoped>\n",
       "    .dataframe tbody tr th:only-of-type {\n",
       "        vertical-align: middle;\n",
       "    }\n",
       "\n",
       "    .dataframe tbody tr th {\n",
       "        vertical-align: top;\n",
       "    }\n",
       "\n",
       "    .dataframe thead th {\n",
       "        text-align: right;\n",
       "    }\n",
       "</style>\n",
       "<table border=\"1\" class=\"dataframe\">\n",
       "  <thead>\n",
       "    <tr style=\"text-align: right;\">\n",
       "      <th></th>\n",
       "      <th>age</th>\n",
       "      <th>sex</th>\n",
       "      <th>bmi</th>\n",
       "      <th>children</th>\n",
       "      <th>smoker</th>\n",
       "      <th>region</th>\n",
       "      <th>charges</th>\n",
       "    </tr>\n",
       "  </thead>\n",
       "  <tbody>\n",
       "    <tr>\n",
       "      <th>0</th>\n",
       "      <td>19</td>\n",
       "      <td>female</td>\n",
       "      <td>27.900</td>\n",
       "      <td>0</td>\n",
       "      <td>yes</td>\n",
       "      <td>southwest</td>\n",
       "      <td>16884.92400</td>\n",
       "    </tr>\n",
       "    <tr>\n",
       "      <th>1</th>\n",
       "      <td>18</td>\n",
       "      <td>male</td>\n",
       "      <td>33.770</td>\n",
       "      <td>1</td>\n",
       "      <td>no</td>\n",
       "      <td>southeast</td>\n",
       "      <td>1725.55230</td>\n",
       "    </tr>\n",
       "    <tr>\n",
       "      <th>2</th>\n",
       "      <td>28</td>\n",
       "      <td>male</td>\n",
       "      <td>33.000</td>\n",
       "      <td>3</td>\n",
       "      <td>no</td>\n",
       "      <td>southeast</td>\n",
       "      <td>4449.46200</td>\n",
       "    </tr>\n",
       "    <tr>\n",
       "      <th>3</th>\n",
       "      <td>33</td>\n",
       "      <td>male</td>\n",
       "      <td>22.705</td>\n",
       "      <td>0</td>\n",
       "      <td>no</td>\n",
       "      <td>northwest</td>\n",
       "      <td>21984.47061</td>\n",
       "    </tr>\n",
       "    <tr>\n",
       "      <th>4</th>\n",
       "      <td>32</td>\n",
       "      <td>male</td>\n",
       "      <td>28.880</td>\n",
       "      <td>0</td>\n",
       "      <td>no</td>\n",
       "      <td>northwest</td>\n",
       "      <td>3866.85520</td>\n",
       "    </tr>\n",
       "    <tr>\n",
       "      <th>...</th>\n",
       "      <td>...</td>\n",
       "      <td>...</td>\n",
       "      <td>...</td>\n",
       "      <td>...</td>\n",
       "      <td>...</td>\n",
       "      <td>...</td>\n",
       "      <td>...</td>\n",
       "    </tr>\n",
       "    <tr>\n",
       "      <th>1333</th>\n",
       "      <td>50</td>\n",
       "      <td>male</td>\n",
       "      <td>30.970</td>\n",
       "      <td>3</td>\n",
       "      <td>no</td>\n",
       "      <td>northwest</td>\n",
       "      <td>10600.54830</td>\n",
       "    </tr>\n",
       "    <tr>\n",
       "      <th>1334</th>\n",
       "      <td>18</td>\n",
       "      <td>female</td>\n",
       "      <td>31.920</td>\n",
       "      <td>0</td>\n",
       "      <td>no</td>\n",
       "      <td>northeast</td>\n",
       "      <td>2205.98080</td>\n",
       "    </tr>\n",
       "    <tr>\n",
       "      <th>1335</th>\n",
       "      <td>18</td>\n",
       "      <td>female</td>\n",
       "      <td>36.850</td>\n",
       "      <td>0</td>\n",
       "      <td>no</td>\n",
       "      <td>southeast</td>\n",
       "      <td>1629.83350</td>\n",
       "    </tr>\n",
       "    <tr>\n",
       "      <th>1336</th>\n",
       "      <td>21</td>\n",
       "      <td>female</td>\n",
       "      <td>25.800</td>\n",
       "      <td>0</td>\n",
       "      <td>no</td>\n",
       "      <td>southwest</td>\n",
       "      <td>2007.94500</td>\n",
       "    </tr>\n",
       "    <tr>\n",
       "      <th>1337</th>\n",
       "      <td>61</td>\n",
       "      <td>female</td>\n",
       "      <td>29.070</td>\n",
       "      <td>0</td>\n",
       "      <td>yes</td>\n",
       "      <td>northwest</td>\n",
       "      <td>29141.36030</td>\n",
       "    </tr>\n",
       "  </tbody>\n",
       "</table>\n",
       "<p>1338 rows × 7 columns</p>\n",
       "</div>"
      ],
      "text/plain": [
       "      age     sex     bmi  children smoker     region      charges\n",
       "0      19  female  27.900         0    yes  southwest  16884.92400\n",
       "1      18    male  33.770         1     no  southeast   1725.55230\n",
       "2      28    male  33.000         3     no  southeast   4449.46200\n",
       "3      33    male  22.705         0     no  northwest  21984.47061\n",
       "4      32    male  28.880         0     no  northwest   3866.85520\n",
       "...   ...     ...     ...       ...    ...        ...          ...\n",
       "1333   50    male  30.970         3     no  northwest  10600.54830\n",
       "1334   18  female  31.920         0     no  northeast   2205.98080\n",
       "1335   18  female  36.850         0     no  southeast   1629.83350\n",
       "1336   21  female  25.800         0     no  southwest   2007.94500\n",
       "1337   61  female  29.070         0    yes  northwest  29141.36030\n",
       "\n",
       "[1338 rows x 7 columns]"
      ]
     },
     "execution_count": 5,
     "metadata": {},
     "output_type": "execute_result"
    }
   ],
   "source": [
    "df = pd.read_csv(\"DS2_C6_S5_Insurance_Data_Challenge.csv\")\n",
    "df"
   ]
  },
  {
   "cell_type": "code",
   "execution_count": 6,
   "id": "89ac6054",
   "metadata": {},
   "outputs": [
    {
     "data": {
      "text/plain": [
       "(1338, 7)"
      ]
     },
     "execution_count": 6,
     "metadata": {},
     "output_type": "execute_result"
    }
   ],
   "source": [
    "df.shape"
   ]
  },
  {
   "cell_type": "code",
   "execution_count": 7,
   "id": "d96010f9",
   "metadata": {},
   "outputs": [
    {
     "name": "stdout",
     "output_type": "stream",
     "text": [
      "<class 'pandas.core.frame.DataFrame'>\n",
      "RangeIndex: 1338 entries, 0 to 1337\n",
      "Data columns (total 7 columns):\n",
      " #   Column    Non-Null Count  Dtype  \n",
      "---  ------    --------------  -----  \n",
      " 0   age       1338 non-null   int64  \n",
      " 1   sex       1338 non-null   object \n",
      " 2   bmi       1338 non-null   float64\n",
      " 3   children  1338 non-null   int64  \n",
      " 4   smoker    1338 non-null   object \n",
      " 5   region    1338 non-null   object \n",
      " 6   charges   1338 non-null   float64\n",
      "dtypes: float64(2), int64(2), object(3)\n",
      "memory usage: 73.3+ KB\n"
     ]
    }
   ],
   "source": [
    "df.info()"
   ]
  },
  {
   "cell_type": "code",
   "execution_count": 8,
   "id": "8199b8a5",
   "metadata": {},
   "outputs": [
    {
     "data": {
      "text/plain": [
       "age           int64\n",
       "sex          object\n",
       "bmi         float64\n",
       "children      int64\n",
       "smoker       object\n",
       "region       object\n",
       "charges     float64\n",
       "dtype: object"
      ]
     },
     "execution_count": 8,
     "metadata": {},
     "output_type": "execute_result"
    }
   ],
   "source": [
    "df.dtypes"
   ]
  },
  {
   "cell_type": "code",
   "execution_count": 9,
   "id": "a7916fc6",
   "metadata": {},
   "outputs": [
    {
     "data": {
      "text/plain": [
       "age         0\n",
       "sex         0\n",
       "bmi         0\n",
       "children    0\n",
       "smoker      0\n",
       "region      0\n",
       "charges     0\n",
       "dtype: int64"
      ]
     },
     "execution_count": 9,
     "metadata": {},
     "output_type": "execute_result"
    }
   ],
   "source": [
    "df.isnull().sum()"
   ]
  },
  {
   "cell_type": "code",
   "execution_count": 13,
   "id": "150b46b9",
   "metadata": {},
   "outputs": [],
   "source": [
    "for i in df.columns:\n",
    "    if df[i].dtype == 'object':\n",
    "        df[i] = LabelEncoder().fit_transform(df[i])"
   ]
  },
  {
   "cell_type": "code",
   "execution_count": 14,
   "id": "b0669b96",
   "metadata": {},
   "outputs": [
    {
     "data": {
      "text/html": [
       "<div>\n",
       "<style scoped>\n",
       "    .dataframe tbody tr th:only-of-type {\n",
       "        vertical-align: middle;\n",
       "    }\n",
       "\n",
       "    .dataframe tbody tr th {\n",
       "        vertical-align: top;\n",
       "    }\n",
       "\n",
       "    .dataframe thead th {\n",
       "        text-align: right;\n",
       "    }\n",
       "</style>\n",
       "<table border=\"1\" class=\"dataframe\">\n",
       "  <thead>\n",
       "    <tr style=\"text-align: right;\">\n",
       "      <th></th>\n",
       "      <th>age</th>\n",
       "      <th>sex</th>\n",
       "      <th>bmi</th>\n",
       "      <th>children</th>\n",
       "      <th>smoker</th>\n",
       "      <th>region</th>\n",
       "      <th>charges</th>\n",
       "    </tr>\n",
       "  </thead>\n",
       "  <tbody>\n",
       "    <tr>\n",
       "      <th>age</th>\n",
       "      <td>1.000000</td>\n",
       "      <td>-0.020856</td>\n",
       "      <td>0.109272</td>\n",
       "      <td>0.042469</td>\n",
       "      <td>-0.025019</td>\n",
       "      <td>0.002127</td>\n",
       "      <td>0.299008</td>\n",
       "    </tr>\n",
       "    <tr>\n",
       "      <th>sex</th>\n",
       "      <td>-0.020856</td>\n",
       "      <td>1.000000</td>\n",
       "      <td>0.046371</td>\n",
       "      <td>0.017163</td>\n",
       "      <td>0.076185</td>\n",
       "      <td>0.004588</td>\n",
       "      <td>0.057292</td>\n",
       "    </tr>\n",
       "    <tr>\n",
       "      <th>bmi</th>\n",
       "      <td>0.109272</td>\n",
       "      <td>0.046371</td>\n",
       "      <td>1.000000</td>\n",
       "      <td>0.012759</td>\n",
       "      <td>0.003750</td>\n",
       "      <td>0.157566</td>\n",
       "      <td>0.198341</td>\n",
       "    </tr>\n",
       "    <tr>\n",
       "      <th>children</th>\n",
       "      <td>0.042469</td>\n",
       "      <td>0.017163</td>\n",
       "      <td>0.012759</td>\n",
       "      <td>1.000000</td>\n",
       "      <td>0.007673</td>\n",
       "      <td>0.016569</td>\n",
       "      <td>0.067998</td>\n",
       "    </tr>\n",
       "    <tr>\n",
       "      <th>smoker</th>\n",
       "      <td>-0.025019</td>\n",
       "      <td>0.076185</td>\n",
       "      <td>0.003750</td>\n",
       "      <td>0.007673</td>\n",
       "      <td>1.000000</td>\n",
       "      <td>-0.002181</td>\n",
       "      <td>0.787251</td>\n",
       "    </tr>\n",
       "    <tr>\n",
       "      <th>region</th>\n",
       "      <td>0.002127</td>\n",
       "      <td>0.004588</td>\n",
       "      <td>0.157566</td>\n",
       "      <td>0.016569</td>\n",
       "      <td>-0.002181</td>\n",
       "      <td>1.000000</td>\n",
       "      <td>-0.006208</td>\n",
       "    </tr>\n",
       "    <tr>\n",
       "      <th>charges</th>\n",
       "      <td>0.299008</td>\n",
       "      <td>0.057292</td>\n",
       "      <td>0.198341</td>\n",
       "      <td>0.067998</td>\n",
       "      <td>0.787251</td>\n",
       "      <td>-0.006208</td>\n",
       "      <td>1.000000</td>\n",
       "    </tr>\n",
       "  </tbody>\n",
       "</table>\n",
       "</div>"
      ],
      "text/plain": [
       "               age       sex       bmi  children    smoker    region   charges\n",
       "age       1.000000 -0.020856  0.109272  0.042469 -0.025019  0.002127  0.299008\n",
       "sex      -0.020856  1.000000  0.046371  0.017163  0.076185  0.004588  0.057292\n",
       "bmi       0.109272  0.046371  1.000000  0.012759  0.003750  0.157566  0.198341\n",
       "children  0.042469  0.017163  0.012759  1.000000  0.007673  0.016569  0.067998\n",
       "smoker   -0.025019  0.076185  0.003750  0.007673  1.000000 -0.002181  0.787251\n",
       "region    0.002127  0.004588  0.157566  0.016569 -0.002181  1.000000 -0.006208\n",
       "charges   0.299008  0.057292  0.198341  0.067998  0.787251 -0.006208  1.000000"
      ]
     },
     "execution_count": 14,
     "metadata": {},
     "output_type": "execute_result"
    }
   ],
   "source": [
    "df.corr()"
   ]
  },
  {
   "cell_type": "code",
   "execution_count": 15,
   "id": "bb780f79",
   "metadata": {},
   "outputs": [
    {
     "data": {
      "text/plain": [
       "<AxesSubplot:>"
      ]
     },
     "execution_count": 15,
     "metadata": {},
     "output_type": "execute_result"
    },
    {
     "data": {
      "image/png": "[encoded data removed]",
      "text/plain": [
       "<Figure size 1440x720 with 2 Axes>"
      ]
     },
     "metadata": {
      "needs_background": "light"
     },
     "output_type": "display_data"
    }
   ],
   "source": [
    "plt.figure(figsize=(20, 10))\n",
    "sns.heatmap(df.corr(), annot = True)"
   ]
  },
  {
   "cell_type": "code",
   "execution_count": 21,
   "id": "76f807ed",
   "metadata": {},
   "outputs": [
    {
     "data": {
      "text/plain": [
       "<AxesSubplot:xlabel='sex', ylabel='count'>"
      ]
     },
     "execution_count": 21,
     "metadata": {},
     "output_type": "execute_result"
    },
    {
     "data": {
      "image/png": "[encoded data removed]",
      "text/plain": [
       "<Figure size 432x288 with 1 Axes>"
      ]
     },
     "metadata": {
      "needs_background": "light"
     },
     "output_type": "display_data"
    }
   ],
   "source": [
    "# task 2\n",
    "\n",
    "#a\n",
    "\n",
    "sns.countplot(x = df['sex'] , hue  = df['smoker'])"
   ]
  },
  {
   "cell_type": "code",
   "execution_count": 24,
   "id": "28656317",
   "metadata": {},
   "outputs": [
    {
     "data": {
      "text/plain": [
       "<AxesSubplot:xlabel='smoker', ylabel='bmi'>"
      ]
     },
     "execution_count": 24,
     "metadata": {},
     "output_type": "execute_result"
    },
    {
     "data": {
      "image/png": "[encoded data removed]",
      "text/plain": [
       "<Figure size 432x288 with 1 Axes>"
      ]
     },
     "metadata": {
      "needs_background": "light"
     },
     "output_type": "display_data"
    }
   ],
   "source": [
    "# b\n",
    "\n",
    "sns.boxplot(y = df['bmi'] , x  = df['smoker'])"
   ]
  },
  {
   "cell_type": "code",
   "execution_count": 26,
   "id": "edffcceb",
   "metadata": {},
   "outputs": [
    {
     "data": {
      "image/png": "[encoded data removed]",
      "text/plain": [
       "<Figure size 432x288 with 1 Axes>"
      ]
     },
     "metadata": {
      "needs_background": "light"
     },
     "output_type": "display_data"
    }
   ],
   "source": [
    "# c\n",
    "\n",
    "sns.barplot(x = df['region'] , y =  df['charges']);"
   ]
  },
  {
   "cell_type": "code",
   "execution_count": 27,
   "id": "44d609d3",
   "metadata": {},
   "outputs": [
    {
     "data": {
      "image/png": "[encoded data removed]",
      "text/plain": [
       "<Figure size 432x288 with 1 Axes>"
      ]
     },
     "metadata": {
      "needs_background": "light"
     },
     "output_type": "display_data"
    }
   ],
   "source": [
    "# d\n",
    "\n",
    "sns.barplot(x = df['sex'] , y =  df['charges']);"
   ]
  },
  {
   "cell_type": "code",
   "execution_count": 31,
   "id": "98554886",
   "metadata": {},
   "outputs": [
    {
     "data": {
      "text/html": [
       "<div>\n",
       "<style scoped>\n",
       "    .dataframe tbody tr th:only-of-type {\n",
       "        vertical-align: middle;\n",
       "    }\n",
       "\n",
       "    .dataframe tbody tr th {\n",
       "        vertical-align: top;\n",
       "    }\n",
       "\n",
       "    .dataframe thead th {\n",
       "        text-align: right;\n",
       "    }\n",
       "</style>\n",
       "<table border=\"1\" class=\"dataframe\">\n",
       "  <thead>\n",
       "    <tr style=\"text-align: right;\">\n",
       "      <th></th>\n",
       "      <th>PC1</th>\n",
       "      <th>PC2</th>\n",
       "      <th>PC3</th>\n",
       "    </tr>\n",
       "  </thead>\n",
       "  <tbody>\n",
       "    <tr>\n",
       "      <th>0</th>\n",
       "      <td>3614.494223</td>\n",
       "      <td>21.550066</td>\n",
       "      <td>-2.443885</td>\n",
       "    </tr>\n",
       "    <tr>\n",
       "      <th>1</th>\n",
       "      <td>-11544.876260</td>\n",
       "      <td>17.068609</td>\n",
       "      <td>4.783372</td>\n",
       "    </tr>\n",
       "    <tr>\n",
       "      <th>2</th>\n",
       "      <td>-8820.963333</td>\n",
       "      <td>8.044083</td>\n",
       "      <td>3.472477</td>\n",
       "    </tr>\n",
       "    <tr>\n",
       "      <th>3</th>\n",
       "      <td>8714.044814</td>\n",
       "      <td>9.487635</td>\n",
       "      <td>-8.555040</td>\n",
       "    </tr>\n",
       "    <tr>\n",
       "      <th>4</th>\n",
       "      <td>-9403.569139</td>\n",
       "      <td>3.971586</td>\n",
       "      <td>-0.740300</td>\n",
       "    </tr>\n",
       "    <tr>\n",
       "      <th>...</th>\n",
       "      <td>...</td>\n",
       "      <td>...</td>\n",
       "      <td>...</td>\n",
       "    </tr>\n",
       "    <tr>\n",
       "      <th>1333</th>\n",
       "      <td>-2669.870006</td>\n",
       "      <td>-11.734737</td>\n",
       "      <td>0.209698</td>\n",
       "    </tr>\n",
       "    <tr>\n",
       "      <th>1334</th>\n",
       "      <td>-11064.447985</td>\n",
       "      <td>17.293154</td>\n",
       "      <td>2.827524</td>\n",
       "    </tr>\n",
       "    <tr>\n",
       "      <th>1335</th>\n",
       "      <td>-11640.594756</td>\n",
       "      <td>16.944296</td>\n",
       "      <td>7.866128</td>\n",
       "    </tr>\n",
       "    <tr>\n",
       "      <th>1336</th>\n",
       "      <td>-11262.483344</td>\n",
       "      <td>14.405600</td>\n",
       "      <td>-3.265171</td>\n",
       "    </tr>\n",
       "    <tr>\n",
       "      <th>1337</th>\n",
       "      <td>15870.944408</td>\n",
       "      <td>-16.179874</td>\n",
       "      <td>-3.680899</td>\n",
       "    </tr>\n",
       "  </tbody>\n",
       "</table>\n",
       "<p>1338 rows × 3 columns</p>\n",
       "</div>"
      ],
      "text/plain": [
       "               PC1        PC2       PC3\n",
       "0      3614.494223  21.550066 -2.443885\n",
       "1    -11544.876260  17.068609  4.783372\n",
       "2     -8820.963333   8.044083  3.472477\n",
       "3      8714.044814   9.487635 -8.555040\n",
       "4     -9403.569139   3.971586 -0.740300\n",
       "...            ...        ...       ...\n",
       "1333  -2669.870006 -11.734737  0.209698\n",
       "1334 -11064.447985  17.293154  2.827524\n",
       "1335 -11640.594756  16.944296  7.866128\n",
       "1336 -11262.483344  14.405600 -3.265171\n",
       "1337  15870.944408 -16.179874 -3.680899\n",
       "\n",
       "[1338 rows x 3 columns]"
      ]
     },
     "execution_count": 31,
     "metadata": {},
     "output_type": "execute_result"
    }
   ],
   "source": [
    "# task 3\n",
    "\n",
    "pcns=PCA(n_components=3)\n",
    "pcdf=pd.DataFrame(pcns.fit_transform(df),columns=['PC1','PC2','PC3'])\n",
    "pcdf"
   ]
  },
  {
   "cell_type": "code",
   "execution_count": 32,
   "id": "44fb0da4",
   "metadata": {},
   "outputs": [
    {
     "data": {
      "text/plain": [
       "array([9.99998510e-01, 1.22666199e-06, 2.42985014e-07])"
      ]
     },
     "execution_count": 32,
     "metadata": {},
     "output_type": "execute_result"
    }
   ],
   "source": [
    "pcns.explained_variance_ratio_"
   ]
  },
  {
   "cell_type": "code",
   "execution_count": 35,
   "id": "99652ddc",
   "metadata": {},
   "outputs": [
    {
     "data": {
      "application/vnd.jupyter.widget-view+json": {
       "model_id": "1da6b714b34d4641868042610cb75eab",
       "version_major": 2,
       "version_minor": 0
      },
      "text/plain": [
       "interactive(children=(SelectMultiple(description='Features', index=(0, 1, 2, 3, 4, 5), layout=Layout(width='40…"
      ]
     },
     "metadata": {},
     "output_type": "display_data"
    }
   ],
   "source": [
    "# task 4\n",
    "cols =['age', 'sex', 'bmi', 'children', 'smoker', 'region']\n",
    "\n",
    "# kmeans\n",
    "\n",
    "def make_kmeans(attributes=cols,scaler=MinMaxScaler(),dimension_reduction='pca',components=2,k=3,               show='features'):\n",
    "    attributes=list(attributes)\n",
    "    scaled_values=scaler.fit_transform(df[attributes])\n",
    "    X=df.values\n",
    "    \n",
    "    components = min(components, len(attributes))\n",
    "    if dimension_reduction == 'pca':\n",
    "        values = PCA().fit_transform(scaled_values)[:, :components]\n",
    "    else:\n",
    "        values=scaled_values\n",
    "    \n",
    "    cluster=KMeans(n_clusters=k).fit_predict(values)\n",
    "    \n",
    "    if show =='features':\n",
    "        df_plot = pd.DataFrame(X.astype(float), columns=df.columns)\n",
    "    elif show =='values':\n",
    "        df_plot=pd.DataFrame(values)\n",
    "    \n",
    "    df_plot['cluster'] = cluster\n",
    "        \n",
    "    sns.pairplot(df_plot, hue=\"cluster\", diag_kind = 'hist', diag_kws={'alpha':0.5}                 , vars=[c for c in df_plot.columns if c != 'cluster'])\n",
    "    \n",
    "\n",
    "style = {'description_width': '150px'}\n",
    "layout = widgets.Layout(width='400px')\n",
    "i = interact(make_kmeans, attributes=widgets.SelectMultiple(options=cols, value=cols, rows=len(cols),description='Features', layout=layout, style=style,disabled=False,continuous_update=False,orientation='horizontal',readout=True), scaler=widgets.RadioButtons(options=[ ('Z-Transform', StandardScaler()), ('Min-Max', MinMaxScaler()),('None', FunctionTransformer(validate=False))],description='Scaler', layout=layout, style=style,disabled=False,continuous_update=False,orientation='horizontal',readout=True), dimension_reduction=widgets.RadioButtons(options=[('PCA', 'pca'),('without', None)],description='Dimensionality Reduction', layout=layout, style=style,disabled=False,continuous_update=False,orientation='horizontal',readout=True), components=widgets.SelectionSlider(options=range(1, 5), value=4,description='PCA components', layout=layout, style=style,disabled=False,continuous_update=False,orientation='horizontal',readout=True), k=widgets.SelectionSlider(options=range(2, 8),description='k', layout=layout, style=style,disabled=False,continuous_update=False,orientation='horizontal',readout=True), show=widgets.RadioButtons(options=[('Features', 'features'), ('Values', 'values')],description='Show',layout=layout,style=style,disabled=False,continuous_update=False,orientation='horizontal',readout=True) )  "
   ]
  },
  {
   "cell_type": "code",
   "execution_count": 36,
   "id": "eea98b63",
   "metadata": {},
   "outputs": [
    {
     "data": {
      "application/vnd.jupyter.widget-view+json": {
       "model_id": "267ba6d2e8284f9691d5a28f5334751b",
       "version_major": 2,
       "version_minor": 0
      },
      "text/plain": [
       "interactive(children=(SelectMultiple(description='Features', index=(0, 1, 2, 3, 4, 5), layout=Layout(width='40…"
      ]
     },
     "metadata": {},
     "output_type": "display_data"
    }
   ],
   "source": [
    "# agglomerative\n",
    "\n",
    "\n",
    "\n",
    "def make_Agglomerative(attributes=cols,scaler=MinMaxScaler(),dimension_reduction='pca',components=2,k=3,linkage='ward',show='features'):\n",
    "    \n",
    "    attributes=list(attributes)\n",
    "    scaled_values=scaler.fit_transform(df[attributes])\n",
    "    X=df.values\n",
    "    \n",
    "    components = min(components, len(attributes))\n",
    "    if dimension_reduction == 'pca':\n",
    "        values = PCA().fit_transform(scaled_values)[:, :components]\n",
    "    else:\n",
    "        values=scaled_values\n",
    "    \n",
    "    cluster=AgglomerativeClustering(n_clusters=k,linkage=linkage).fit_predict(values)\n",
    "    \n",
    "    if show =='features':\n",
    "        df_plot = pd.DataFrame(X.astype(float), columns=df.columns)\n",
    "    elif show =='values':\n",
    "        df_plot=pd.DataFrame(values)\n",
    "    \n",
    "    df_plot['cluster'] = cluster\n",
    "        \n",
    "    sns.pairplot(df_plot, hue=\"cluster\", diag_kind = 'hist', diag_kws={'alpha':0.5}                 , vars=[c for c in df_plot.columns if c != 'cluster'])\n",
    "    \n",
    "\n",
    "style = {'description_width': '150px'}\n",
    "layout = widgets.Layout(width='400px')\n",
    "i = interact(make_Agglomerative, attributes=widgets.SelectMultiple(options=cols, value=cols, rows=len(cols),description='Features', layout=layout, style=style,disabled=False,continuous_update=False,orientation='horizontal',readout=True), scaler=widgets.RadioButtons(options=[ ('Z-Transform', StandardScaler()), ('Min-Max', MinMaxScaler()),('None', FunctionTransformer(validate=False))],description='Scaler', layout=layout, style=style,disabled=False,continuous_update=False,orientation='horizontal',readout=True), dimension_reduction=widgets.RadioButtons(options=[('PCA', 'pca'),('without', None)],description='Dimensionality Reduction', layout=layout, style=style,disabled=False,continuous_update=False,orientation='horizontal',readout=True),linkage=widgets.RadioButtons(options=[('SINGLE', 'single'), ('COMPLETE', 'complete'),('AVERAGE', 'average'),('WARD', 'ward')],description='Linkage', layout=layout, style=style,disabled=False,continuous_update=False,orientation='horizontal',readout=True), components=widgets.SelectionSlider(options=range(1, 5), value=4,description='PCA components', layout=layout, style=style,disabled=False,continuous_update=False,orientation='horizontal',readout=True), k=widgets.SelectionSlider(options=range(2, 8),description='k', layout=layout, style=style,disabled=False,continuous_update=False,orientation='horizontal',readout=True), show=widgets.RadioButtons(options=[('Features', 'features'), ('Values', 'values')],description='Show',layout=layout,style=style,disabled=False,continuous_update=False,orientation='horizontal',readout=True) )    "
   ]
  },
  {
   "cell_type": "code",
   "execution_count": 37,
   "id": "a574004e",
   "metadata": {},
   "outputs": [
    {
     "data": {
      "application/vnd.jupyter.widget-view+json": {
       "model_id": "10acf6b2e8e647ae96060a2c8234931a",
       "version_major": 2,
       "version_minor": 0
      },
      "text/plain": [
       "interactive(children=(SelectMultiple(description='Features', index=(0, 1, 2, 3, 4, 5), layout=Layout(width='40…"
      ]
     },
     "metadata": {},
     "output_type": "display_data"
    }
   ],
   "source": [
    "# dbscan\n",
    "\n",
    "def make_dbscan(attributes=cols, scaler=MinMaxScaler(), dimension_reduction=None, components=2, eps=.5,min_samples=5, show='features'):\n",
    "    \n",
    "    attributes=list(attributes)\n",
    "    scaled_values=scaler.fit_transform(df[attributes])\n",
    "    X=df.values\n",
    "    \n",
    "    components = min(components, len(attributes))\n",
    "    if dimension_reduction == 'pca':\n",
    "        values = PCA().fit_transform(scaled_values)[:, :components]\n",
    "    else:\n",
    "        values = scaled_values\n",
    " \n",
    "    cluster = DBSCAN(eps=eps, min_samples=min_samples).fit_predict(values)\n",
    "    print('Found', 1+np.max(cluster), 'clusters with', np.sum(cluster == -1), 'outliers')\n",
    " \n",
    "    if show == 'features':\n",
    "        df_plot = pd.DataFrame(X.astype(float), columns=df.columns)\n",
    "    elif show == 'values':\n",
    "        df_plot = pd.DataFrame(values)\n",
    " \n",
    "    df_plot['cluster'] = cluster\n",
    " \n",
    "    sns.pairplot(df_plot, hue=\"cluster\", diag_kind = 'hist', diag_kws={'alpha':0.5}, vars=[c for c in df_plot.columns if c != 'cluster'])\n",
    "\n",
    "style = {'description_width': '150px'}\n",
    "layout = widgets.Layout(width='400px')\n",
    "\n",
    "i = interact(make_dbscan, attributes=widgets.SelectMultiple(options=cols, value=cols, rows=len(cols),description='Features', layout=layout, style=style,disabled=False,continuous_update=False,orientation='horizontal',readout=True), scaler=widgets.RadioButtons(options=[('Z-Transform', StandardScaler()), ('Min-Max', MinMaxScaler()),('None', FunctionTransformer(validate=False))],description='Scaler', layout=layout, style=style,disabled=False,continuous_update=False,orientation='horizontal',readout=True), dimension_reduction=widgets.RadioButtons(options=[('PCA', 'pca'), ('without', None)],description='Dimensionality Reduction', layout=layout, style=style,disabled=False,continuous_update=False,orientation='horizontal',readout=True)  , components=widgets.SelectionSlider(options=range(1, 5), value=4,description='Number components', layout=layout,style=style,disabled=False,continuous_update=False,orientation='horizontal',readout=True)  , eps=widgets.SelectionSlider(options=[.1, .25, .5, .6, .7, .8, .9, 1., 1.25, 1.5, 2.], value = .5,description='Epsilon', layout=layout, style=style,disabled=False,continuous_update=False,orientation='horizontal',readout=True)  , min_samples=widgets.SelectionSlider(options=range(1, 20), value=5,description='Min. samples', layout=layout, style=style,disabled=False,continuous_update=False,orientation='horizontal',readout=True)  , show=widgets.RadioButtons(options=[('Features', 'features'), ('Values', 'values')],description='Show', layout=layout, style=style,disabled=False,continuous_update=False,orientation='horizontal',readout=True))"
   ]
  },
  {
   "cell_type": "code",
   "execution_count": null,
   "id": "79cc6eef",
   "metadata": {},
   "outputs": [],
   "source": []
  }
 ],
 "metadata": {
  "kernelspec": {
   "display_name": "Python 3 (ipykernel)",
   "language": "python",
   "name": "python3"
  },
  "language_info": {
   "codemirror_mode": {
    "name": "ipython",
    "version": 3
   },
   "file_extension": ".py",
   "mimetype": "text/x-python",
   "name": "python",
   "nbconvert_exporter": "python",
   "pygments_lexer": "ipython3",
   "version": "3.9.12"
  }
 },
 "nbformat": 4,
 "nbformat_minor": 5
}
