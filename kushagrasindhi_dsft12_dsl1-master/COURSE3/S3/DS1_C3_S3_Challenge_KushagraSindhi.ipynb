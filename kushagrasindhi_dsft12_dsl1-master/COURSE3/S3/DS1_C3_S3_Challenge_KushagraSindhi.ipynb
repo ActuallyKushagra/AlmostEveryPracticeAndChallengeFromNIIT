{
 "cells": [
  {
   "cell_type": "code",
   "execution_count": 6,
   "id": "e579f754",
   "metadata": {},
   "outputs": [
    {
     "name": "stdout",
     "output_type": "stream",
     "text": [
      "Enter one word = 1\n",
      "Enter one word = 2\n",
      "Enter one word = 3\n",
      "Enter one word = 4\n",
      "Enter one word = 5\n",
      "Enter one word = 6\n",
      "Enter one word = 7\n",
      "Enter one word = 8\n",
      "Enter one word = 9\n",
      "Enter one word = 10\n",
      "['1', '2', '3', '4', '5', '6', '7', '8', '9', '10']\n",
      "['10', '9', '8', '7', '6', '5', '4', '3', '2', '1']\n"
     ]
    }
   ],
   "source": [
    "# task 1 take input of 10 elements and reverse it\n",
    "list = []\n",
    "list2 = []\n",
    "for i in range(10):\n",
    "    list.append(input(\"Enter one word = \"))\n",
    "list2 = list[::-1]\n",
    "print(list)\n",
    "print(list2)"
   ]
  },
  {
   "cell_type": "code",
   "execution_count": 4,
   "id": "6ce12e73",
   "metadata": {},
   "outputs": [
    {
     "name": "stdout",
     "output_type": "stream",
     "text": [
      "Enter one word 1\n",
      "Enter one word 2\n",
      "Enter one word 3\n",
      "Enter one word 4\n",
      "Enter one word 5\n",
      "Enter one word 6\n",
      "Enter one word 7\n",
      "Enter one word 8\n",
      "Enter one word 9\n",
      "Enter one word 10\n",
      "['1', '2', '3', '4', '5', '6', '7', '8', '9', '10'] before reverse\n",
      "['10', '9', '8', '7', '6', '5', '4', '3', '2', '1'] After reverse\n"
     ]
    }
   ],
   "source": [
    "# task 2 Reverse a list using list method (reverse())\n",
    "l1 = []\n",
    "for i in range(10):\n",
    "    l1.append(input(\"Enter one word \"))\n",
    "print(l1, \"before reverse\")\n",
    "l1.reverse()\n",
    "print(l1, \"After reverse\")"
   ]
  },
  {
   "cell_type": "code",
   "execution_count": 10,
   "id": "9bde115a",
   "metadata": {},
   "outputs": [
    {
     "name": "stdout",
     "output_type": "stream",
     "text": [
      "enter element = One\n",
      "Updated list looks like =  ['One']\n",
      "enter element = Two\n",
      "Updated list looks like =  ['One', 'Two']\n",
      "enter element = Two\n",
      "Updated list looks like =  ['One', 'Two', 'Two']\n",
      "enter element = Three\n",
      "Updated list looks like =  ['One', 'Two', 'Two', 'Three']\n",
      "enter element = Four\n",
      "Updated list looks like =  ['One', 'Two', 'Two', 'Three', 'Four']\n",
      "enter element = Four\n",
      "Updated list looks like =  ['One', 'Two', 'Two', 'Three', 'Four', 'Four']\n",
      "enter element = Five\n",
      "Updated list looks like =  ['One', 'Two', 'Two', 'Three', 'Four', 'Four', 'Five']\n",
      "enter element = Six\n",
      "Updated list looks like =  ['One', 'Two', 'Two', 'Three', 'Four', 'Four', 'Five', 'Six']\n",
      "enter element = Seven\n",
      "Updated list looks like =  ['One', 'Two', 'Two', 'Three', 'Four', 'Four', 'Five', 'Six', 'Seven']\n",
      "enter element = Seven\n",
      "Updated list looks like =  ['One', 'Two', 'Two', 'Three', 'Four', 'Four', 'Five', 'Six', 'Seven', 'Seven']\n"
     ]
    }
   ],
   "source": [
    "# task 3 add elements in list one by one (must contain duplicate values)\n",
    "alist = []\n",
    "for i in range(10):\n",
    "    alist.append(input(\"enter element = \"))\n",
    "    print(\"Updated list looks like = \", alist)"
   ]
  },
  {
   "cell_type": "code",
   "execution_count": 11,
   "id": "5f7edce6",
   "metadata": {},
   "outputs": [
    {
     "name": "stdout",
     "output_type": "stream",
     "text": [
      "['One', 'Three', 'Five', 'Six']\n"
     ]
    }
   ],
   "source": [
    "# task 4 print unique or non repeating values from list created in task 3, count() used\n",
    "blist = []\n",
    "for i in range(len(alist)):\n",
    "    if(alist.count(alist[i]) == 1):\n",
    "        blist.append(alist[i])\n",
    "print(blist)"
   ]
  },
  {
   "cell_type": "code",
   "execution_count": 12,
   "id": "22dcb7c9",
   "metadata": {},
   "outputs": [
    {
     "name": "stdout",
     "output_type": "stream",
     "text": [
      "['One', 'Three', 'Five', 'Six']\n",
      "['Five', 'One', 'Six', 'Three']\n"
     ]
    }
   ],
   "source": [
    "# task 5 sort the list using sort()\n",
    "print(blist)\n",
    "blist.sort()\n",
    "print(blist)"
   ]
  },
  {
   "cell_type": "code",
   "execution_count": 13,
   "id": "6c704a58",
   "metadata": {},
   "outputs": [
    {
     "name": "stdout",
     "output_type": "stream",
     "text": [
      "['Five', 'One', 'Six', 'Three'] before popping\n",
      "['Five', 'One', 'Six'] after popping\n",
      "_________________________________________________\n",
      "['Five', 'One', 'Six'] before popping\n",
      "['Five', 'One'] after popping\n",
      "_________________________________________________\n",
      "['Five', 'One'] before popping\n",
      "['Five'] after popping\n",
      "_________________________________________________\n",
      "['Five'] before popping\n",
      "[] after popping\n",
      "_________________________________________________\n"
     ]
    }
   ],
   "source": [
    "# task 6 remove all elements one by one - pop()\n",
    "for i in range(len(blist)):\n",
    "    print(blist, \"before popping\")\n",
    "    blist.pop()\n",
    "    print(blist, \"after popping\")\n",
    "    print(\"_________________________________________________\")\n",
    "    if(len(blist) == 0):\n",
    "        break"
   ]
  },
  {
   "cell_type": "code",
   "execution_count": 14,
   "id": "4dfcc515",
   "metadata": {},
   "outputs": [
    {
     "name": "stdout",
     "output_type": "stream",
     "text": [
      "1505\n",
      "1540\n",
      "1575\n",
      "1610\n",
      "1645\n",
      "1680\n",
      "1715\n",
      "1750\n",
      "1785\n",
      "1820\n",
      "1855\n",
      "1890\n",
      "1925\n",
      "1960\n",
      "1995\n",
      "2030\n",
      "2065\n",
      "2100\n",
      "2135\n",
      "2170\n",
      "2205\n",
      "2240\n",
      "2275\n",
      "2310\n",
      "2345\n",
      "2380\n",
      "2415\n",
      "2450\n",
      "2485\n",
      "2520\n",
      "2555\n",
      "2590\n",
      "2625\n",
      "2660\n",
      "2695\n"
     ]
    }
   ],
   "source": [
    "# task 7 numbers divivsible by 7 and 5 in range 1500 and 2700\n",
    "for i in range(1500, 2701):\n",
    "    if(i % 7 == 0 and i % 5 == 0):\n",
    "        print(i)"
   ]
  },
  {
   "cell_type": "code",
   "execution_count": 15,
   "id": "5b858f19",
   "metadata": {},
   "outputs": [
    {
     "name": "stdout",
     "output_type": "stream",
     "text": [
      "Enter value of n 5\n",
      "List of numbers not divisible are [1, 2, 3, 4, 6, 7, 8, 9, 11, 12, 13, 14, 16, 17, 18, 19, 21, 22, 23, 24, 26, 27, 28, 29]\n"
     ]
    }
   ],
   "source": [
    "# task 8 print first 30 natural numbers but skip the ones divisible by number provided as input\n",
    "lis = []\n",
    "n = int(input(\"Enter value of n \"))\n",
    "for i in range(30):\n",
    "    if(i % n == 0):\n",
    "        continue\n",
    "    else:\n",
    "        lis.append(i)\n",
    "print(\"List of numbers not divisible are\", lis)"
   ]
  },
  {
   "cell_type": "code",
   "execution_count": 30,
   "id": "975d6b5f",
   "metadata": {},
   "outputs": [
    {
     "name": "stdout",
     "output_type": "stream",
     "text": [
      "third list is =  [[20, 20, 20], [20, 20, 20], [20, 20, 20]]\n"
     ]
    }
   ],
   "source": [
    "# task 9 sum of two matrices. put result in another list\n",
    "firstlist = [[ 1, 2, 3], [ 4, 5, 6], [ 7, 8, 9]]\n",
    "secondlist=[[ 19, 18, 17] ,[ 16, 15, 14], [ 13, 12, 11]]\n",
    "thirdlist = [[0,0,0],[0,0,0],[0,0,0]]\n",
    "for i in range(3):\n",
    "    for j in range(3): \n",
    "        thirdlist[i][j]= firstlist[i][j] + secondlist[i][j]\n",
    "print(\"third list is = \", thirdlist)"
   ]
  },
  {
   "cell_type": "code",
   "execution_count": 32,
   "id": "92359364",
   "metadata": {},
   "outputs": [
    {
     "name": "stdout",
     "output_type": "stream",
     "text": [
      "enter number = 1\n",
      "enter number = 2\n",
      "enter number = 3\n",
      "enter number = 4\n",
      "enter number = 5\n",
      "enter number = 6\n",
      "enter number = 7\n",
      "enter number = 8\n",
      "enter number = 9\n",
      "firstlist =  [[1, 2, 3], [4, 5, 6], [7, 8, 9]]\n",
      "enter number = 19\n",
      "enter number = 18\n",
      "enter number = 17\n",
      "enter number = 16\n",
      "enter number = 15\n",
      "enter number = 14\n",
      "enter number = 13\n",
      "enter number = 12\n",
      "enter number = 11\n",
      "secondlist =  [[19, 18, 17], [16, 15, 14], [13, 12, 11]]\n"
     ]
    }
   ],
   "source": [
    "# task 10, create nested lists by taking 18 inputs, 9 values each list.\n",
    "\n",
    "firstlist = []       \n",
    "for i in range(3):   \n",
    "    a = []\n",
    "    for j in range(3):  \n",
    "        n=int(input(\"enter number = \"))\n",
    "        a.append(n)\n",
    "    firstlist.append(a) \n",
    "print(\"firstlist = \", firstlist)   \n",
    "secondlist = []\n",
    "for i in range(3):\n",
    "    b = []\n",
    "    for j in range(3):\n",
    "        n1 = int(input(\"enter number = \"))\n",
    "        b.append(n1)\n",
    "    secondlist.append(b) \n",
    "print(\"secondlist = \", secondlist)"
   ]
  }
 ],
 "metadata": {
  "kernelspec": {
   "display_name": "Python 3 (ipykernel)",
   "language": "python",
   "name": "python3"
  },
  "language_info": {
   "codemirror_mode": {
    "name": "ipython",
    "version": 3
   },
   "file_extension": ".py",
   "mimetype": "text/x-python",
   "name": "python",
   "nbconvert_exporter": "python",
   "pygments_lexer": "ipython3",
   "version": "3.9.12"
  }
 },
 "nbformat": 4,
 "nbformat_minor": 5
}
