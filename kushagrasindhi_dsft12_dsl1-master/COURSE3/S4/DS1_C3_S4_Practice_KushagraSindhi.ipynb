{
 "cells": [
  {
   "cell_type": "code",
   "execution_count": 10,
   "id": "7d00c540",
   "metadata": {},
   "outputs": [
    {
     "name": "stdout",
     "output_type": "stream",
     "text": [
      "Enter number5\n",
      "120 is the factorial of  5\n"
     ]
    }
   ],
   "source": [
    "# task 1, print factorial of input \n",
    "i = 1\n",
    "num = int(input(\"Enter number\"))\n",
    "tempnum = num\n",
    "while num >= 1:\n",
    "    i *= num\n",
    "    num -= 1\n",
    "print(i, 'is the factorial of ', tempnum)"
   ]
  },
  {
   "cell_type": "code",
   "execution_count": 12,
   "id": "db1c034c",
   "metadata": {},
   "outputs": [
    {
     "name": "stdout",
     "output_type": "stream",
     "text": [
      "2\n",
      "3\n",
      "5\n",
      "7\n",
      "11\n",
      "13\n",
      "17\n",
      "19\n"
     ]
    }
   ],
   "source": [
    "# task 2 prime numbers until 20\n",
    "count = 0\n",
    "i = 1\n",
    "while i <= 20:\n",
    "    j = 1\n",
    "    while j < i:       \n",
    "        if(i % j == 0):\n",
    "            count += 1\n",
    "        j += 1\n",
    "    if(count == 1):\n",
    "        print(i)\n",
    "    count=0    \n",
    "    i += 1"
   ]
  },
  {
   "cell_type": "code",
   "execution_count": 15,
   "id": "6eb3a92c",
   "metadata": {},
   "outputs": [
    {
     "name": "stdout",
     "output_type": "stream",
     "text": [
      "Enter num = 12345\n",
      "15\n"
     ]
    }
   ],
   "source": [
    "# task 3 sum of all digits \n",
    "t3sum = 0\n",
    "t3i = 0\n",
    "t3var = input(\"Enter num = \")\n",
    "while t3i < len(t3var):\n",
    "    t3sum += int(t3var[t3i])\n",
    "    t3i += 1\n",
    "print(t3sum)"
   ]
  },
  {
   "cell_type": "code",
   "execution_count": 1,
   "id": "38083d21",
   "metadata": {},
   "outputs": [
    {
     "name": "stdout",
     "output_type": "stream",
     "text": [
      "50\n",
      "1\n",
      "2\n",
      "3\n",
      "5\n",
      "8\n",
      "13\n",
      "21\n"
     ]
    }
   ],
   "source": [
    "# task 4 fibonacci series until 21\n",
    "num = int(input(\"Enter number\"))\n",
    "j = 1\n",
    "k = 2\n",
    "l = 0\n",
    "while(l <= num):\n",
    "    print(j)\n",
    "    l = j + k\n",
    "    j = k\n",
    "    k = l"
   ]
  },
  {
   "cell_type": "code",
   "execution_count": 16,
   "id": "72f27301",
   "metadata": {},
   "outputs": [
    {
     "name": "stdout",
     "output_type": "stream",
     "text": [
      "1897417162816\n",
      "1897417162816\n",
      "1897417162816\n"
     ]
    }
   ],
   "source": [
    "# task 5 adding two objects and displaying their memory address\n",
    "t1 = ()\n",
    "t2 = ()\n",
    "print(id(t1))\n",
    "print(id(t2))\n",
    "t1 = t1 + t2\n",
    "print(id(t1))\n",
    "\n",
    "# ID of t1 and t2 is same because both of them have the same value, ie. blank/ empty. After adding t2 to t1 the value remains same \n",
    "# because even after adding, the value remains the same, ie. blank/ empty."
   ]
  },
  {
   "cell_type": "code",
   "execution_count": 7,
   "id": "a5860a2c",
   "metadata": {},
   "outputs": [
    {
     "name": "stdout",
     "output_type": "stream",
     "text": [
      "{70, 40, 10, 50, 20, 60, 30}\n"
     ]
    }
   ],
   "source": [
    "# task 6 adding values of set n in set m\n",
    "m = {10, 20, 30, 40, 50}\n",
    "n = {30, 40, 50, 60, 70}\n",
    "m.update(n)\n",
    "print(m)\n",
    "# common elements got automatically omitted/ removed since a set in python cannot hold duplicate values"
   ]
  },
  {
   "cell_type": "code",
   "execution_count": 10,
   "id": "f8bbefd4",
   "metadata": {},
   "outputs": [
    {
     "name": "stdout",
     "output_type": "stream",
     "text": [
      "2\n",
      "4\n"
     ]
    }
   ],
   "source": [
    "# task 7 print even values from list\n",
    "i = 0\n",
    "port1 = {'FTP': 1, 'SSH': 2, 'telnet': 3, 'http': 4}\n",
    "for i in port1.values():\n",
    "    if(i % 2 == 0):\n",
    "            print(i)"
   ]
  },
  {
   "cell_type": "code",
   "execution_count": 11,
   "id": "2be2d5ea",
   "metadata": {},
   "outputs": [
    {
     "name": "stdout",
     "output_type": "stream",
     "text": [
      "before update {1: 1, 2: 4, 3: 9, 4: 16, 5: 25, 6: 36, 7: 49, 8: 64, 9: 81, 10: 100, 11: 121, 12: 144, 13: 169, 14: 196, 15: 225}\n",
      "after update {1: 1, 2: 4, 3: 9, 4: 16, 5: 25, 6: 36, 7: 49, 8: 64, 9: 81, 10: 100, 11: 121, 12: 144, 13: 169, 14: 196, 15: 225, 100: 100000}\n"
     ]
    }
   ],
   "source": [
    "# task 8 dictionary with keys and values as numbers and square between 1 and 15 + add 100:100000 element at the bottom \n",
    "t9dict = {}\n",
    "i = 1\n",
    "while i <= 15:\n",
    "    t9dict[i] = i ** 2\n",
    "    i += 1\n",
    "print('before update', t9dict)\n",
    "t9dict[100] = 100000\n",
    "print('after update', t9dict)"
   ]
  },
  {
   "cell_type": "code",
   "execution_count": 12,
   "id": "18359075",
   "metadata": {},
   "outputs": [
    {
     "name": "stdout",
     "output_type": "stream",
     "text": [
      "before reverse {21: 'FTP', 22: 'SSH', 23: 'telnet', 80: 'http'}\n",
      "after reverse {'FTP': 21, 'SSH': 22, 'telnet': 23, 'http': 80}\n"
     ]
    }
   ],
   "source": [
    "# task 9 \n",
    "port1 = {21: 'FTP', 22: 'SSH', 23: 'telnet', 80: 'http'}\n",
    "port2 = dict([value, key] for key, value in port1.items())\n",
    "print('before reverse', port1)\n",
    "print('after reverse', port2)"
   ]
  },
  {
   "cell_type": "code",
   "execution_count": 21,
   "id": "ba20d0bb",
   "metadata": {},
   "outputs": [
    {
     "name": "stdout",
     "output_type": "stream",
     "text": [
      "before deletion =  {'Emp1': {'name': 'Sara', 'Dept': 'IT', 'Designation': 'Team Lead'}, 'Emp2': {'name': 'Anna', 'Dept': 'IT', 'Designation': 'Senior Software Engineer'}, 'Emp3': {'name': 'Andy', 'Dept': 'BioTech', 'Designation': 'Senior Software Engineer'}, 'Emp4': {'name': 'Andy', 'Dept': 'BioTech', 'Designation': 'Senior Software Engineer'}}\n",
      "____________________________________________________________________________________________\n",
      "after deletion =  {'Emp1': {'name': 'Sara', 'Dept': 'IT', 'Designation': 'Team Lead'}, 'Emp2': {'name': 'Anna', 'Dept': 'IT', 'Designation': 'Senior Software Engineer'}, 'Emp3': {'name': 'Andy', 'Dept': 'BioTech', 'Designation': 'Senior Software Engineer'}}\n"
     ]
    }
   ],
   "source": [
    "# task 10, remove duplicate item from dictionary\n",
    "\n",
    "Employee = {'Emp1': {'name': 'Sara', 'Dept': 'IT', 'Designation': 'Team Lead' },\n",
    "            'Emp2': {'name': 'Anna', 'Dept': 'IT', 'Designation': 'Senior Software Engineer' }, \n",
    "            'Emp3': {'name': 'Andy', 'Dept': 'BioTech', 'Designation': 'Senior Software Engineer' }, \n",
    "            'Emp4': {'name': 'Andy', 'Dept': 'BioTech', 'Designation': 'Senior Software Engineer' } }\n",
    "    \n",
    "print('before deletion = ', Employee)\n",
    "print('____________________________________________________________________________________________')\n",
    "Employee.pop('Emp4')\n",
    "print('after deletion = ', Employee)"
   ]
  }
 ],
 "metadata": {
  "kernelspec": {
   "display_name": "Python 3 (ipykernel)",
   "language": "python",
   "name": "python3"
  },
  "language_info": {
   "codemirror_mode": {
    "name": "ipython",
    "version": 3
   },
   "file_extension": ".py",
   "mimetype": "text/x-python",
   "name": "python",
   "nbconvert_exporter": "python",
   "pygments_lexer": "ipython3",
   "version": "3.9.12"
  }
 },
 "nbformat": 4,
 "nbformat_minor": 5
}
