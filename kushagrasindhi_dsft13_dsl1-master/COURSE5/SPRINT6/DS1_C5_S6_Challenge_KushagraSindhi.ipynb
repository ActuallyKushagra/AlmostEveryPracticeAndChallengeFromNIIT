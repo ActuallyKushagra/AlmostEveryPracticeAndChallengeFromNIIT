{
 "cells": [
  {
   "cell_type": "code",
   "execution_count": 3,
   "id": "4fc96f8a",
   "metadata": {},
   "outputs": [],
   "source": [
    "import pandas as pd\n",
    "import statistics as st\n",
    "import scipy.stats as sts"
   ]
  },
  {
   "cell_type": "code",
   "execution_count": 4,
   "id": "882327d3",
   "metadata": {},
   "outputs": [
    {
     "name": "stdout",
     "output_type": "stream",
     "text": [
      "Sample mean = 4.09375 and sample standard deviaion = 0.640532792341279 and \n",
      " sample variance = 0.800332925938499 and sample size = 32\n"
     ]
    }
   ],
   "source": [
    "# task 1\n",
    "\n",
    "t1mean = 4.30\n",
    "t1std = 0.574\n",
    "\n",
    "alpha = 0.1\n",
    "\n",
    "sampdat = [3, 4, 5, 5, 4, 5, 5, 4, 4, 4, 4, 4, 4, 4, 4, 5, 4, 4, 4, 3, 3, 3, 4, 3, 5, 4, 4, 5, 4, 4, 4, 5]\n",
    "sampmean = st.mean(sampdat)\n",
    "sampstd = st.stdev(sampdat)\n",
    "sampvar2 = sampstd**(0.5)\n",
    "sampsize = len(sampdat)\n",
    "print(f'Sample mean = {sampmean} and sample standard deviaion = {sampstd} and \\n sample variance = {sampvar2} and sample size = {sampsize}')"
   ]
  },
  {
   "cell_type": "markdown",
   "id": "0b447a32",
   "metadata": {},
   "source": [
    "##### a)\n",
    "\n",
    "Ho: mean > 4.3\n",
    "\n",
    "Ha: mean < 4.3\n",
    "\n",
    "Since a lesser value is in the test, we will use left tailed test"
   ]
  },
  {
   "cell_type": "code",
   "execution_count": 5,
   "id": "2b026ba9",
   "metadata": {},
   "outputs": [
    {
     "name": "stdout",
     "output_type": "stream",
     "text": [
      "The zcritical value is 1.2815515655446004\n"
     ]
    }
   ],
   "source": [
    "# b)\n",
    "\n",
    "\n",
    "crval = sts.norm.ppf(1 - alpha)\n",
    "print(f'The zcritical value is {crval}')"
   ]
  },
  {
   "cell_type": "code",
   "execution_count": 6,
   "id": "aee99ef5",
   "metadata": {},
   "outputs": [
    {
     "name": "stdout",
     "output_type": "stream",
     "text": [
      "The value of z-statistics is -2.032624022574569\n",
      "The value of p-value is 0.021045261297323523\n"
     ]
    }
   ],
   "source": [
    "# c) and d)\n",
    "\n",
    "zstat = (sampmean - t1mean) / (t1std / st.sqrt(sampsize))\n",
    "print('The value of z-statistics is',zstat)\n",
    "\n",
    "pval = sts.norm.sf(abs(zstat))\n",
    "print(f'The value of p-value is {pval}')"
   ]
  },
  {
   "cell_type": "markdown",
   "id": "65cfd857",
   "metadata": {},
   "source": [
    "##### e)\n",
    "\n",
    "As per, decision rule:\n",
    "\n",
    "i. If p-value < alpha : Rejection of Null Hypothesis(H0)\n",
    "\n",
    "ii. If -z-critical > z-statistics > +z-critical : Rejection of Null Hypothesis(H0)\n",
    "\n",
    "In our analysis, p_value < alpha and -z-critical < z-statistics < +z-critical, hence, The alternate hypothesis is accepted"
   ]
  },
  {
   "cell_type": "code",
   "execution_count": 7,
   "id": "fad5bb5f",
   "metadata": {},
   "outputs": [
    {
     "data": {
      "text/html": [
       "<div>\n",
       "<style scoped>\n",
       "    .dataframe tbody tr th:only-of-type {\n",
       "        vertical-align: middle;\n",
       "    }\n",
       "\n",
       "    .dataframe tbody tr th {\n",
       "        vertical-align: top;\n",
       "    }\n",
       "\n",
       "    .dataframe thead th {\n",
       "        text-align: right;\n",
       "    }\n",
       "</style>\n",
       "<table border=\"1\" class=\"dataframe\">\n",
       "  <thead>\n",
       "    <tr style=\"text-align: right;\">\n",
       "      <th></th>\n",
       "      <th>California</th>\n",
       "      <th>Florida</th>\n",
       "    </tr>\n",
       "  </thead>\n",
       "  <tbody>\n",
       "    <tr>\n",
       "      <th>0</th>\n",
       "      <td>2.55</td>\n",
       "      <td>2.25</td>\n",
       "    </tr>\n",
       "    <tr>\n",
       "      <th>1</th>\n",
       "      <td>2.36</td>\n",
       "      <td>2.40</td>\n",
       "    </tr>\n",
       "    <tr>\n",
       "      <th>2</th>\n",
       "      <td>2.38</td>\n",
       "      <td>2.19</td>\n",
       "    </tr>\n",
       "    <tr>\n",
       "      <th>3</th>\n",
       "      <td>2.43</td>\n",
       "      <td>2.39</td>\n",
       "    </tr>\n",
       "    <tr>\n",
       "      <th>4</th>\n",
       "      <td>2.73</td>\n",
       "      <td>2.39</td>\n",
       "    </tr>\n",
       "    <tr>\n",
       "      <th>5</th>\n",
       "      <td>2.67</td>\n",
       "      <td>2.50</td>\n",
       "    </tr>\n",
       "    <tr>\n",
       "      <th>6</th>\n",
       "      <td>2.54</td>\n",
       "      <td>2.33</td>\n",
       "    </tr>\n",
       "    <tr>\n",
       "      <th>7</th>\n",
       "      <td>2.24</td>\n",
       "      <td>2.33</td>\n",
       "    </tr>\n",
       "    <tr>\n",
       "      <th>8</th>\n",
       "      <td>2.43</td>\n",
       "      <td>2.40</td>\n",
       "    </tr>\n",
       "    <tr>\n",
       "      <th>9</th>\n",
       "      <td>2.80</td>\n",
       "      <td>2.49</td>\n",
       "    </tr>\n",
       "    <tr>\n",
       "      <th>10</th>\n",
       "      <td>2.50</td>\n",
       "      <td>2.19</td>\n",
       "    </tr>\n",
       "    <tr>\n",
       "      <th>11</th>\n",
       "      <td>2.64</td>\n",
       "      <td>2.29</td>\n",
       "    </tr>\n",
       "    <tr>\n",
       "      <th>12</th>\n",
       "      <td>2.25</td>\n",
       "      <td>2.59</td>\n",
       "    </tr>\n",
       "    <tr>\n",
       "      <th>13</th>\n",
       "      <td>2.38</td>\n",
       "      <td>2.23</td>\n",
       "    </tr>\n",
       "    <tr>\n",
       "      <th>14</th>\n",
       "      <td>2.61</td>\n",
       "      <td>2.41</td>\n",
       "    </tr>\n",
       "    <tr>\n",
       "      <th>15</th>\n",
       "      <td>2.71</td>\n",
       "      <td>2.56</td>\n",
       "    </tr>\n",
       "    <tr>\n",
       "      <th>16</th>\n",
       "      <td>2.80</td>\n",
       "      <td>2.48</td>\n",
       "    </tr>\n",
       "    <tr>\n",
       "      <th>17</th>\n",
       "      <td>2.49</td>\n",
       "      <td>2.29</td>\n",
       "    </tr>\n",
       "    <tr>\n",
       "      <th>18</th>\n",
       "      <td>2.69</td>\n",
       "      <td>2.28</td>\n",
       "    </tr>\n",
       "    <tr>\n",
       "      <th>19</th>\n",
       "      <td>2.43</td>\n",
       "      <td>2.39</td>\n",
       "    </tr>\n",
       "    <tr>\n",
       "      <th>20</th>\n",
       "      <td>2.23</td>\n",
       "      <td>2.59</td>\n",
       "    </tr>\n",
       "    <tr>\n",
       "      <th>21</th>\n",
       "      <td>2.61</td>\n",
       "      <td>2.58</td>\n",
       "    </tr>\n",
       "    <tr>\n",
       "      <th>22</th>\n",
       "      <td>2.57</td>\n",
       "      <td>2.53</td>\n",
       "    </tr>\n",
       "    <tr>\n",
       "      <th>23</th>\n",
       "      <td>2.36</td>\n",
       "      <td>2.26</td>\n",
       "    </tr>\n",
       "    <tr>\n",
       "      <th>24</th>\n",
       "      <td>2.57</td>\n",
       "      <td>2.39</td>\n",
       "    </tr>\n",
       "    <tr>\n",
       "      <th>25</th>\n",
       "      <td>2.56</td>\n",
       "      <td>2.58</td>\n",
       "    </tr>\n",
       "    <tr>\n",
       "      <th>26</th>\n",
       "      <td>2.38</td>\n",
       "      <td>2.29</td>\n",
       "    </tr>\n",
       "    <tr>\n",
       "      <th>27</th>\n",
       "      <td>2.43</td>\n",
       "      <td>2.27</td>\n",
       "    </tr>\n",
       "    <tr>\n",
       "      <th>28</th>\n",
       "      <td>2.71</td>\n",
       "      <td>2.45</td>\n",
       "    </tr>\n",
       "    <tr>\n",
       "      <th>29</th>\n",
       "      <td>2.25</td>\n",
       "      <td>2.56</td>\n",
       "    </tr>\n",
       "    <tr>\n",
       "      <th>30</th>\n",
       "      <td>2.64</td>\n",
       "      <td>NaN</td>\n",
       "    </tr>\n",
       "    <tr>\n",
       "      <th>31</th>\n",
       "      <td>2.27</td>\n",
       "      <td>NaN</td>\n",
       "    </tr>\n",
       "    <tr>\n",
       "      <th>32</th>\n",
       "      <td>2.18</td>\n",
       "      <td>NaN</td>\n",
       "    </tr>\n",
       "  </tbody>\n",
       "</table>\n",
       "</div>"
      ],
      "text/plain": [
       "    California  Florida\n",
       "0         2.55     2.25\n",
       "1         2.36     2.40\n",
       "2         2.38     2.19\n",
       "3         2.43     2.39\n",
       "4         2.73     2.39\n",
       "5         2.67     2.50\n",
       "6         2.54     2.33\n",
       "7         2.24     2.33\n",
       "8         2.43     2.40\n",
       "9         2.80     2.49\n",
       "10        2.50     2.19\n",
       "11        2.64     2.29\n",
       "12        2.25     2.59\n",
       "13        2.38     2.23\n",
       "14        2.61     2.41\n",
       "15        2.71     2.56\n",
       "16        2.80     2.48\n",
       "17        2.49     2.29\n",
       "18        2.69     2.28\n",
       "19        2.43     2.39\n",
       "20        2.23     2.59\n",
       "21        2.61     2.58\n",
       "22        2.57     2.53\n",
       "23        2.36     2.26\n",
       "24        2.57     2.39\n",
       "25        2.56     2.58\n",
       "26        2.38     2.29\n",
       "27        2.43     2.27\n",
       "28        2.71     2.45\n",
       "29        2.25     2.56\n",
       "30        2.64      NaN\n",
       "31        2.27      NaN\n",
       "32        2.18      NaN"
      ]
     },
     "execution_count": 7,
     "metadata": {},
     "output_type": "execute_result"
    }
   ],
   "source": [
    "# task 2\n",
    "\n",
    "df = pd.read_csv('DS1_C5_S6_CityPrice_Data_Challenge.csv')\n",
    "df"
   ]
  },
  {
   "cell_type": "markdown",
   "id": "76287569",
   "metadata": {},
   "source": [
    "###### a)\n",
    "\n",
    "Ho: mean1 = mean2\n",
    "\n",
    "Ha: mean1 != mean2"
   ]
  },
  {
   "cell_type": "code",
   "execution_count": 8,
   "id": "84053434",
   "metadata": {},
   "outputs": [
    {
     "name": "stdout",
     "output_type": "stream",
     "text": [
      "The zcritical value is 2.5758293035489004 \n",
      " The zstat value is 2.6204113859127043 \n",
      " The pval is 0.008782375132784235\n"
     ]
    }
   ],
   "source": [
    "# b c and d\n",
    "\n",
    "alpha = 0.01\n",
    "calimean = df['California'].dropna().mean()\n",
    "florimean = df['Florida'].dropna().mean()\n",
    "calisize = len(df['California'].dropna())\n",
    "florisize = len(df['Florida'].dropna())\n",
    "calivar = df['California'].dropna().var()\n",
    "florivar = df['Florida'].dropna().var()\n",
    "\n",
    "zcrit = sts.norm.ppf(1 - alpha/2)\n",
    "zstat = ((calimean - florimean) - 0) / (st.sqrt(calivar/calisize + florivar/florisize))\n",
    "pval = sts.norm.sf(abs(zstat))*2\n",
    "\n",
    "print(f'The zcritical value is {zcrit} \\n The zstat value is {zstat} \\n The pval is {pval}')"
   ]
  },
  {
   "cell_type": "code",
   "execution_count": 9,
   "id": "63129805",
   "metadata": {},
   "outputs": [
    {
     "name": "stdout",
     "output_type": "stream",
     "text": [
      "Null hypothesis rejected\n"
     ]
    }
   ],
   "source": [
    "# e)\n",
    "\n",
    "if pval < alpha and zstat > zcrit:\n",
    "    print('Null hypothesis rejected')\n",
    "else:\n",
    "    print('Null hypothesis accepted')"
   ]
  },
  {
   "cell_type": "markdown",
   "id": "127112e6",
   "metadata": {},
   "source": [
    "###### task 3\n",
    "\n",
    "a)\n",
    "\n",
    "Ho: mean = 44\n",
    "\n",
    "Ha: mean != 44\n",
    "\n",
    "Since the question is of equals and not-equals of two values, we we use two tailed test"
   ]
  },
  {
   "cell_type": "code",
   "execution_count": 11,
   "id": "843630f7",
   "metadata": {},
   "outputs": [
    {
     "name": "stdout",
     "output_type": "stream",
     "text": [
      "zstat is 1.042624411075732\n",
      "zcrit is 1.959963984540054\n",
      "pval is 0.29712227883324194\n"
     ]
    }
   ],
   "source": [
    "# b, c, d\n",
    "\n",
    "\n",
    "alpha = 0.05\n",
    "\n",
    "popmean = 44\n",
    "sampmean = 45.1\n",
    "\n",
    "popstd = 8.7\n",
    "\n",
    "n = 68\n",
    "\n",
    "\n",
    "zstat = (sampmean - popmean) / (popstd/ st.sqrt(n))\n",
    "zcrit = sts.norm.ppf(1 - alpha/2)\n",
    "pval = sts.norm.sf(abs(zstat))*2\n",
    "print(f\"\"\"zstat is {zstat}\n",
    "zcrit is {zcrit}\n",
    "pval is {pval}\"\"\")"
   ]
  },
  {
   "cell_type": "code",
   "execution_count": 12,
   "id": "90da1e3c",
   "metadata": {},
   "outputs": [
    {
     "name": "stdout",
     "output_type": "stream",
     "text": [
      "Null hypothesis accepted\n"
     ]
    }
   ],
   "source": [
    "# e)\n",
    "\n",
    "if pval < alpha and zstat > zcrit:\n",
    "    print('Null hypothesis rejected')\n",
    "else:\n",
    "    print('Null hypothesis accepted')"
   ]
  }
 ],
 "metadata": {
  "kernelspec": {
   "display_name": "Python 3 (ipykernel)",
   "language": "python",
   "name": "python3"
  },
  "language_info": {
   "codemirror_mode": {
    "name": "ipython",
    "version": 3
   },
   "file_extension": ".py",
   "mimetype": "text/x-python",
   "name": "python",
   "nbconvert_exporter": "python",
   "pygments_lexer": "ipython3",
   "version": "3.9.12"
  }
 },
 "nbformat": 4,
 "nbformat_minor": 5
}
