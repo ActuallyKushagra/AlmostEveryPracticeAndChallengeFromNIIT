{
 "cells": [
  {
   "cell_type": "code",
   "execution_count": 2,
   "id": "64389524",
   "metadata": {},
   "outputs": [],
   "source": [
    "mynames = ['Joe', 'Zoe', 'world', 'Brad', 'Angelina', 'world', 'zuki', 'Tom', 'Paris', 'world', 'magic']"
   ]
  },
  {
   "cell_type": "code",
   "execution_count": 30,
   "id": "eb550e18",
   "metadata": {},
   "outputs": [
    {
     "name": "stdout",
     "output_type": "stream",
     "text": [
      "FALSE\n"
     ]
    }
   ],
   "source": [
    "# task 1, true if present, false if not\n",
    "for i in range(len(mynames)):\n",
    "    if(mynames[i] == 'USA'):\n",
    "        print(\"TRUE\")\n",
    "        break\n",
    "    else:\n",
    "        print(\"FALSE\")\n",
    "        break"
   ]
  },
  {
   "cell_type": "code",
   "execution_count": 19,
   "id": "60d7355e",
   "metadata": {},
   "outputs": [
    {
     "name": "stdout",
     "output_type": "stream",
     "text": [
      "3\n"
     ]
    }
   ],
   "source": [
    "# task 2, count of presense of word\n",
    "count = 0\n",
    "for i in range(len(mynames)):\n",
    "    if(mynames[i] == 'world'):\n",
    "        count += 1\n",
    "print(count)"
   ]
  },
  {
   "cell_type": "code",
   "execution_count": 28,
   "id": "18eaffcd",
   "metadata": {},
   "outputs": [
    {
     "name": "stdout",
     "output_type": "stream",
     "text": [
      "1 is odd\n",
      "2 is even\n",
      "3 is odd\n",
      "4 is even\n",
      "5 is odd\n",
      "6 is even\n",
      "7 is odd\n",
      "8 is even\n",
      "9 is odd\n",
      "10 is even\n",
      "11 is odd\n",
      "12 is even\n",
      "13 is odd\n",
      "14 is even\n",
      "15 is odd\n",
      "16 is even\n",
      "17 is odd\n",
      "18 is even\n",
      "19 is odd\n",
      "20 is even\n",
      "21 is odd\n",
      "22 is even\n",
      "23 is odd\n",
      "24 is even\n",
      "25 is odd\n",
      "26 is even\n",
      "27 is odd\n",
      "28 is even\n",
      "29 is odd\n",
      "There are 14 even numbers and  15 odd numbers in the given list\n"
     ]
    }
   ],
   "source": [
    "# task 3, count of even and odd numbers\n",
    "even_count = 0\n",
    "odd_count = 0\n",
    "dataset = list(range(1, 30))\n",
    "for i in range(len(dataset)):\n",
    "    if(dataset[i] % 2 == 0):\n",
    "        print(dataset[i], \"is even\")\n",
    "        even_count += 1\n",
    "    else:\n",
    "        print(dataset[i], \"is odd\")\n",
    "        odd_count += 1\n",
    "print(\"There are\", even_count, \"even numbers and \", odd_count, \"odd numbers in the given list\")"
   ]
  },
  {
   "cell_type": "code",
   "execution_count": 94,
   "id": "7d4133a8",
   "metadata": {},
   "outputs": [
    {
     "name": "stdout",
     "output_type": "stream",
     "text": [
      "[2, 4, 6, 8, 10]\n"
     ]
    }
   ],
   "source": [
    "# task 4, finds out first 5 even numbers and puts them in a new list\n",
    "newlist = []\n",
    "dataset = list(range(1, 30))  \n",
    "for i in range(len(dataset)):  \n",
    "    if(dataset[i] % 2 == 0):\n",
    "        newlist.append(dataset[i])\n",
    "        if(len(newlist) == 5):\n",
    "            break\n",
    "print(newlist)"
   ]
  },
  {
   "cell_type": "code",
   "execution_count": 49,
   "id": "9fc7860f",
   "metadata": {},
   "outputs": [
    {
     "name": "stdout",
     "output_type": "stream",
     "text": [
      "29\n",
      "27\n"
     ]
    }
   ],
   "source": [
    "# task 5, last two odd numbers\n",
    "count = 0\n",
    "dataset = list(range(1, 30))\n",
    "for i in dataset[::-1]:\n",
    "    if(i % 2 != 0):\n",
    "        print(i)\n",
    "        count += 1\n",
    "        if(count == 2):\n",
    "            break;"
   ]
  },
  {
   "cell_type": "code",
   "execution_count": 2,
   "id": "2bb92cb2",
   "metadata": {},
   "outputs": [
    {
     "name": "stdout",
     "output_type": "stream",
     "text": [
      "value of x = 1\n",
      "value of y = 2\n",
      "value of x = 3\n",
      "value of y = 4\n",
      "value of x = 5\n",
      "value of y = 6\n",
      "value of x = 7\n",
      "value of y = 8\n",
      "value of x = 9\n",
      "value of y = 10\n",
      "x before appending y =  [1, 3, 5, 7, 9, 2, 4, 6, 8, 10]\n",
      "enter string = Snake\n",
      "final value of x [1, 3, 5, 7, 9, 2, 4, 6, 8, 10, 'Snake']\n",
      "final value of y [2, 4, 6, 8, 10]\n"
     ]
    }
   ],
   "source": [
    "# task 6, \n",
    "x = []\n",
    "y = []\n",
    "for i in range(5):\n",
    "    x.append(int(input(\"value of x = \")))\n",
    "    y.append(int(input(\"value of y = \")))\n",
    "x.extend(y)\n",
    "print(\"x before appending y = \", x)\n",
    "x.append(input(\"enter string = \"))\n",
    "print(\"final value of x\", x)\n",
    "print(\"final value of y\", y)"
   ]
  },
  {
   "cell_type": "code",
   "execution_count": 92,
   "id": "a2447b26",
   "metadata": {},
   "outputs": [
    {
     "name": "stdout",
     "output_type": "stream",
     "text": [
      "[0, 1, 4, 9, 16, 25, 36, 49, 64, 81]\n",
      "[1521, 1444, 1369, 1296, 1225, 1156, 1089, 1024, 961, 900]\n"
     ]
    }
   ],
   "source": [
    "# task 7, first and last 10 elements where values are squares of numbers between 1 and 40\n",
    "\n",
    "lis1 = []\n",
    "for i in range(40):\n",
    "    i *= i\n",
    "    lis1.append(i)\n",
    "print(lis1[:10:])\n",
    "print(lis1[:-11:-1])"
   ]
  },
  {
   "cell_type": "code",
   "execution_count": 63,
   "id": "65c41c1c",
   "metadata": {},
   "outputs": [
    {
     "name": "stdout",
     "output_type": "stream",
     "text": [
      "enter num5\n",
      "5 X 1 = 5\n",
      "5 X 2 = 10\n",
      "5 X 3 = 15\n",
      "5 X 4 = 20\n",
      "5 X 5 = 25\n",
      "5 X 6 = 30\n",
      "5 X 7 = 35\n",
      "5 X 8 = 40\n",
      "5 X 9 = 45\n",
      "5 X 10 = 50\n"
     ]
    }
   ],
   "source": [
    "# task 8, table of number\n",
    "num = int(input(\"enter num\"))\n",
    "for i in range(1, 11):\n",
    "    print(num, \"X\", i, \"=\", num * i)"
   ]
  }
 ],
 "metadata": {
  "kernelspec": {
   "display_name": "Python 3 (ipykernel)",
   "language": "python",
   "name": "python3"
  },
  "language_info": {
   "codemirror_mode": {
    "name": "ipython",
    "version": 3
   },
   "file_extension": ".py",
   "mimetype": "text/x-python",
   "name": "python",
   "nbconvert_exporter": "python",
   "pygments_lexer": "ipython3",
   "version": "3.9.12"
  }
 },
 "nbformat": 4,
 "nbformat_minor": 5
}
