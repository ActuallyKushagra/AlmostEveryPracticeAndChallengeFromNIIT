{
 "cells": [
  {
   "cell_type": "code",
   "execution_count": 6,
   "id": "dc640f0b",
   "metadata": {},
   "outputs": [
    {
     "name": "stdout",
     "output_type": "stream",
     "text": [
      "Enter either A, B or C   =  A\n",
      "Python\n"
     ]
    }
   ],
   "source": [
    "# task 1, prints the appropriate word\n",
    "char = input(\"Enter either A, B or C   =  \")\n",
    "char2 = char.upper()\n",
    "if(char2 == \"A\"):\n",
    "    print(\"Python\")\n",
    "elif(char2 == \"B\"):\n",
    "    print(\"MySQL\")\n",
    "elif(char2 == \"C\"):\n",
    "    print(\"Excel\")\n",
    "else:\n",
    "    print(\"Holiday\")"
   ]
  },
  {
   "cell_type": "code",
   "execution_count": 8,
   "id": "7b2a6227",
   "metadata": {},
   "outputs": [
    {
     "name": "stdout",
     "output_type": "stream",
     "text": [
      "Enter number 1 = 100\n",
      "Enter number 2 = 200\n",
      "200 is greater than 100\n"
     ]
    }
   ],
   "source": [
    "# task 2, displays the largest\n",
    "num1 = int(input(\"Enter number 1 = \"))\n",
    "num2 = int(input(\"Enter number 2 = \"))\n",
    "if(num1 > num2):\n",
    "    print(num1, \"is greater than\", num2)\n",
    "else:\n",
    "    print(num2, \"is greater than\", num1)"
   ]
  },
  {
   "cell_type": "code",
   "execution_count": 43,
   "id": "29cc051c",
   "metadata": {},
   "outputs": [
    {
     "name": "stdout",
     "output_type": "stream",
     "text": [
      "Enter your basic salary 10000\n",
      "11500.0 is the final salary\n"
     ]
    }
   ],
   "source": [
    "# task 3, calculates the final salary\n",
    "basicSalary = float(input(\"Enter your basic salary = \"))\n",
    "if(basicSalary <= 4000 and basicSalary > 1):\n",
    "    finalSalary = basicSalary + ((10 / 100) * basicSalary) + ((5 / 100) * basicSalary) # +10% HRA, 5% DA, 0% tax\n",
    "    print(finalSalary, \"is the final salary\")\n",
    "elif(basicSalary > 4000 and basicSalary <= 10000):\n",
    "    finalSalary = basicSalary + ((20 / 100) * basicSalary) + ((10 / 100) * basicSalary) - ((15 / 100) * basicSalary) # +20% HRA, 10% DA, 15% tax\n",
    "    print(finalSalary, \"is the final salary\")\n",
    "elif(basicSalary > 10000):\n",
    "    finalSalary = basicSalary + ((25 / 100) * basicSalary) + ((15 / 100) * basicSalary) - ((20 / 100) * basicSalary) # +25% HRA, 15% DA, 20% tax\n",
    "    print(finalSalary, \"is the final salary\")\n",
    "else:\n",
    "    print(\"ERROR! Salary cannot be negative or 0\")"
   ]
  },
  {
   "cell_type": "code",
   "execution_count": 46,
   "id": "40a417e4",
   "metadata": {},
   "outputs": [
    {
     "name": "stdout",
     "output_type": "stream",
     "text": [
      "Enter text to be checked = wlem\n",
      "wlem  does not exists in the variable\n"
     ]
    }
   ],
   "source": [
    "# task 4, checks the presence of substring\n",
    "var = \"Python is an interpreted high-level general-purpose programming language. It's design philosophy emphasizes code redability with its use of significant indentation. It's language constructs as well as its object-oriented approach aim to help programmers write clear, logical code for small and large-scale projects.\"\n",
    "var2 = input(\"Enter text to be checked = \")\n",
    "if(var2 in var):\n",
    "    print(var2, \" exists in the variable\")\n",
    "else:\n",
    "    print(var2, \" does not exists in the variable\")"
   ]
  },
  {
   "cell_type": "code",
   "execution_count": 15,
   "id": "fbbd8a3b",
   "metadata": {},
   "outputs": [
    {
     "name": "stdout",
     "output_type": "stream",
     "text": [
      "Enter the character = a\n",
      "a is lowecase\n"
     ]
    }
   ],
   "source": [
    "# task 5, checks the upper or lowercase\n",
    "char = input(\"Enter the character = \")\n",
    "if(char == char.upper()):\n",
    "    print(char, \"is uppercase\")\n",
    "else:\n",
    "    print(char, \"is lowercase\")"
   ]
  },
  {
   "cell_type": "code",
   "execution_count": 24,
   "id": "225053b4",
   "metadata": {},
   "outputs": [
    {
     "name": "stdout",
     "output_type": "stream",
     "text": [
      "enter the character = A\n",
      "A is a vowel\n"
     ]
    }
   ],
   "source": [
    "# task 6 alt 1 (checks if input is vowel)\n",
    "set = {\"a\", \"e\", \"i\", \"o\", \"u\", \"s\"}\n",
    "inp = input(\"nter the character = \")\n",
    "if(inp.lower() in set):\n",
    "    print(inp, \"is a vowel\")\n",
    "else:\n",
    "    print(inp, \"is a consonant\")"
   ]
  },
  {
   "cell_type": "code",
   "execution_count": 31,
   "id": "93d86aec",
   "metadata": {},
   "outputs": [
    {
     "name": "stdout",
     "output_type": "stream",
     "text": [
      "Enter the character = b\n",
      "Entered character is a consonant\n"
     ]
    }
   ],
   "source": [
    "# task 6 alt 2 (checks if input is vowel)\n",
    "char = input(\"Enter the character = \").lower()\n",
    "if(char == \"a\" or char == \"e\" or char == \"i\" or char == \"o\" or char == \"u\"):\n",
    "    print(char, \"is a vowel\")\n",
    "else:\n",
    "    print(char, \"Entered character is a consonant\")"
   ]
  }
 ],
 "metadata": {
  "kernelspec": {
   "display_name": "Python 3 (ipykernel)",
   "language": "python",
   "name": "python3"
  },
  "language_info": {
   "codemirror_mode": {
    "name": "ipython",
    "version": 3
   },
   "file_extension": ".py",
   "mimetype": "text/x-python",
   "name": "python",
   "nbconvert_exporter": "python",
   "pygments_lexer": "ipython3",
   "version": "3.9.12"
  }
 },
 "nbformat": 4,
 "nbformat_minor": 5
}
