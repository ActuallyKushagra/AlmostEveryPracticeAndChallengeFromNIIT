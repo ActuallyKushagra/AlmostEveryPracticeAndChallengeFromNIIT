{
 "cells": [
  {
   "cell_type": "code",
   "execution_count": 43,
   "id": "4d496970",
   "metadata": {},
   "outputs": [],
   "source": [
    "import pandas as pd\n",
    "import numpy as np\n",
    "import matplotlib.pyplot as plt\n",
    "from scipy.stats import chi2\n",
    "from scipy.stats import norm\n",
    "from scipy.stats import chi2_contingency"
   ]
  },
  {
   "cell_type": "markdown",
   "id": "14943339",
   "metadata": {},
   "source": []
  },
  {
   "cell_type": "code",
   "execution_count": 20,
   "id": "9aa04ffe",
   "metadata": {},
   "outputs": [
    {
     "data": {
      "text/html": [
       "<div>\n",
       "<style scoped>\n",
       "    .dataframe tbody tr th:only-of-type {\n",
       "        vertical-align: middle;\n",
       "    }\n",
       "\n",
       "    .dataframe tbody tr th {\n",
       "        vertical-align: top;\n",
       "    }\n",
       "\n",
       "    .dataframe thead th {\n",
       "        text-align: right;\n",
       "    }\n",
       "</style>\n",
       "<table border=\"1\" class=\"dataframe\">\n",
       "  <thead>\n",
       "    <tr style=\"text-align: right;\">\n",
       "      <th></th>\n",
       "      <th>Frequency</th>\n",
       "    </tr>\n",
       "  </thead>\n",
       "  <tbody>\n",
       "    <tr>\n",
       "      <th>Exellent</th>\n",
       "      <td>24</td>\n",
       "    </tr>\n",
       "    <tr>\n",
       "      <th>Pretty Good</th>\n",
       "      <td>108</td>\n",
       "    </tr>\n",
       "    <tr>\n",
       "      <th>Only Fair</th>\n",
       "      <td>61</td>\n",
       "    </tr>\n",
       "    <tr>\n",
       "      <th>Poor</th>\n",
       "      <td>14</td>\n",
       "    </tr>\n",
       "  </tbody>\n",
       "</table>\n",
       "</div>"
      ],
      "text/plain": [
       "             Frequency\n",
       "Exellent            24\n",
       "Pretty Good        108\n",
       "Only Fair           61\n",
       "Poor                14"
      ]
     },
     "execution_count": 20,
     "metadata": {},
     "output_type": "execute_result"
    }
   ],
   "source": [
    "# task 1\n",
    "\n",
    "df = pd.DataFrame((24, 108, 61, 14),index = ('Exellent', 'Pretty Good', 'Only Fair', 'Poor'))\n",
    "df.rename(columns = {0: 'Frequency'}, inplace = True)\n",
    "df"
   ]
  },
  {
   "cell_type": "markdown",
   "id": "1f3c6d8a",
   "metadata": {},
   "source": [
    "###### task 1 a\n",
    "\n",
    "Ho: Customers are satisfied\n",
    "\n",
    "Ha: Customers are not satisfied"
   ]
  },
  {
   "cell_type": "code",
   "execution_count": 23,
   "id": "48a9ef65",
   "metadata": {},
   "outputs": [],
   "source": [
    "alpha = 0.05\n",
    "observed_data = [24, 108, 61, 14]\n",
    "n = len(observed_data)\n",
    "dof = n-1\n",
    "expected_frequency = sum(observed_data)/n"
   ]
  },
  {
   "cell_type": "code",
   "execution_count": 24,
   "id": "2e76d779",
   "metadata": {},
   "outputs": [
    {
     "data": {
      "text/plain": [
       "7.814727903251179"
      ]
     },
     "execution_count": 24,
     "metadata": {},
     "output_type": "execute_result"
    }
   ],
   "source": [
    "# b\n",
    "\n",
    "crit = chi2.ppf(1-alpha, dof)\n",
    "crit"
   ]
  },
  {
   "cell_type": "code",
   "execution_count": 30,
   "id": "dcb991e6",
   "metadata": {},
   "outputs": [
    {
     "name": "stdout",
     "output_type": "stream",
     "text": [
      "\n",
      "Critical val = 7.814727903251179\n",
      "P-value = 0.0\n",
      "Test-statistics = 105.21256038647343\n"
     ]
    }
   ],
   "source": [
    "# c\n",
    "\n",
    "chi = 0\n",
    "for i in observed_data:\n",
    "    chi += (i-expected_frequency)**2/expected_frequency\n",
    "    \n",
    "pval = norm.sf(abs(chi),dof)\n",
    "print(f\"\"\"\n",
    "Critical val = {crit}\n",
    "P-value = {pval}\n",
    "Test-statistics = {chi}\"\"\")"
   ]
  },
  {
   "cell_type": "code",
   "execution_count": 31,
   "id": "57a149ae",
   "metadata": {},
   "outputs": [
    {
     "name": "stdout",
     "output_type": "stream",
     "text": [
      "reject null hypothesis\n"
     ]
    }
   ],
   "source": [
    "# d\n",
    "\n",
    "if pval > alpha and chi<crit:\n",
    "    print('Null hypothesis accepted')\n",
    "else:\n",
    "    print('reject null hypothesis')"
   ]
  },
  {
   "cell_type": "code",
   "execution_count": 38,
   "id": "9421fa1c",
   "metadata": {},
   "outputs": [
    {
     "data": {
      "text/plain": [
       "<matplotlib.legend.Legend at 0x1f079a671c0>"
      ]
     },
     "execution_count": 38,
     "metadata": {},
     "output_type": "execute_result"
    },
    {
     "data": {
      "image/png": "[encoded data removed]",
      "text/plain": [
       "<Figure size 432x288 with 1 Axes>"
      ]
     },
     "metadata": {
      "needs_background": "light"
     },
     "output_type": "display_data"
    }
   ],
   "source": [
    "x = np.arange(0, 40)\n",
    "plt.plot(x, chi2.pdf(x, dof), label = 'Dof')\n",
    "plt.plot(x, chi2.pdf(x, df=dof-1), label = 'Dof - 1 (2)')\n",
    "plt.plot(x, chi2.pdf(x, df=dof-2), label = 'Dof - 2 (1)')\n",
    "plt.legend()"
   ]
  },
  {
   "cell_type": "markdown",
   "id": "5c66de27",
   "metadata": {},
   "source": [
    "###### task 2 a\n",
    "\n",
    "Ho: Bedroom count dependent on number of floors\n",
    "\n",
    "Ha: Bedroom count independent of number number of floors"
   ]
  },
  {
   "attachments": {
    "image.png": {
     "image/png": "[encoded data removed]"
    }
   },
   "cell_type": "markdown",
   "id": "8dcda296",
   "metadata": {},
   "source": [
    "![image.png](attachment:image.png)"
   ]
  },
  {
   "cell_type": "code",
   "execution_count": 44,
   "id": "b37274ce",
   "metadata": {},
   "outputs": [],
   "source": [
    "alpha = 0.1\n",
    "observed_data = [[116, 90], [101, 325], [57, 160]]"
   ]
  },
  {
   "cell_type": "code",
   "execution_count": 54,
   "id": "b25cc90c",
   "metadata": {},
   "outputs": [],
   "source": [
    "statistic , pval, df, expected = chi2_contingency(observed_data)"
   ]
  },
  {
   "cell_type": "code",
   "execution_count": 55,
   "id": "0406db22",
   "metadata": {},
   "outputs": [
    {
     "data": {
      "text/plain": [
       "4.605170185988092"
      ]
     },
     "execution_count": 55,
     "metadata": {},
     "output_type": "execute_result"
    }
   ],
   "source": [
    "# b\n",
    "\n",
    "crit = chi2.ppf(1-alpha, df)\n",
    "crit"
   ]
  },
  {
   "cell_type": "code",
   "execution_count": 56,
   "id": "eacc191a",
   "metadata": {},
   "outputs": [
    {
     "data": {
      "text/plain": [
       "array([[  72.14097843,  720.29768453],\n",
       "       [ 159.81345246, 1106.39592801],\n",
       "       [  62.64312707,  678.47037482]])"
      ]
     },
     "execution_count": 56,
     "metadata": {},
     "output_type": "execute_result"
    }
   ],
   "source": [
    "# c\n",
    "\n",
    "chis = 0\n",
    "for i in observed_data:\n",
    "    chis += (i-expected)**2/expected_frequency\n",
    "    \n",
    "chis"
   ]
  },
  {
   "cell_type": "code",
   "execution_count": 57,
   "id": "5673b6e7",
   "metadata": {},
   "outputs": [
    {
     "data": {
      "text/plain": [
       "72.33176626617666"
      ]
     },
     "execution_count": 57,
     "metadata": {},
     "output_type": "execute_result"
    }
   ],
   "source": [
    "statistic"
   ]
  },
  {
   "cell_type": "code",
   "execution_count": 58,
   "id": "4e9a0a52",
   "metadata": {},
   "outputs": [
    {
     "data": {
      "text/plain": [
       "1.9649727053475884e-16"
      ]
     },
     "execution_count": 58,
     "metadata": {},
     "output_type": "execute_result"
    }
   ],
   "source": [
    "pval"
   ]
  },
  {
   "cell_type": "code",
   "execution_count": 59,
   "id": "5646cdd7",
   "metadata": {},
   "outputs": [
    {
     "name": "stdout",
     "output_type": "stream",
     "text": [
      "reject null hypothesis\n"
     ]
    }
   ],
   "source": [
    "# d\n",
    "\n",
    "if pval > alpha and chis<crit:\n",
    "    print('Null hypothesis accepted')\n",
    "else:\n",
    "    print('reject null hypothesis')"
   ]
  },
  {
   "cell_type": "code",
   "execution_count": 63,
   "id": "3251063f",
   "metadata": {},
   "outputs": [
    {
     "data": {
      "text/plain": [
       "<matplotlib.legend.Legend at 0x1f079cd7ca0>"
      ]
     },
     "execution_count": 63,
     "metadata": {},
     "output_type": "execute_result"
    },
    {
     "data": {
      "image/png": "[encoded data removed]",
      "text/plain": [
       "<Figure size 432x288 with 1 Axes>"
      ]
     },
     "metadata": {
      "needs_background": "light"
     },
     "output_type": "display_data"
    }
   ],
   "source": [
    "x = np.arange(40)\n",
    "plt.plot(x, chi2.pdf(x, df), label = 'df')\n",
    "plt.plot(x, chi2.pdf(x, df-1), label = 'df-1')\n",
    "plt.legend()"
   ]
  },
  {
   "cell_type": "code",
   "execution_count": null,
   "id": "80759322",
   "metadata": {},
   "outputs": [],
   "source": []
  }
 ],
 "metadata": {
  "kernelspec": {
   "display_name": "Python 3 (ipykernel)",
   "language": "python",
   "name": "python3"
  },
  "language_info": {
   "codemirror_mode": {
    "name": "ipython",
    "version": 3
   },
   "file_extension": ".py",
   "mimetype": "text/x-python",
   "name": "python",
   "nbconvert_exporter": "python",
   "pygments_lexer": "ipython3",
   "version": "3.9.12"
  }
 },
 "nbformat": 4,
 "nbformat_minor": 5
}
