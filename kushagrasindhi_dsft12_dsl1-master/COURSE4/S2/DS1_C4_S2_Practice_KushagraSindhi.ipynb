{
 "cells": [
  {
   "cell_type": "code",
   "execution_count": 21,
   "metadata": {
    "id": "z3L8jnPQU5JZ"
   },
   "outputs": [],
   "source": [
    "import numpy as np\n",
    "import pandas as pd\n",
    "import warnings\n",
    "warnings.filterwarnings('ignore')"
   ]
  },
  {
   "cell_type": "code",
   "execution_count": 22,
   "metadata": {
    "colab": {
     "base_uri": "https://localhost:8080/"
    },
    "id": "J2h9-IAeVvaF",
    "outputId": "2c5fd5c8-b7e6-429a-9c29-d87d4d9d06e4"
   },
   "outputs": [
    {
     "data": {
      "text/plain": [
       "1001   NaN\n",
       "1002   NaN\n",
       "1003   NaN\n",
       "1004   NaN\n",
       "1005   NaN\n",
       "1006   NaN\n",
       "1007   NaN\n",
       "1008   NaN\n",
       "1009   NaN\n",
       "1010   NaN\n",
       "1011   NaN\n",
       "1012   NaN\n",
       "1013   NaN\n",
       "1014   NaN\n",
       "1015   NaN\n",
       "1016   NaN\n",
       "1017   NaN\n",
       "1018   NaN\n",
       "1019   NaN\n",
       "1020   NaN\n",
       "1021   NaN\n",
       "1022   NaN\n",
       "1023   NaN\n",
       "1024   NaN\n",
       "1025   NaN\n",
       "1026   NaN\n",
       "1027   NaN\n",
       "1028   NaN\n",
       "1029   NaN\n",
       "1030   NaN\n",
       "1031   NaN\n",
       "1032   NaN\n",
       "1033   NaN\n",
       "1034   NaN\n",
       "1035   NaN\n",
       "1036   NaN\n",
       "1037   NaN\n",
       "1038   NaN\n",
       "1039   NaN\n",
       "1040   NaN\n",
       "dtype: float64"
      ]
     },
     "execution_count": 22,
     "metadata": {},
     "output_type": "execute_result"
    }
   ],
   "source": [
    "# task 1 Generate student id for 40 students\n",
    "\n",
    "student_id=pd.Series(index=np.arange(1001,1041))\n",
    "student_id"
   ]
  },
  {
   "cell_type": "code",
   "execution_count": 52,
   "metadata": {
    "colab": {
     "base_uri": "https://localhost:8080/"
    },
    "id": "KlydegAaVws7",
    "outputId": "2577f2fa-c1a7-4438-ba24-1efb53fc619f"
   },
   "outputs": [
    {
     "data": {
      "text/plain": [
       "1001    63\n",
       "1002    75\n",
       "1003    74\n",
       "1004    90\n",
       "1005    53\n",
       "1006    78\n",
       "1007    63\n",
       "1008    82\n",
       "1009    54\n",
       "1010    59\n",
       "1011    73\n",
       "1012    84\n",
       "1013    53\n",
       "1014    72\n",
       "1015    93\n",
       "1016    57\n",
       "1017    67\n",
       "1018    62\n",
       "1019    58\n",
       "1020    80\n",
       "1021    70\n",
       "1022    77\n",
       "1023    82\n",
       "1024    52\n",
       "1025    78\n",
       "1026    87\n",
       "1027    53\n",
       "1028    70\n",
       "1029    84\n",
       "1030    50\n",
       "1031    90\n",
       "1032    91\n",
       "1033    71\n",
       "1034    52\n",
       "1035    53\n",
       "1036    92\n",
       "1037    55\n",
       "1038    88\n",
       "1039    82\n",
       "1040    61\n",
       "dtype: int64"
      ]
     },
     "execution_count": 52,
     "metadata": {},
     "output_type": "execute_result"
    }
   ],
   "source": [
    "# t2 assign marks for those students\n",
    "\n",
    "MathL1Marks=np.random.randint(50,95,size=40)\n",
    "mathRC=pd.Series(MathL1Marks,index=np.arange(1001,1041))\n",
    "mathRC"
   ]
  },
  {
   "cell_type": "code",
   "execution_count": 53,
   "metadata": {
    "colab": {
     "base_uri": "https://localhost:8080/"
    },
    "id": "uh50o_BCV0Iz",
    "outputId": "97042cc2-27ff-4701-87aa-c78755ab4872"
   },
   "outputs": [
    {
     "data": {
      "text/plain": [
       "1001    43\n",
       "1002    82\n",
       "1003    41\n",
       "1004    56\n",
       "1005    72\n",
       "1006    79\n",
       "1007    57\n",
       "1008    40\n",
       "1009    77\n",
       "1010    74\n",
       "1011    63\n",
       "1012    52\n",
       "1013    58\n",
       "1014    74\n",
       "1015    71\n",
       "1016    80\n",
       "1017    41\n",
       "1018    48\n",
       "1019    70\n",
       "1020    91\n",
       "1021    80\n",
       "1022    70\n",
       "1023    87\n",
       "1024    45\n",
       "1025    46\n",
       "1026    68\n",
       "1027    77\n",
       "1028    70\n",
       "1029    85\n",
       "1030    59\n",
       "1031    40\n",
       "1032    71\n",
       "1033    41\n",
       "1034    64\n",
       "1035    63\n",
       "1036    48\n",
       "1037    72\n",
       "1038    65\n",
       "1039    76\n",
       "1040    89\n",
       "dtype: int64"
      ]
     },
     "execution_count": 53,
     "metadata": {},
     "output_type": "execute_result"
    }
   ],
   "source": [
    "# t3 assign physics marks\n",
    "\n",
    "PhyL1Marks=np.random.randint(40,95,size=40)\n",
    "phyRC=pd.Series(PhyL1Marks,index=np.arange(1001,1041))\n",
    "phyRC"
   ]
  },
  {
   "cell_type": "code",
   "execution_count": 54,
   "metadata": {
    "colab": {
     "base_uri": "https://localhost:8080/"
    },
    "id": "c2KJ3rVhV2PE",
    "outputId": "b4692e35-842f-4e05-f178-14b4dfea79c1"
   },
   "outputs": [
    {
     "name": "stdout",
     "output_type": "stream",
     "text": [
      "1002    157\n",
      "1006    157\n",
      "1015    164\n",
      "1020    171\n",
      "1023    169\n",
      "1026    155\n",
      "1029    169\n",
      "1032    162\n",
      "1038    153\n",
      "1039    158\n",
      "dtype: int64\n"
     ]
    },
    {
     "data": {
      "text/plain": [
       "10"
      ]
     },
     "execution_count": 54,
     "metadata": {},
     "output_type": "execute_result"
    }
   ],
   "source": [
    "# t4 students who are eligible for level 2\n",
    "\n",
    "L1Total=(mathRC.add(phyRC))\n",
    "L1Total\n",
    "\n",
    "L1Eligible=L1Total[L1Total>150]\n",
    "print(L1Eligible)\n",
    "np.size(L1Eligible)"
   ]
  },
  {
   "cell_type": "code",
   "execution_count": 56,
   "metadata": {
    "colab": {
     "base_uri": "https://localhost:8080/"
    },
    "id": "Ypl6GanvV4Oc",
    "outputId": "8a7a6bd7-044d-44a4-b0a7-71ae2d718c9a"
   },
   "outputs": [
    {
     "name": "stdout",
     "output_type": "stream",
     "text": [
      "1002    56\n",
      "1006    77\n",
      "1015    65\n",
      "1020    90\n",
      "1023    79\n",
      "1026    76\n",
      "1029    77\n",
      "1032    97\n",
      "1038    70\n",
      "1039    94\n",
      "dtype: int64\n"
     ]
    },
    {
     "data": {
      "text/plain": [
       "10"
      ]
     },
     "execution_count": 56,
     "metadata": {},
     "output_type": "execute_result"
    }
   ],
   "source": [
    "# task 5 part 1 -  assign marks for students in level 2 for maths and physcis\n",
    "\n",
    "MathL2Marks=np.random.randint(50,100,size=10)\n",
    "mathRC2=pd.Series(MathL2Marks,index=L1Eligible.index)\n",
    "print(mathRC2)\n",
    "np.size(mathRC2)"
   ]
  },
  {
   "cell_type": "code",
   "execution_count": 58,
   "metadata": {
    "colab": {
     "base_uri": "https://localhost:8080/"
    },
    "id": "r0mLBSkyV6d7",
    "outputId": "4e8c781b-a038-4e57-9f5e-1ddd08259073"
   },
   "outputs": [
    {
     "data": {
      "text/plain": [
       "1002    87\n",
       "1006    94\n",
       "1015    73\n",
       "1020    51\n",
       "1023    54\n",
       "1026    98\n",
       "1029    80\n",
       "1032    98\n",
       "1038    93\n",
       "1039    91\n",
       "dtype: int64"
      ]
     },
     "execution_count": 58,
     "metadata": {},
     "output_type": "execute_result"
    }
   ],
   "source": [
    "# task 5 part 2\n",
    "\n",
    "phyRC2=np.random.randint(30,100,size=10)\n",
    "phyRC2=pd.Series(phyRC2,index=L1Eligible.index)\n",
    "phyRC2"
   ]
  },
  {
   "cell_type": "code",
   "execution_count": 59,
   "metadata": {
    "colab": {
     "base_uri": "https://localhost:8080/"
    },
    "id": "tpC8_qyAWE8r",
    "outputId": "90028a71-0abb-4729-9ea6-838fc3ff8e25"
   },
   "outputs": [
    {
     "data": {
      "text/plain": [
       "1002    300\n",
       "1006    328\n",
       "1015    302\n",
       "1020    312\n",
       "1023    302\n",
       "1026    329\n",
       "1029    326\n",
       "1032    357\n",
       "1038    316\n",
       "1039    343\n",
       "dtype: int64"
      ]
     },
     "execution_count": 59,
     "metadata": {},
     "output_type": "execute_result"
    }
   ],
   "source": [
    "# task 5 part 3 - Totalling scores of level 1 and level 2\n",
    "\n",
    "L2Total=(mathRC2.add(phyRC2))\n",
    "L2Total\n",
    "L1L2Eligible=L1Eligible+L2Total\n",
    "L1L2Eligible"
   ]
  },
  {
   "cell_type": "code",
   "execution_count": 60,
   "metadata": {
    "colab": {
     "base_uri": "https://localhost:8080/"
    },
    "id": "ZpbGWUroWoxc",
    "outputId": "c924ee15-0d40-446f-8cb0-9e9d42b6d178"
   },
   "outputs": [
    {
     "name": "stdout",
     "output_type": "stream",
     "text": [
      "1006    328\n",
      "1015    302\n",
      "1020    312\n",
      "1023    302\n",
      "1026    329\n",
      "1029    326\n",
      "1032    357\n",
      "1038    316\n",
      "1039    343\n",
      "dtype: int64\n"
     ]
    },
    {
     "data": {
      "text/plain": [
       "9"
      ]
     },
     "execution_count": 60,
     "metadata": {},
     "output_type": "execute_result"
    }
   ],
   "source": [
    "# task 6 students who are eligible for the screening test, marks > 300\n",
    "\n",
    "TestEligible = L1L2Eligible[L1L2Eligible>300]\n",
    "print(TestEligible)\n",
    "np.size(TestEligible)"
   ]
  },
  {
   "cell_type": "code",
   "execution_count": 62,
   "metadata": {
    "colab": {
     "base_uri": "https://localhost:8080/"
    },
    "id": "gRQyRSBkWtYM",
    "outputId": "533fc8c7-4a58-41c2-d7fb-545213bc5b73"
   },
   "outputs": [
    {
     "name": "stdout",
     "output_type": "stream",
     "text": [
      "1006    243.4\n",
      "1015    211.4\n",
      "1020    202.8\n",
      "1023    195.8\n",
      "1026    230.6\n",
      "1029    219.8\n",
      "1032    240.6\n",
      "1038    223.0\n",
      "1039    227.8\n",
      "dtype: float64\n"
     ]
    },
    {
     "data": {
      "text/plain": [
       "9"
      ]
     },
     "execution_count": 62,
     "metadata": {},
     "output_type": "execute_result"
    }
   ],
   "source": [
    "# task 7 Assign marks scored in the screening test and evaluate 40% of level 2 score + 60% of screening\n",
    "\n",
    "MathTest=np.random.randint(50,95,size=9)\n",
    "PhysicsTest=np.random.randint(50,95,size=9)\n",
    "\n",
    "\n",
    "mathST=pd.Series(MathTest,index=TestEligible.index)\n",
    "physicsST=pd.Series(PhysicsTest,index=TestEligible.index)\n",
    "\n",
    "STtotal=(mathST+physicsST)\n",
    "\n",
    "temp= (TestEligible.mul(0.4))\n",
    "\n",
    "temp2=(STtotal*0.6)\n",
    "\n",
    "marks=(temp.add(temp2))\n",
    "print(marks)\n",
    "np.size(marks)"
   ]
  },
  {
   "cell_type": "code",
   "execution_count": 66,
   "metadata": {
    "colab": {
     "base_uri": "https://localhost:8080/"
    },
    "id": "6c4Mesy0WyXt",
    "outputId": "4359c7d5-08d3-486b-bfc7-81e4f32443d8"
   },
   "outputs": [
    {
     "name": "stdout",
     "output_type": "stream",
     "text": [
      "1006    243.4\n",
      "1015    211.4\n",
      "1020    202.8\n",
      "1023    195.8\n",
      "1026    230.6\n",
      "1029    219.8\n",
      "1032    240.6\n",
      "1038    223.0\n",
      "1039    227.8\n",
      "dtype: float64\n"
     ]
    },
    {
     "data": {
      "text/plain": [
       "9"
      ]
     },
     "execution_count": 66,
     "metadata": {},
     "output_type": "execute_result"
    }
   ],
   "source": [
    "# task 8 Students who are eligible for test, marks > 75%\n",
    "# This cell and beyond not working on anaconda/ jupyter. Works on google collab\n",
    "\n",
    "MathL1L2Marks=(mathRC[TestEligible.index] + mathRC2[TestEligible.index])\n",
    "\n",
    "\n",
    "MathFinal=(MathL1L2Marks + MathTest)\n",
    "\n",
    "PassMarks =(MathFinal.mul(0.75))\n",
    "EligibleMarks=marks[MathFinal>PassMarks]\n",
    "print(EligibleMarks)\n",
    "np.size(EligibleMarks)"
   ]
  },
  {
   "cell_type": "code",
   "execution_count": 65,
   "metadata": {
    "colab": {
     "base_uri": "https://localhost:8080/",
     "height": 384
    },
    "id": "r3auAAL3W-jj",
    "outputId": "f8c0c5ac-4ac0-48e3-a419-58435b0c7e8d"
   },
   "outputs": [
    {
     "name": "stdout",
     "output_type": "stream",
     "text": [
      "lowest marks =   195.8\n",
      "highest marks =  243.40000000000003\n",
      "____________________________________________________\n"
     ]
    },
    {
     "data": {
      "text/html": [
       "\n",
       "  <div id=\"df-f45340ed-2cf5-47bb-a1bd-d446a127418d\">\n",
       "    <div class=\"colab-df-container\">\n",
       "      <div>\n",
       "<style scoped>\n",
       "    .dataframe tbody tr th:only-of-type {\n",
       "        vertical-align: middle;\n",
       "    }\n",
       "\n",
       "    .dataframe tbody tr th {\n",
       "        vertical-align: top;\n",
       "    }\n",
       "\n",
       "    .dataframe thead th {\n",
       "        text-align: right;\n",
       "    }\n",
       "</style>\n",
       "<table border=\"1\" class=\"dataframe\">\n",
       "  <thead>\n",
       "    <tr style=\"text-align: right;\">\n",
       "      <th></th>\n",
       "      <th>EligibleMarks</th>\n",
       "    </tr>\n",
       "  </thead>\n",
       "  <tbody>\n",
       "    <tr>\n",
       "      <th>1006</th>\n",
       "      <td>243.4</td>\n",
       "    </tr>\n",
       "    <tr>\n",
       "      <th>1015</th>\n",
       "      <td>211.4</td>\n",
       "    </tr>\n",
       "    <tr>\n",
       "      <th>1020</th>\n",
       "      <td>202.8</td>\n",
       "    </tr>\n",
       "    <tr>\n",
       "      <th>1023</th>\n",
       "      <td>195.8</td>\n",
       "    </tr>\n",
       "    <tr>\n",
       "      <th>1026</th>\n",
       "      <td>230.6</td>\n",
       "    </tr>\n",
       "    <tr>\n",
       "      <th>1029</th>\n",
       "      <td>219.8</td>\n",
       "    </tr>\n",
       "    <tr>\n",
       "      <th>1032</th>\n",
       "      <td>240.6</td>\n",
       "    </tr>\n",
       "    <tr>\n",
       "      <th>1038</th>\n",
       "      <td>223.0</td>\n",
       "    </tr>\n",
       "    <tr>\n",
       "      <th>1039</th>\n",
       "      <td>227.8</td>\n",
       "    </tr>\n",
       "  </tbody>\n",
       "</table>\n",
       "</div>\n",
       "      <button class=\"colab-df-convert\" onclick=\"convertToInteractive('df-f45340ed-2cf5-47bb-a1bd-d446a127418d')\"\n",
       "              title=\"Convert this dataframe to an interactive table.\"\n",
       "              style=\"display:none;\">\n",
       "        \n",
       "  <svg xmlns=\"http://www.w3.org/2000/svg\" height=\"24px\"viewBox=\"0 0 24 24\"\n",
       "       width=\"24px\">\n",
       "    <path d=\"M0 0h24v24H0V0z\" fill=\"none\"/>\n",
       "    <path d=\"M18.56 5.44l.94 2.06.94-2.06 2.06-.94-2.06-.94-.94-2.06-.94 2.06-2.06.94zm-11 1L8.5 8.5l.94-2.06 2.06-.94-2.06-.94L8.5 2.5l-.94 2.06-2.06.94zm10 10l.94 2.06.94-2.06 2.06-.94-2.06-.94-.94-2.06-.94 2.06-2.06.94z\"/><path d=\"M17.41 7.96l-1.37-1.37c-.4-.4-.92-.59-1.43-.59-.52 0-1.04.2-1.43.59L10.3 9.45l-7.72 7.72c-.78.78-.78 2.05 0 2.83L4 21.41c.39.39.9.59 1.41.59.51 0 1.02-.2 1.41-.59l7.78-7.78 2.81-2.81c.8-.78.8-2.07 0-2.86zM5.41 20L4 18.59l7.72-7.72 1.47 1.35L5.41 20z\"/>\n",
       "  </svg>\n",
       "      </button>\n",
       "      \n",
       "  <style>\n",
       "    .colab-df-container {\n",
       "      display:flex;\n",
       "      flex-wrap:wrap;\n",
       "      gap: 12px;\n",
       "    }\n",
       "\n",
       "    .colab-df-convert {\n",
       "      background-color: #E8F0FE;\n",
       "      border: none;\n",
       "      border-radius: 50%;\n",
       "      cursor: pointer;\n",
       "      display: none;\n",
       "      fill: #1967D2;\n",
       "      height: 32px;\n",
       "      padding: 0 0 0 0;\n",
       "      width: 32px;\n",
       "    }\n",
       "\n",
       "    .colab-df-convert:hover {\n",
       "      background-color: #E2EBFA;\n",
       "      box-shadow: 0px 1px 2px rgba(60, 64, 67, 0.3), 0px 1px 3px 1px rgba(60, 64, 67, 0.15);\n",
       "      fill: #174EA6;\n",
       "    }\n",
       "\n",
       "    [theme=dark] .colab-df-convert {\n",
       "      background-color: #3B4455;\n",
       "      fill: #D2E3FC;\n",
       "    }\n",
       "\n",
       "    [theme=dark] .colab-df-convert:hover {\n",
       "      background-color: #434B5C;\n",
       "      box-shadow: 0px 1px 3px 1px rgba(0, 0, 0, 0.15);\n",
       "      filter: drop-shadow(0px 1px 2px rgba(0, 0, 0, 0.3));\n",
       "      fill: #FFFFFF;\n",
       "    }\n",
       "  </style>\n",
       "\n",
       "      <script>\n",
       "        const buttonEl =\n",
       "          document.querySelector('#df-f45340ed-2cf5-47bb-a1bd-d446a127418d button.colab-df-convert');\n",
       "        buttonEl.style.display =\n",
       "          google.colab.kernel.accessAllowed ? 'block' : 'none';\n",
       "\n",
       "        async function convertToInteractive(key) {\n",
       "          const element = document.querySelector('#df-f45340ed-2cf5-47bb-a1bd-d446a127418d');\n",
       "          const dataTable =\n",
       "            await google.colab.kernel.invokeFunction('convertToInteractive',\n",
       "                                                     [key], {});\n",
       "          if (!dataTable) return;\n",
       "\n",
       "          const docLinkHtml = 'Like what you see? Visit the ' +\n",
       "            '<a target=\"_blank\" href=https://colab.research.google.com/notebooks/data_table.ipynb>data table notebook</a>'\n",
       "            + ' to learn more about interactive tables.';\n",
       "          element.innerHTML = '';\n",
       "          dataTable['output_type'] = 'display_data';\n",
       "          await google.colab.output.renderOutput(dataTable, element);\n",
       "          const docLink = document.createElement('div');\n",
       "          docLink.innerHTML = docLinkHtml;\n",
       "          element.appendChild(docLink);\n",
       "        }\n",
       "      </script>\n",
       "    </div>\n",
       "  </div>\n",
       "  "
      ],
      "text/plain": [
       "      EligibleMarks\n",
       "1006          243.4\n",
       "1015          211.4\n",
       "1020          202.8\n",
       "1023          195.8\n",
       "1026          230.6\n",
       "1029          219.8\n",
       "1032          240.6\n",
       "1038          223.0\n",
       "1039          227.8"
      ]
     },
     "execution_count": 65,
     "metadata": {},
     "output_type": "execute_result"
    }
   ],
   "source": [
    "# task 9 push the calculated data into the dataframe\n",
    "\n",
    "data = pd.DataFrame(EligibleMarks)\n",
    "EligibleMarks\n",
    "data[0] = EligibleMarks\n",
    "data.columns = [\"EligibleMarks\"]\n",
    "print(\"lowest marks =  \", min(data.EligibleMarks))\n",
    "print(\"highest marks = \", max(data.EligibleMarks))\n",
    "print(\"____________________________________________________\")\n",
    "data"
   ]
  },
  {
   "cell_type": "code",
   "execution_count": null,
   "metadata": {
    "id": "2gOJRiJaXHfr"
   },
   "outputs": [],
   "source": []
  }
 ],
 "metadata": {
  "colab": {
   "provenance": []
  },
  "kernelspec": {
   "display_name": "Python 3 (ipykernel)",
   "language": "python",
   "name": "python3"
  },
  "language_info": {
   "codemirror_mode": {
    "name": "ipython",
    "version": 3
   },
   "file_extension": ".py",
   "mimetype": "text/x-python",
   "name": "python",
   "nbconvert_exporter": "python",
   "pygments_lexer": "ipython3",
   "version": "3.9.12"
  }
 },
 "nbformat": 4,
 "nbformat_minor": 1
}
